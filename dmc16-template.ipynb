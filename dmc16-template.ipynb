{
 "cells": [
  {
   "cell_type": "markdown",
   "metadata": {},
   "source": [
    "## Notebook (your name here)"
   ]
  },
  {
   "cell_type": "code",
   "execution_count": 26,
   "metadata": {
    "collapsed": false
   },
   "outputs": [],
   "source": [
    "from __future__ import division\n",
    "\n",
    "label='returnQuantity'\n",
    "\n",
    "import pandas as pd\n",
    "import numpy as np\n",
    "from sklearn.ensemble import RandomForestClassifier\n",
    "from sklearn.cross_validation import train_test_split\n",
    "from sklearn.metrics import confusion_matrix\n",
    "%matplotlib inline\n",
    "from sklearn.preprocessing import LabelEncoder\n",
    "from operator import itemgetter\n",
    "#from sklearn.externals import joblib\n",
    "\n",
    "def dmc_error(returnQuantity, prediction):\n",
    "    #∑ |returnQuantity𝑖 − prediction𝑖 |\n",
    "    return np.sum(np.abs( np.subtract(returnQuantity, prediction) ))\n",
    "\n",
    "def feature_importances(Xdf, rfc):\n",
    "    pair=zip(Xdf.columns, rfc.feature_importances_)\n",
    "    t1=[i for i in pair]; t1\n",
    "    return sorted(t1, key=itemgetter(1))"
   ]
  },
  {
   "cell_type": "code",
   "execution_count": 4,
   "metadata": {
    "collapsed": false
   },
   "outputs": [
    {
     "data": {
      "text/html": [
       "<div>\n",
       "<table border=\"1\" class=\"dataframe\">\n",
       "  <thead>\n",
       "    <tr style=\"text-align: right;\">\n",
       "      <th></th>\n",
       "      <th>customerID</th>\n",
       "      <th>orderID</th>\n",
       "      <th>orderDate</th>\n",
       "      <th>articleID</th>\n",
       "      <th>colorCode</th>\n",
       "      <th>sizeCode</th>\n",
       "      <th>productGroup</th>\n",
       "      <th>quantity</th>\n",
       "      <th>price</th>\n",
       "      <th>rrp</th>\n",
       "      <th>...</th>\n",
       "      <th>total_order</th>\n",
       "      <th>budget</th>\n",
       "      <th>articleID_prob</th>\n",
       "      <th>colorCode_prob</th>\n",
       "      <th>customerID_prob</th>\n",
       "      <th>sizeCode_prob</th>\n",
       "      <th>paymentMethod_prob</th>\n",
       "      <th>after_voucher</th>\n",
       "      <th>order_order</th>\n",
       "      <th>choice_order</th>\n",
       "    </tr>\n",
       "  </thead>\n",
       "  <tbody>\n",
       "    <tr>\n",
       "      <th>0</th>\n",
       "      <td>c1000001</td>\n",
       "      <td>a1001465</td>\n",
       "      <td>2014-01-03</td>\n",
       "      <td>i1003077</td>\n",
       "      <td>3999</td>\n",
       "      <td>I</td>\n",
       "      <td>17.0</td>\n",
       "      <td>1</td>\n",
       "      <td>27.984375</td>\n",
       "      <td>27.984375</td>\n",
       "      <td>...</td>\n",
       "      <td>27.984375</td>\n",
       "      <td>69.625</td>\n",
       "      <td>0.509766</td>\n",
       "      <td>0.510254</td>\n",
       "      <td>0.478516</td>\n",
       "      <td>0.374268</td>\n",
       "      <td>0.560547</td>\n",
       "      <td>27.984375</td>\n",
       "      <td>0</td>\n",
       "      <td>0</td>\n",
       "    </tr>\n",
       "    <tr>\n",
       "      <th>1</th>\n",
       "      <td>c1000001</td>\n",
       "      <td>a1004977</td>\n",
       "      <td>2014-01-07</td>\n",
       "      <td>i1003082</td>\n",
       "      <td>1999</td>\n",
       "      <td>I</td>\n",
       "      <td>17.0</td>\n",
       "      <td>1</td>\n",
       "      <td>25.984375</td>\n",
       "      <td>25.984375</td>\n",
       "      <td>...</td>\n",
       "      <td>25.984375</td>\n",
       "      <td>69.625</td>\n",
       "      <td>0.427734</td>\n",
       "      <td>0.522461</td>\n",
       "      <td>0.478516</td>\n",
       "      <td>0.374268</td>\n",
       "      <td>0.560547</td>\n",
       "      <td>25.984375</td>\n",
       "      <td>1</td>\n",
       "      <td>0</td>\n",
       "    </tr>\n",
       "    <tr>\n",
       "      <th>2</th>\n",
       "      <td>c1000001</td>\n",
       "      <td>a1012517</td>\n",
       "      <td>2014-01-15</td>\n",
       "      <td>i1001229</td>\n",
       "      <td>1993</td>\n",
       "      <td>38</td>\n",
       "      <td>4.0</td>\n",
       "      <td>1</td>\n",
       "      <td>40.000000</td>\n",
       "      <td>40.000000</td>\n",
       "      <td>...</td>\n",
       "      <td>40.000000</td>\n",
       "      <td>69.625</td>\n",
       "      <td>0.473145</td>\n",
       "      <td>0.471680</td>\n",
       "      <td>0.478516</td>\n",
       "      <td>0.535645</td>\n",
       "      <td>0.560547</td>\n",
       "      <td>40.000000</td>\n",
       "      <td>2</td>\n",
       "      <td>0</td>\n",
       "    </tr>\n",
       "    <tr>\n",
       "      <th>3</th>\n",
       "      <td>c1000001</td>\n",
       "      <td>a1013536</td>\n",
       "      <td>2014-01-16</td>\n",
       "      <td>i1002531</td>\n",
       "      <td>1995</td>\n",
       "      <td>38</td>\n",
       "      <td>15.0</td>\n",
       "      <td>1</td>\n",
       "      <td>60.000000</td>\n",
       "      <td>60.000000</td>\n",
       "      <td>...</td>\n",
       "      <td>120.000000</td>\n",
       "      <td>69.625</td>\n",
       "      <td>0.502930</td>\n",
       "      <td>0.541992</td>\n",
       "      <td>0.478516</td>\n",
       "      <td>0.535645</td>\n",
       "      <td>0.560547</td>\n",
       "      <td>120.000000</td>\n",
       "      <td>3</td>\n",
       "      <td>0</td>\n",
       "    </tr>\n",
       "    <tr>\n",
       "      <th>4</th>\n",
       "      <td>c1000001</td>\n",
       "      <td>a1013536</td>\n",
       "      <td>2014-01-16</td>\n",
       "      <td>i1002531</td>\n",
       "      <td>1999</td>\n",
       "      <td>40</td>\n",
       "      <td>15.0</td>\n",
       "      <td>1</td>\n",
       "      <td>60.000000</td>\n",
       "      <td>60.000000</td>\n",
       "      <td>...</td>\n",
       "      <td>120.000000</td>\n",
       "      <td>69.625</td>\n",
       "      <td>0.502930</td>\n",
       "      <td>0.522461</td>\n",
       "      <td>0.478516</td>\n",
       "      <td>0.529297</td>\n",
       "      <td>0.560547</td>\n",
       "      <td>120.000000</td>\n",
       "      <td>4</td>\n",
       "      <td>1</td>\n",
       "    </tr>\n",
       "  </tbody>\n",
       "</table>\n",
       "<p>5 rows × 27 columns</p>\n",
       "</div>"
      ],
      "text/plain": [
       "  customerID   orderID   orderDate articleID  colorCode sizeCode  \\\n",
       "0   c1000001  a1001465  2014-01-03  i1003077       3999        I   \n",
       "1   c1000001  a1004977  2014-01-07  i1003082       1999        I   \n",
       "2   c1000001  a1012517  2014-01-15  i1001229       1993       38   \n",
       "3   c1000001  a1013536  2014-01-16  i1002531       1995       38   \n",
       "4   c1000001  a1013536  2014-01-16  i1002531       1999       40   \n",
       "\n",
       "   productGroup  quantity      price        rrp      ...      total_order  \\\n",
       "0          17.0         1  27.984375  27.984375      ...        27.984375   \n",
       "1          17.0         1  25.984375  25.984375      ...        25.984375   \n",
       "2           4.0         1  40.000000  40.000000      ...        40.000000   \n",
       "3          15.0         1  60.000000  60.000000      ...       120.000000   \n",
       "4          15.0         1  60.000000  60.000000      ...       120.000000   \n",
       "\n",
       "   budget  articleID_prob colorCode_prob  customerID_prob sizeCode_prob  \\\n",
       "0  69.625        0.509766       0.510254         0.478516      0.374268   \n",
       "1  69.625        0.427734       0.522461         0.478516      0.374268   \n",
       "2  69.625        0.473145       0.471680         0.478516      0.535645   \n",
       "3  69.625        0.502930       0.541992         0.478516      0.535645   \n",
       "4  69.625        0.502930       0.522461         0.478516      0.529297   \n",
       "\n",
       "   paymentMethod_prob  after_voucher  order_order  choice_order  \n",
       "0            0.560547      27.984375            0             0  \n",
       "1            0.560547      25.984375            1             0  \n",
       "2            0.560547      40.000000            2             0  \n",
       "3            0.560547     120.000000            3             0  \n",
       "4            0.560547     120.000000            4             1  \n",
       "\n",
       "[5 rows x 27 columns]"
      ]
     },
     "execution_count": 4,
     "metadata": {},
     "output_type": "execute_result"
    }
   ],
   "source": [
    "# Pakai make_datasets_train_only. Buat sendiri juga boleh\n",
    "\n",
    "df=pd.read_csv('train_gue.csv'); df.head()"
   ]
  },
  {
   "cell_type": "code",
   "execution_count": null,
   "metadata": {
    "collapsed": true
   },
   "outputs": [],
   "source": [
    "# Tambah metodemu di sini atau terserah di manapun!"
   ]
  },
  {
   "cell_type": "code",
   "execution_count": 5,
   "metadata": {
    "collapsed": false,
    "scrolled": true
   },
   "outputs": [
    {
     "name": "stdout",
     "output_type": "stream",
     "text": [
      "Konversi kategori/object ke angka (ordinal):\n",
      "customerID\n",
      "orderID\n",
      "orderDate\n",
      "articleID\n",
      "sizeCode\n",
      "voucherID\n"
     ]
    },
    {
     "name": "stderr",
     "output_type": "stream",
     "text": [
      "C:\\Anaconda2\\lib\\site-packages\\numpy\\lib\\arraysetops.py:200: FutureWarning: numpy not_equal will not check object identity in the future. The comparison did not return the same result as suggested by the identity (`is`)) and will change.\n",
      "  flag = np.concatenate(([True], aux[1:] != aux[:-1]))\n"
     ]
    },
    {
     "name": "stdout",
     "output_type": "stream",
     "text": [
      "paymentMethod\n",
      "mmdd\n"
     ]
    }
   ],
   "source": [
    "#Konversi kategori/object ke numerik\n",
    "print \"Konversi kategori/object ke angka (ordinal):\"\n",
    "\n",
    "#Cari kolom yang tipenya object, bukan integer maupun float\n",
    "object_columns=df.loc[:, df.dtypes == object].columns\n",
    "\n",
    "for col in object_columns:\n",
    "    print col\n",
    "    le=LabelEncoder()\n",
    "    # Konversi deh\n",
    "    df[col]=le.fit_transform(df[col])"
   ]
  },
  {
   "cell_type": "code",
   "execution_count": 34,
   "metadata": {
    "collapsed": false
   },
   "outputs": [],
   "source": [
    "# Presisi float dan int ga usah tinggi-tinggi amat\n",
    "\n",
    "float_64_columns = df.loc[:, df.dtypes == np.float64].columns\n",
    "for col in float_64_columns:\n",
    "    df[col] = df[col].astype(np.float32)\n",
    "\n",
    "int_64_columns = df.loc[:, df.dtypes == np.int64].columns\n",
    "for col in int_64_columns:\n",
    "    df[col] = df[col].astype(np.int32)\n",
    "    \n",
    "df.price=df.price.astype(np.int8)\n",
    "df.rrp=df.price.astype(np.int8)\n",
    "\n",
    "# Fill NaN: Cara impute terserah!\n",
    "# Aku sendiri nggak drop row, karena takut probabilitasnya jadi berubah. Tapi bebas kok selama hasilnya lebih baik\n",
    "\n",
    "df.rrp.fillna(df.rrp.median(), inplace=True)\n",
    "df['voucherID'].fillna(-1, inplace=True)\n",
    "\n",
    "df.productGroup.fillna(-1, inplace=True)\n",
    "\n",
    "Xdf=df.drop([label,\"orderID\", \"colorCode\", \"sizeCode\"], axis=1)\n",
    "\n",
    "X=Xdf.values\n",
    "y=df.returnQuantity.values\n",
    "\n",
    "X_train, X_test, y_train, y_test = train_test_split(X, y, test_size=0.15, random_state=42)"
   ]
  },
  {
   "cell_type": "code",
   "execution_count": 35,
   "metadata": {
    "collapsed": false
   },
   "outputs": [
    {
     "data": {
      "text/plain": [
       "RandomForestClassifier(bootstrap=True, class_weight=None, criterion='gini',\n",
       "            max_depth=None, max_features='auto', max_leaf_nodes=None,\n",
       "            min_samples_leaf=1, min_samples_split=2,\n",
       "            min_weight_fraction_leaf=0.0, n_estimators=10, n_jobs=-1,\n",
       "            oob_score=False, random_state=None, verbose=0,\n",
       "            warm_start=False)"
      ]
     },
     "execution_count": 35,
     "metadata": {},
     "output_type": "execute_result"
    }
   ],
   "source": [
    "rfc=RandomForestClassifier(n_jobs=-1)\n",
    "rfc.fit(X_train, y_train)"
   ]
  },
  {
   "cell_type": "code",
   "execution_count": 36,
   "metadata": {
    "collapsed": false,
    "scrolled": false
   },
   "outputs": [
    {
     "data": {
      "text/plain": [
       "[('voucherAmount', 0.0064734318764159294),\n",
       " ('paymentMethod', 0.007234718151705702),\n",
       " ('paymentMethod_prob', 0.010222347723401626),\n",
       " ('quantity', 0.010674357469575358),\n",
       " ('voucherID', 0.011457805717008749),\n",
       " ('deviceID', 0.011775630688856223),\n",
       " ('productGroup', 0.013046531717898055),\n",
       " ('months', 0.018923943167545677),\n",
       " ('rrp', 0.025308654131168833),\n",
       " ('choice_order', 0.028303286056760767),\n",
       " ('price', 0.028999284118642159),\n",
       " ('sizeCode_prob', 0.031118909333610771),\n",
       " ('articleID', 0.041262567155321214),\n",
       " ('mmdd', 0.042669368974342765),\n",
       " ('orderDate', 0.043555660985274539),\n",
       " ('colorCode_prob', 0.044188227222848542),\n",
       " ('total_order', 0.047213972550323495),\n",
       " ('after_voucher', 0.048339954492963744),\n",
       " ('order_order', 0.048667575958536324),\n",
       " ('customerID', 0.048798583928069447),\n",
       " ('budget', 0.059173761879721752),\n",
       " ('articleID_prob', 0.066705025929382128),\n",
       " ('customerID_prob', 0.30588640077062623)]"
      ]
     },
     "execution_count": 36,
     "metadata": {},
     "output_type": "execute_result"
    }
   ],
   "source": [
    "feature_importances(Xdf, rfc)"
   ]
  },
  {
   "cell_type": "code",
   "execution_count": 37,
   "metadata": {
    "collapsed": true
   },
   "outputs": [],
   "source": [
    "y_pred=rfc.predict(X_test)"
   ]
  },
  {
   "cell_type": "code",
   "execution_count": 38,
   "metadata": {
    "collapsed": false
   },
   "outputs": [
    {
     "name": "stdout",
     "output_type": "stream",
     "text": [
      "[[124114  43642     18      0      0      0]\n",
      " [ 49425 130866     87      2      0      0]\n",
      " [   114    284    187      1      0      0]\n",
      " [     5     15      2      3      0      0]\n",
      " [     3      1      1      0      0      0]\n",
      " [     1      3      1      0      0      0]]\n",
      "93791\n"
     ]
    }
   ],
   "source": [
    "print confusion_matrix(y_test,y_pred)\n",
    "print dmc_error(y_test,y_pred)"
   ]
  },
  {
   "cell_type": "code",
   "execution_count": 40,
   "metadata": {
    "collapsed": false
   },
   "outputs": [
    {
     "data": {
      "text/html": [
       "<div>\n",
       "<table border=\"1\" class=\"dataframe\">\n",
       "  <thead>\n",
       "    <tr style=\"text-align: right;\">\n",
       "      <th></th>\n",
       "      <th>customerID</th>\n",
       "      <th>orderID</th>\n",
       "      <th>orderDate</th>\n",
       "      <th>articleID</th>\n",
       "      <th>colorCode</th>\n",
       "      <th>sizeCode</th>\n",
       "      <th>productGroup</th>\n",
       "      <th>quantity</th>\n",
       "      <th>price</th>\n",
       "      <th>rrp</th>\n",
       "      <th>...</th>\n",
       "      <th>total_order</th>\n",
       "      <th>budget</th>\n",
       "      <th>articleID_prob</th>\n",
       "      <th>colorCode_prob</th>\n",
       "      <th>customerID_prob</th>\n",
       "      <th>sizeCode_prob</th>\n",
       "      <th>paymentMethod_prob</th>\n",
       "      <th>after_voucher</th>\n",
       "      <th>order_order</th>\n",
       "      <th>choice_order</th>\n",
       "    </tr>\n",
       "  </thead>\n",
       "  <tbody>\n",
       "    <tr>\n",
       "      <th>0</th>\n",
       "      <td>0</td>\n",
       "      <td>1452</td>\n",
       "      <td>2</td>\n",
       "      <td>2943</td>\n",
       "      <td>3999</td>\n",
       "      <td>23</td>\n",
       "      <td>17.0</td>\n",
       "      <td>1</td>\n",
       "      <td>27</td>\n",
       "      <td>27</td>\n",
       "      <td>...</td>\n",
       "      <td>27.984375</td>\n",
       "      <td>69.625</td>\n",
       "      <td>0.509766</td>\n",
       "      <td>0.510254</td>\n",
       "      <td>0.478516</td>\n",
       "      <td>0.374268</td>\n",
       "      <td>0.560547</td>\n",
       "      <td>27.984375</td>\n",
       "      <td>0</td>\n",
       "      <td>0</td>\n",
       "    </tr>\n",
       "    <tr>\n",
       "      <th>1</th>\n",
       "      <td>0</td>\n",
       "      <td>4937</td>\n",
       "      <td>6</td>\n",
       "      <td>2948</td>\n",
       "      <td>1999</td>\n",
       "      <td>23</td>\n",
       "      <td>17.0</td>\n",
       "      <td>1</td>\n",
       "      <td>25</td>\n",
       "      <td>25</td>\n",
       "      <td>...</td>\n",
       "      <td>25.984375</td>\n",
       "      <td>69.625</td>\n",
       "      <td>0.427734</td>\n",
       "      <td>0.522461</td>\n",
       "      <td>0.478516</td>\n",
       "      <td>0.374268</td>\n",
       "      <td>0.560547</td>\n",
       "      <td>25.984375</td>\n",
       "      <td>1</td>\n",
       "      <td>0</td>\n",
       "    </tr>\n",
       "    <tr>\n",
       "      <th>2</th>\n",
       "      <td>0</td>\n",
       "      <td>12400</td>\n",
       "      <td>14</td>\n",
       "      <td>1177</td>\n",
       "      <td>1993</td>\n",
       "      <td>13</td>\n",
       "      <td>4.0</td>\n",
       "      <td>1</td>\n",
       "      <td>40</td>\n",
       "      <td>40</td>\n",
       "      <td>...</td>\n",
       "      <td>40.000000</td>\n",
       "      <td>69.625</td>\n",
       "      <td>0.473145</td>\n",
       "      <td>0.471680</td>\n",
       "      <td>0.478516</td>\n",
       "      <td>0.535645</td>\n",
       "      <td>0.560547</td>\n",
       "      <td>40.000000</td>\n",
       "      <td>2</td>\n",
       "      <td>0</td>\n",
       "    </tr>\n",
       "    <tr>\n",
       "      <th>3</th>\n",
       "      <td>0</td>\n",
       "      <td>13403</td>\n",
       "      <td>15</td>\n",
       "      <td>2418</td>\n",
       "      <td>1995</td>\n",
       "      <td>13</td>\n",
       "      <td>15.0</td>\n",
       "      <td>1</td>\n",
       "      <td>60</td>\n",
       "      <td>60</td>\n",
       "      <td>...</td>\n",
       "      <td>120.000000</td>\n",
       "      <td>69.625</td>\n",
       "      <td>0.502930</td>\n",
       "      <td>0.541992</td>\n",
       "      <td>0.478516</td>\n",
       "      <td>0.535645</td>\n",
       "      <td>0.560547</td>\n",
       "      <td>120.000000</td>\n",
       "      <td>3</td>\n",
       "      <td>0</td>\n",
       "    </tr>\n",
       "    <tr>\n",
       "      <th>4</th>\n",
       "      <td>0</td>\n",
       "      <td>13403</td>\n",
       "      <td>15</td>\n",
       "      <td>2418</td>\n",
       "      <td>1999</td>\n",
       "      <td>14</td>\n",
       "      <td>15.0</td>\n",
       "      <td>1</td>\n",
       "      <td>60</td>\n",
       "      <td>60</td>\n",
       "      <td>...</td>\n",
       "      <td>120.000000</td>\n",
       "      <td>69.625</td>\n",
       "      <td>0.502930</td>\n",
       "      <td>0.522461</td>\n",
       "      <td>0.478516</td>\n",
       "      <td>0.529297</td>\n",
       "      <td>0.560547</td>\n",
       "      <td>120.000000</td>\n",
       "      <td>4</td>\n",
       "      <td>1</td>\n",
       "    </tr>\n",
       "  </tbody>\n",
       "</table>\n",
       "<p>5 rows × 27 columns</p>\n",
       "</div>"
      ],
      "text/plain": [
       "   customerID  orderID  orderDate  articleID  colorCode  sizeCode  \\\n",
       "0           0     1452          2       2943       3999        23   \n",
       "1           0     4937          6       2948       1999        23   \n",
       "2           0    12400         14       1177       1993        13   \n",
       "3           0    13403         15       2418       1995        13   \n",
       "4           0    13403         15       2418       1999        14   \n",
       "\n",
       "   productGroup  quantity  price  rrp      ...       total_order  budget  \\\n",
       "0          17.0         1     27   27      ...         27.984375  69.625   \n",
       "1          17.0         1     25   25      ...         25.984375  69.625   \n",
       "2           4.0         1     40   40      ...         40.000000  69.625   \n",
       "3          15.0         1     60   60      ...        120.000000  69.625   \n",
       "4          15.0         1     60   60      ...        120.000000  69.625   \n",
       "\n",
       "   articleID_prob  colorCode_prob  customerID_prob  sizeCode_prob  \\\n",
       "0        0.509766        0.510254         0.478516       0.374268   \n",
       "1        0.427734        0.522461         0.478516       0.374268   \n",
       "2        0.473145        0.471680         0.478516       0.535645   \n",
       "3        0.502930        0.541992         0.478516       0.535645   \n",
       "4        0.502930        0.522461         0.478516       0.529297   \n",
       "\n",
       "   paymentMethod_prob  after_voucher  order_order  choice_order  \n",
       "0            0.560547      27.984375            0             0  \n",
       "1            0.560547      25.984375            1             0  \n",
       "2            0.560547      40.000000            2             0  \n",
       "3            0.560547     120.000000            3             0  \n",
       "4            0.560547     120.000000            4             1  \n",
       "\n",
       "[5 rows x 27 columns]"
      ]
     },
     "execution_count": 40,
     "metadata": {},
     "output_type": "execute_result"
    }
   ],
   "source": [
    "df.head()"
   ]
  },
  {
   "cell_type": "markdown",
   "metadata": {},
   "source": [
    "Catatan:\n",
    "    \n",
    "(isi catatan)"
   ]
  },
  {
   "cell_type": "markdown",
   "metadata": {},
   "source": [
    "```\n",
    "\n",
    "```"
   ]
  }
 ],
 "metadata": {
  "kernelspec": {
   "display_name": "Python 2",
   "language": "python",
   "name": "python2"
  },
  "language_info": {
   "codemirror_mode": {
    "name": "ipython",
    "version": 2
   },
   "file_extension": ".py",
   "mimetype": "text/x-python",
   "name": "python",
   "nbconvert_exporter": "python",
   "pygments_lexer": "ipython2",
   "version": "2.7.11"
  }
 },
 "nbformat": 4,
 "nbformat_minor": 0
}
