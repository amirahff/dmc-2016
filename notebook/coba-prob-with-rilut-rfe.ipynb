{
 "cells": [
  {
   "cell_type": "code",
   "execution_count": 48,
   "metadata": {
    "collapsed": true
   },
   "outputs": [],
   "source": [
    "label='returnQuantity'\n",
    "\n",
    "import pandas as pd\n",
    "import numpy as np\n",
    "from sklearn.ensemble import RandomForestRegressor, ExtraTreesRegressor\n",
    "from sklearn.linear_model import LinearRegression, Lasso, Ridge, LogisticRegression\n",
    "from sklearn.cross_validation import train_test_split\n",
    "from sklearn.preprocessing import PolynomialFeatures\n",
    "from sklearn import linear_model\n",
    "from scipy import stats\n",
    "from sklearn.decomposition import PCA\n",
    "from sklearn.metrics import confusion_matrix\n",
    "from sklearn.preprocessing import LabelEncoder\n",
    "from operator import itemgetter\n",
    "\n",
    "def dmc_error(returnQuantity, prediction):\n",
    "    #∑ |returnQuantity𝑖 − prediction𝑖 |\n",
    "    return np.sum(np.abs( np.subtract(returnQuantity, prediction) ))"
   ]
  },
  {
   "cell_type": "code",
   "execution_count": 49,
   "metadata": {
    "collapsed": true
   },
   "outputs": [],
   "source": [
    "df=pd.read_csv('train_gue5.csv')[:-341099] #POTONG DATA TRAINING\n",
    "val_df=pd.read_csv('val_gue5.csv')"
   ]
  },
  {
   "cell_type": "code",
   "execution_count": 50,
   "metadata": {
    "collapsed": false
   },
   "outputs": [],
   "source": [
    "object_columns=list(df.loc[:, df.dtypes == object].columns); object_columns\n",
    "\n",
    "didrop = list(object_columns)\n",
    "\n",
    "didrop.append('returnQuantity')\n",
    "didrop.append('colorCode')\n",
    "df.rrp.fillna(df.rrp.median(), inplace=True)\n",
    "val_df.rrp.fillna(df.rrp.median(), inplace=True)\n",
    "didrop.append('productGroup')\n",
    "\n",
    "X_train=df.drop(didrop, axis=1).values\n",
    "X_val=val_df.drop(didrop, axis=1).values\n",
    "y_train=df.returnQuantity.values\n",
    "y_val=val_df.returnQuantity.values"
   ]
  },
  {
   "cell_type": "code",
   "execution_count": 59,
   "metadata": {
    "collapsed": false
   },
   "outputs": [
    {
     "name": "stdout",
     "output_type": "stream",
     "text": [
      " 127372.0\n",
      "[[101652  65240     27      0      0      0]\n",
      " [ 61341 112157     12      0      0      0]\n",
      " [    22    599      9      0      0      0]\n",
      " [     0     23      6      0      0      0]\n",
      " [     0      2      5      0      0      0]\n",
      " [     0      2      2      0      0      0]]\n",
      "jumlah data test:  341099\n"
     ]
    }
   ],
   "source": [
    "model=LinearRegression(n_jobs=-1)\n",
    "model.fit(X_train,y_train)\n",
    "y_pred = model.predict(X_val)\n",
    "y_pred=np.array([round(yp) for yp in y_pred], dtype=np.int8)\n",
    "y_pred[y_pred<0]=0\n",
    "baseline_score = dmc_error(y_pred, y_val)\n",
    "print baseline_score\n",
    "\n",
    "print confusion_matrix(y_val,y_pred)\n",
    "print 'jumlah data test: ', len(y_val)"
   ]
  },
  {
   "cell_type": "code",
   "execution_count": 57,
   "metadata": {
    "collapsed": false
   },
   "outputs": [
    {
     "name": "stdout",
     "output_type": "stream",
     "text": [
      "133602.0\n"
     ]
    }
   ],
   "source": [
    "from sklearn.ensemble import RandomForestRegressor, ExtraTreesRegressor\n",
    "model=ExtraTreesRegressor(n_jobs=-1)\n",
    "model.fit(X_train,y_train)\n",
    "y_pred = model.predict(X_val)\n",
    "y_pred=np.array([round(yp) for yp in y_pred], dtype=np.int8)\n",
    "etr_score = dmc_error(y_pred, y_val)\n",
    "print etr_score"
   ]
  },
  {
   "cell_type": "code",
   "execution_count": 53,
   "metadata": {
    "collapsed": true
   },
   "outputs": [
    {
     "name": "stdout",
     "output_type": "stream",
     "text": [
      "0\n",
      "127429.0\n",
      "1\n",
      "127410.0\n",
      "2\n",
      "128907.0\n",
      "3\n",
      "127438.0\n",
      "4\n",
      "127378.0\n",
      "5\n",
      "127378.0\n",
      "6\n",
      "125840.0\n",
      "7\n",
      "128207.0\n",
      "8\n",
      "127434.0\n",
      "9\n",
      "127434.0\n",
      "10\n",
      "127434.0\n",
      "11\n",
      "127400.0\n",
      "12\n",
      "127408.0\n",
      "13\n",
      "127624.0\n",
      "14\n",
      "127398.0\n",
      "15\n",
      "127374.0\n",
      "16\n",
      "127438.0\n",
      "17\n",
      "127540.0\n",
      "18\n",
      "127353.0\n",
      "19\n",
      "132307.0\n",
      "20\n",
      "127621.0\n",
      "21\n",
      "128026.0\n",
      "22\n",
      "127392.0\n",
      "23\n",
      "127399.0\n",
      "24\n",
      "127399.0\n",
      "25\n",
      "127416.0\n",
      "26\n",
      "127383.0\n",
      "27\n",
      "127394.0\n",
      "28\n",
      "127386.0\n",
      "29\n",
      "127285.0\n",
      "30\n",
      "127397.0\n",
      "31\n",
      "127400.0\n",
      "32\n",
      "126618.0\n",
      "33\n",
      "127393.0\n",
      "34\n",
      "127315.0\n",
      "35\n",
      "127399.0\n",
      "36\n",
      "127198.0\n",
      "37\n",
      "127417.0\n",
      "38\n",
      "127393.0\n",
      "39\n",
      "127376.0\n",
      "40\n",
      "127421.0\n",
      "41\n",
      "127401.0\n"
     ]
    }
   ],
   "source": [
    "n_features=X_train.shape[1]\n",
    "\n",
    "support_ = np.ones(n_features, dtype=np.bool)\n",
    "ranking_ = np.ones(n_features, dtype=np.int)\n",
    "scores_ = []\n",
    "\n",
    "for col_number in range(X_train.shape[1] ):\n",
    "    \n",
    "    print col_number\n",
    "    \n",
    "    # Remaining features\n",
    "    features_ = np.arange(n_features)[support_]\n",
    "    features = list( set(features_)-set([col_number]) )\n",
    "    \n",
    "    \n",
    "\n",
    "    # Rank the remaining features\n",
    "    estimator = LinearRegression(n_jobs=-1)\n",
    "\n",
    "    estimator.fit(X_train[:, features], y_train)\n",
    "    y_pred=estimator.predict(X_val[:, features])\n",
    "    y_pred=np.array([round(yp) for yp in y_pred], dtype=np.int8)\n",
    "    y_pred[y_pred<0]=0\n",
    "    current_score= dmc_error(y_val, y_pred)\n",
    "    print(current_score)\n",
    "    scores_.append(current_score)"
   ]
  },
  {
   "cell_type": "code",
   "execution_count": 44,
   "metadata": {
    "collapsed": true
   },
   "outputs": [
    {
     "name": "stdout",
     "output_type": "stream",
     "text": [
      "0\n",
      "127469.0\n",
      "1\n",
      "127400.0\n",
      "2\n",
      "128765.0\n",
      "3\n",
      "127469.0\n",
      "4\n",
      "127382.0\n",
      "5\n",
      "127383.0\n",
      "6\n",
      "125794.0\n",
      "7\n",
      "128253.0\n",
      "8\n",
      "127428.0\n",
      "9\n",
      "127428.0\n",
      "10\n",
      "127428.0\n",
      "11\n",
      "127398.0\n",
      "12\n",
      "127413.0\n",
      "13\n",
      "127642.0\n",
      "14\n",
      "127396.0\n",
      "15\n",
      "127344.0\n",
      "16\n",
      "127399.0\n",
      "17\n",
      "127552.0\n",
      "18\n",
      "127364.0\n",
      "19\n",
      "132277.0\n",
      "20\n",
      "127525.0\n",
      "21\n",
      "128071.0\n",
      "22\n",
      "127397.0\n",
      "23\n",
      "127396.0\n",
      "24\n",
      "127397.0\n",
      "25\n",
      "127419.0\n",
      "26\n",
      "127361.0\n",
      "27\n",
      "127392.0\n",
      "28\n",
      "127369.0\n",
      "29\n",
      "127331.0\n",
      "30\n",
      "127400.0\n",
      "31\n",
      "127400.0\n",
      "32\n",
      "126598.0\n",
      "33\n",
      "127397.0\n",
      "34\n",
      "127388.0\n",
      "35\n",
      "127397.0\n",
      "36\n",
      "127254.0\n",
      "37\n",
      "127418.0\n",
      "38\n",
      "127393.0\n",
      "39\n",
      "127406.0\n",
      "40\n",
      "127427.0\n",
      "41\n",
      "127367.0\n"
     ]
    }
   ],
   "source": [
    "n_features=X_train.shape[1]\n",
    "\n",
    "support_ = np.ones(n_features, dtype=np.bool)\n",
    "ranking_ = np.ones(n_features, dtype=np.int)\n",
    "scores_ = []\n",
    "\n",
    "for col_number in range(X_train.shape[1] ):\n",
    "    \n",
    "    print col_number\n",
    "    \n",
    "    # Remaining features\n",
    "    features_ = np.arange(n_features)[support_]\n",
    "    features = list( set(features_)-set([col_number]) )\n",
    "\n",
    "    # Rank the remaining features\n",
    "    estimator = LinearRegression(n_jobs=-1)\n",
    "\n",
    "    estimator.fit(X_train[:, features], y_train)\n",
    "    y_pred=estimator.predict(X_val[:, features])\n",
    "    y_pred=np.array([round(yp) for yp in y_pred], dtype=np.int8)\n",
    "    y_pred[y_pred<0]=0\n",
    "    current_score= dmc_error(y_val, y_pred)\n",
    "    print(current_score)\n",
    "    scores_.append(current_score)"
   ]
  },
  {
   "cell_type": "code",
   "execution_count": 38,
   "metadata": {
    "collapsed": false
   },
   "outputs": [],
   "source": [
    "Xdf=df.drop(didrop, axis=1)"
   ]
  },
  {
   "cell_type": "code",
   "execution_count": 54,
   "metadata": {
    "collapsed": true
   },
   "outputs": [
    {
     "data": {
      "text/plain": [
       "[127429.0,\n",
       " 127410.0,\n",
       " 128907.0,\n",
       " 127438.0,\n",
       " 128207.0,\n",
       " 127434.0,\n",
       " 127434.0,\n",
       " 127434.0,\n",
       " 127400.0,\n",
       " 127408.0,\n",
       " 127624.0,\n",
       " 127398.0,\n",
       " 127438.0,\n",
       " 127540.0,\n",
       " 132307.0,\n",
       " 127621.0,\n",
       " 128026.0,\n",
       " 127399.0,\n",
       " 127399.0,\n",
       " 127416.0,\n",
       " 127397.0,\n",
       " 127400.0,\n",
       " 127399.0,\n",
       " 127417.0,\n",
       " 127421.0,\n",
       " 127401.0]"
      ]
     },
     "execution_count": 54,
     "metadata": {},
     "output_type": "execute_result"
    }
   ],
   "source": [
    "[s for s in scores_ if s>127395]"
   ]
  },
  {
   "cell_type": "code",
   "execution_count": 56,
   "metadata": {
    "collapsed": false
   },
   "outputs": [
    {
     "data": {
      "text/plain": [
       "[('customer_budget', 125840.0),\n",
       " ('arcosi_prob', 126618.0),\n",
       " ('arsivo_prob', 127198.0),\n",
       " ('sipr_prob', 127285.0),\n",
       " ('arcovo_prob', 127315.0),\n",
       " ('voucherID_prob', 127353.0),\n",
       " ('colorCode_prob', 127374.0),\n",
       " ('cosivo_prob', 127376.0),\n",
       " ('voucherAmount', 127378.0),\n",
       " ('order_total', 127378.0),\n",
       " ('cosi_prob', 127383.0),\n",
       " ('covo_prob', 127386.0),\n",
       " ('arco_prob', 127392.0),\n",
       " ('arcopr_prob', 127393.0),\n",
       " ('cosipr_prob', 127393.0),\n",
       " ('copr_prob', 127394.0),\n",
       " ('sivo_prob', 127397.0),\n",
       " ('articleID_prob', 127398.0),\n",
       " ('arsi_prob', 127399.0),\n",
       " ('arpr_prob', 127399.0),\n",
       " ('arsipr_prob', 127399.0),\n",
       " ('after_voucher', 127400.0),\n",
       " ('prvo_prob', 127400.0),\n",
       " ('siprvo_prob', 127401.0),\n",
       " ('order_order', 127408.0),\n",
       " ('price', 127410.0),\n",
       " ('arvo_prob', 127416.0),\n",
       " ('arprvo_prob', 127417.0),\n",
       " ('coprvo_prob', 127421.0),\n",
       " ('deviceID', 127429.0),\n",
       " ('unit_price', 127434.0),\n",
       " ('median_unit_price', 127434.0),\n",
       " ('price_diff', 127434.0),\n",
       " ('rrp', 127438.0),\n",
       " ('sizeCode_prob', 127438.0),\n",
       " ('productGroup_prob', 127540.0),\n",
       " ('deviceID_prob', 127621.0),\n",
       " ('choice_order', 127624.0),\n",
       " ('paymentMethod_prob', 128026.0),\n",
       " ('expense_ratio', 128207.0),\n",
       " ('quantity', 128907.0),\n",
       " ('customerID_prob', 132307.0)]"
      ]
     },
     "execution_count": 56,
     "metadata": {},
     "output_type": "execute_result"
    }
   ],
   "source": [
    "from itertools import izip as zip\n",
    "\n",
    "pair=zip(Xdf.columns, scores_)\n",
    "t1=[i for i in pair]; t1\n",
    "arai=sorted(t1, key=itemgetter(1)); arai"
   ]
  }
 ],
 "metadata": {
  "kernelspec": {
   "display_name": "Python 2",
   "language": "python",
   "name": "python2"
  },
  "language_info": {
   "codemirror_mode": {
    "name": "ipython",
    "version": 2
   },
   "file_extension": ".py",
   "mimetype": "text/x-python",
   "name": "python",
   "nbconvert_exporter": "python",
   "pygments_lexer": "ipython2",
   "version": "2.7.11"
  }
 },
 "nbformat": 4,
 "nbformat_minor": 0
}
