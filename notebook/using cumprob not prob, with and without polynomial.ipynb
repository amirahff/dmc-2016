{
 "cells": [
  {
   "cell_type": "markdown",
   "metadata": {},
   "source": [
    "### Without PolynomialFeatures:\n",
    "    LR = 59568\n",
    "    Lasso = 131723\n",
    "    Ridge = 59600\n",
    "    \n",
    "### With PolynomialFeatures:\n",
    "    LR = 57877\n",
    "    Lasso = 70740\n",
    "    Ridge = 57893\n",
    "    \n",
    "### Summary:\n",
    "    Data Size = 1023297\n",
    "    Train : Test = 2 : 1\n",
    "    Features = ['quantity', 'returnQuantity', 'order_total', 'customer_budget',\n",
    "       'expense_ratio', 'unit_price', 'usual_unit_price', 'price_diff',\n",
    "       'order_order', 'choice_order', 'articleID_cumprob',\n",
    "       'colorCode_cumprob', 'customerID_cumprob', 'sizeCode_cumprob',\n",
    "       'ac_cumprob', 'as_cumprob']\n",
    "    "
   ]
  },
  {
   "cell_type": "code",
   "execution_count": 68,
   "metadata": {
    "collapsed": true
   },
   "outputs": [],
   "source": [
    "label='returnQuantity'\n",
    "\n",
    "import pandas as pd\n",
    "import numpy as np\n",
    "from sklearn.ensemble import RandomForestClassifier\n",
    "from sklearn.ensemble import RandomForestRegressor\n",
    "from sklearn.cross_validation import train_test_split\n",
    "from sklearn.preprocessing import PolynomialFeatures\n",
    "from sklearn.linear_model import LinearRegression\n",
    "from sklearn import linear_model\n",
    "from sklearn.cross_validation import cross_val_score\n",
    "from sklearn.metrics import confusion_matrix\n",
    "from sklearn.preprocessing import LabelEncoder\n",
    "\n",
    "def dmc_error(returnQuantity, prediction):\n",
    "    #∑ |returnQuantity𝑖 − prediction𝑖 |\n",
    "    return np.sum(np.abs( np.subtract(returnQuantity, prediction) ))"
   ]
  },
  {
   "cell_type": "code",
   "execution_count": 156,
   "metadata": {
    "collapsed": true
   },
   "outputs": [],
   "source": [
    "df=pd.read_csv('train_gue2.csv')"
   ]
  },
  {
   "cell_type": "code",
   "execution_count": 157,
   "metadata": {
    "collapsed": false
   },
   "outputs": [],
   "source": [
    "df = df[:1023297]"
   ]
  },
  {
   "cell_type": "code",
   "execution_count": 158,
   "metadata": {
    "collapsed": true
   },
   "outputs": [],
   "source": [
    "object_columns=df.loc[:, df.dtypes == object].columns\n",
    "df= df.drop(object_columns, axis=1)"
   ]
  },
  {
   "cell_type": "code",
   "execution_count": 159,
   "metadata": {
    "collapsed": false
   },
   "outputs": [],
   "source": [
    "df= df.drop(['colorCode','productGroup','months','price','rrp','voucherAmount','after_voucher'], axis=1)"
   ]
  },
  {
   "cell_type": "code",
   "execution_count": 160,
   "metadata": {
    "collapsed": true
   },
   "outputs": [],
   "source": [
    "label='returnQuantity'\n",
    "\n",
    "Xdf=df.drop([label], axis=1)\n",
    "\n",
    "X=Xdf.values\n",
    "y=df.returnQuantity.values"
   ]
  },
  {
   "cell_type": "code",
   "execution_count": 161,
   "metadata": {
    "collapsed": true
   },
   "outputs": [],
   "source": [
    "X_train, X_test, y_train, y_test = train_test_split(X, y, test_size=0.33, random_state=42)"
   ]
  },
  {
   "cell_type": "code",
   "execution_count": 162,
   "metadata": {
    "collapsed": false
   },
   "outputs": [
    {
     "name": "stdout",
     "output_type": "stream",
     "text": [
      "[[127844  34867      8      1      1      0]\n",
      " [ 24099 150274     12      0      0      0]\n",
      " [     6    519     19      0      0      0]\n",
      " [     0     14     16      0      0      0]\n",
      " [     0      0      4      0      0      0]\n",
      " [     0      0      4      1      0      0]]\n",
      "59598\n"
     ]
    }
   ],
   "source": [
    "lr=LinearRegression(n_jobs=-1, normalize=True)\n",
    "lr.fit(X_train, y_train)\n",
    "y_pred=lr.predict(X_test)\n",
    "y_pred=np.array([round(yp) for yp in y_pred], dtype=np.int8)\n",
    "y_pred[y_pred<0]=0\n",
    "print confusion_matrix(y_test,y_pred)\n",
    "print dmc_error(y_test,y_pred)"
   ]
  },
  {
   "cell_type": "code",
   "execution_count": 163,
   "metadata": {
    "collapsed": false
   },
   "outputs": [
    {
     "name": "stdout",
     "output_type": "stream",
     "text": [
      "[[106510  56206      5      0      0      0]\n",
      " [ 74670  99715      0      0      0      0]\n",
      " [   189    355      0      0      0      0]\n",
      " [    11     19      0      0      0      0]\n",
      " [     0      4      0      0      0      0]\n",
      " [     1      4      0      0      0      0]]\n",
      "131723\n"
     ]
    }
   ],
   "source": [
    "lr=linear_model.Lasso()\n",
    "lr.fit(X_train, y_train)\n",
    "y_pred=lr.predict(X_test)\n",
    "y_pred=np.array([round(yp) for yp in y_pred], dtype=np.int8)\n",
    "y_pred[y_pred<0]=0\n",
    "print confusion_matrix(y_test,y_pred)\n",
    "print dmc_error(y_test,y_pred)"
   ]
  },
  {
   "cell_type": "code",
   "execution_count": 164,
   "metadata": {
    "collapsed": false
   },
   "outputs": [
    {
     "name": "stdout",
     "output_type": "stream",
     "text": [
      "[[127838  34873      8      1      1      0]\n",
      " [ 24095 150278     12      0      0      0]\n",
      " [     6    519     19      0      0      0]\n",
      " [     0     14     16      0      0      0]\n",
      " [     0      0      4      0      0      0]\n",
      " [     0      0      4      1      0      0]]\n",
      "59600\n"
     ]
    }
   ],
   "source": [
    "lr=linear_model.Ridge()\n",
    "lr.fit(X_train, y_train)\n",
    "y_pred=lr.predict(X_test)\n",
    "y_pred=np.array([round(yp) for yp in y_pred], dtype=np.int8)\n",
    "y_pred[y_pred<0]=0\n",
    "print confusion_matrix(y_test,y_pred)\n",
    "print dmc_error(y_test,y_pred)"
   ]
  },
  {
   "cell_type": "code",
   "execution_count": 165,
   "metadata": {
    "collapsed": true
   },
   "outputs": [],
   "source": [
    "poly = PolynomialFeatures(2)\n",
    "X = poly.fit_transform(X).astype(np.float32)"
   ]
  },
  {
   "cell_type": "code",
   "execution_count": 166,
   "metadata": {
    "collapsed": true
   },
   "outputs": [],
   "source": [
    "X_train, X_test, y_train, y_test = train_test_split(X, y, test_size=0.33, random_state=42)"
   ]
  },
  {
   "cell_type": "code",
   "execution_count": 167,
   "metadata": {
    "collapsed": false
   },
   "outputs": [
    {
     "name": "stdout",
     "output_type": "stream",
     "text": [
      "[[128357  34356      8      0      0      0]\n",
      " [ 23079 151165    140      0      1      0]\n",
      " [     8    229    306      1      0      0]\n",
      " [     0      7     11     12      0      0]\n",
      " [     0      0      0      2      2      0]\n",
      " [     0      1      1      1      1      1]]\n",
      "57877\n"
     ]
    }
   ],
   "source": [
    "lr=LinearRegression(n_jobs=-1, normalize=True)\n",
    "lr.fit(X_train, y_train)\n",
    "y_pred=lr.predict(X_test)\n",
    "y_pred=np.array([round(yp) for yp in y_pred], dtype=np.int8)\n",
    "y_pred[y_pred<0]=0\n",
    "print confusion_matrix(y_test,y_pred)\n",
    "print dmc_error(y_test,y_pred)"
   ]
  },
  {
   "cell_type": "code",
   "execution_count": 168,
   "metadata": {
    "collapsed": false
   },
   "outputs": [
    {
     "name": "stdout",
     "output_type": "stream",
     "text": [
      "[[132322  30399      0      0      0      0]\n",
      " [ 39526 134803     56      0      0      0]\n",
      " [   116    426      2      0      0      0]\n",
      " [     8     22      0      0      0      0]\n",
      " [     0      4      0      0      0      0]\n",
      " [     1      4      0      0      0      0]]\n",
      "70740\n"
     ]
    }
   ],
   "source": [
    "lr=linear_model.Lasso()\n",
    "lr.fit(X_train, y_train)\n",
    "y_pred=lr.predict(X_test)\n",
    "y_pred=np.array([round(yp) for yp in y_pred], dtype=np.int8)\n",
    "y_pred[y_pred<0]=0\n",
    "print confusion_matrix(y_test,y_pred)\n",
    "print dmc_error(y_test,y_pred)"
   ]
  },
  {
   "cell_type": "code",
   "execution_count": 169,
   "metadata": {
    "collapsed": false
   },
   "outputs": [
    {
     "name": "stdout",
     "output_type": "stream",
     "text": [
      "[[128359  34354      8      0      0      0]\n",
      " [ 23097 151147    140      0      1      0]\n",
      " [     8    229    306      1      0      0]\n",
      " [     0      7     11     12      0      0]\n",
      " [     0      0      0      2      2      0]\n",
      " [     0      1      1      1      1      1]]\n",
      "57893\n"
     ]
    }
   ],
   "source": [
    "lr=linear_model.Ridge()\n",
    "lr.fit(X_train, y_train)\n",
    "y_pred=lr.predict(X_test)\n",
    "y_pred=np.array([round(yp) for yp in y_pred], dtype=np.int8)\n",
    "y_pred[y_pred<0]=0\n",
    "print confusion_matrix(y_test,y_pred)\n",
    "print dmc_error(y_test,y_pred)"
   ]
  },
  {
   "cell_type": "code",
   "execution_count": null,
   "metadata": {
    "collapsed": true
   },
   "outputs": [],
   "source": []
  }
 ],
 "metadata": {
  "kernelspec": {
   "display_name": "Python 2",
   "language": "python",
   "name": "python2"
  },
  "language_info": {
   "codemirror_mode": {
    "name": "ipython",
    "version": 2
   },
   "file_extension": ".py",
   "mimetype": "text/x-python",
   "name": "python",
   "nbconvert_exporter": "python",
   "pygments_lexer": "ipython2",
   "version": "2.7.11"
  }
 },
 "nbformat": 4,
 "nbformat_minor": 0
}
