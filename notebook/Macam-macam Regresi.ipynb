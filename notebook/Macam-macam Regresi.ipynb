{
 "cells": [
  {
   "cell_type": "code",
   "execution_count": 14,
   "metadata": {
    "collapsed": false
   },
   "outputs": [],
   "source": [
    "from __future__ import division\n",
    "\n",
    "label='returnQuantity'\n",
    "\n",
    "import pandas as pd\n",
    "import numpy as np\n",
    "from sklearn.ensemble import RandomForestClassifier\n",
    "from sklearn.ensemble import RandomForestRegressor\n",
    "from sklearn.cross_validation import train_test_split\n",
    "from datetime import datetime\n",
    "from sklearn.linear_model import LinearRegression\n",
    "from sklearn.linear_model import SGDRegressor\n",
    "from sklearn import linear_model\n",
    "from sklearn import svm\n",
    "from sklearn.cross_validation import cross_val_score\n",
    "from sklearn.metrics import confusion_matrix\n",
    "%matplotlib inline\n",
    "from sklearn.preprocessing import LabelEncoder\n",
    "#from sklearn.externals import joblib\n",
    "\n",
    "def dmc_error(returnQuantity, prediction):\n",
    "    #∑ |returnQuantity𝑖 − prediction𝑖 |\n",
    "    return np.sum(np.abs( np.subtract(returnQuantity, prediction) ))"
   ]
  },
  {
   "cell_type": "code",
   "execution_count": 3,
   "metadata": {
    "collapsed": false
   },
   "outputs": [],
   "source": [
    "df=pd.read_csv('train_gue.csv')"
   ]
  },
  {
   "cell_type": "code",
   "execution_count": 4,
   "metadata": {
    "collapsed": false
   },
   "outputs": [
    {
     "name": "stdout",
     "output_type": "stream",
     "text": [
      "<class 'pandas.core.frame.DataFrame'>\n",
      "RangeIndex: 2325165 entries, 0 to 2325164\n",
      "Data columns (total 30 columns):\n",
      "orderID             object\n",
      "orderDate           object\n",
      "articleID           object\n",
      "colorCode           int64\n",
      "sizeCode            object\n",
      "productGroup        float64\n",
      "quantity            int64\n",
      "price               float64\n",
      "rrp                 float64\n",
      "voucherAmount       float64\n",
      "customerID          object\n",
      "paymentMethod       object\n",
      "returnQuantity      int64\n",
      "mmdd                object\n",
      "months              int64\n",
      "order_total         float64\n",
      "customer_budget     float64\n",
      "expense_ratio       float64\n",
      "unit_price          float64\n",
      "usual_unit_price    float64\n",
      "price_diff          float64\n",
      "after_voucher       float64\n",
      "order_order         int64\n",
      "choice_order        int64\n",
      "articleID_prob      float64\n",
      "colorCode_prob      float64\n",
      "customerID_prob     float64\n",
      "sizeCode_prob       float64\n",
      "ac_prob             float64\n",
      "as_prob             float64\n",
      "dtypes: float64(17), int64(6), object(7)\n",
      "memory usage: 532.2+ MB\n"
     ]
    }
   ],
   "source": [
    "df.info()"
   ]
  },
  {
   "cell_type": "code",
   "execution_count": 5,
   "metadata": {
    "collapsed": true
   },
   "outputs": [],
   "source": [
    "object_columns=df.loc[:, df.dtypes == object].columns\n",
    "df= df.drop(object_columns, axis=1)"
   ]
  },
  {
   "cell_type": "code",
   "execution_count": 6,
   "metadata": {
    "collapsed": true
   },
   "outputs": [],
   "source": [
    "#delete missing value\n",
    "\n",
    "label='returnQuantity'\n",
    "\n",
    "df=df.dropna()\n",
    "\n",
    "Xdf=df.drop([label], axis=1)\n",
    "\n",
    "X=Xdf.values\n",
    "y=df.returnQuantity.values"
   ]
  },
  {
   "cell_type": "code",
   "execution_count": 7,
   "metadata": {
    "collapsed": true
   },
   "outputs": [],
   "source": [
    "X_train, X_test, y_train, y_test = train_test_split(X, y, test_size=0.15, random_state=42)"
   ]
  },
  {
   "cell_type": "code",
   "execution_count": 18,
   "metadata": {
    "collapsed": false
   },
   "outputs": [
    {
     "name": "stdout",
     "output_type": "stream",
     "text": [
      "[[109206  57972     23      1      0      0]\n",
      " [ 34575 146198    174      6      0      0]\n",
      " [    34    285    209      1      0      0]\n",
      " [     1      9      9     10      0      0]\n",
      " [     0      2      2      1      3      0]\n",
      " [     0      2      0      0      0      0]]\n",
      "93185\n"
     ]
    }
   ],
   "source": [
    "rfr=RandomForestRegressor(n_jobs=-1)\n",
    "rfr.fit(X_train, y_train)\n",
    "y_pred=rfr.predict(X_test)\n",
    "y_pred=np.array([round(yp) for yp in y_pred], dtype=np.int8)\n",
    "y_pred[y_pred<0]=0\n",
    "print confusion_matrix(y_test,y_pred)\n",
    "print dmc_error(y_test,y_pred)"
   ]
  },
  {
   "cell_type": "code",
   "execution_count": 19,
   "metadata": {
    "collapsed": false
   },
   "outputs": [
    {
     "name": "stdout",
     "output_type": "stream",
     "text": [
      "[[116951  50236     15      0      0      0]\n",
      " [ 31761 149185      7      0      0      0]\n",
      " [     9    520      0      0      0      0]\n",
      " [     0     20      9      0      0      0]\n",
      " [     0      1      7      0      0      0]\n",
      " [     0      0      2      0      0      0]]\n",
      "82644\n"
     ]
    }
   ],
   "source": [
    "lr=LinearRegression(n_jobs=-1, normalize=True)\n",
    "lr.fit(X_train, y_train)\n",
    "y_pred=lr.predict(X_test)\n",
    "y_pred=np.array([round(yp) for yp in y_pred], dtype=np.int8)\n",
    "y_pred[y_pred<0]=0\n",
    "print confusion_matrix(y_test,y_pred)\n",
    "print dmc_error(y_test,y_pred)"
   ]
  },
  {
   "cell_type": "code",
   "execution_count": 34,
   "metadata": {
    "collapsed": false
   },
   "outputs": [
    {
     "name": "stdout",
     "output_type": "stream",
     "text": [
      "-5.23286087183e+14\n",
      "-7.64739702364e+15\n"
     ]
    },
    {
     "data": {
      "text/plain": [
       "array([ -8.63985010e+14,  -7.59925360e+15,  -1.68269137e+15, ...,\n",
       "        -2.64156350e+15,  -2.47267293e+15,  -1.75171641e+15])"
      ]
     },
     "execution_count": 34,
     "metadata": {},
     "output_type": "execute_result"
    }
   ],
   "source": [
    "#Bingung cara kerjanya, hasilnya kok bisa minus semua bisa positif semua (liat cell bawah)\n",
    "#Outputnya kegedean\n",
    "\n",
    "lr=SGDRegressor()\n",
    "lr.fit(X_train, y_train)\n",
    "y_pred=lr.predict(X_test)\n",
    "# y_pred=np.array([round(yp) for yp in y_pred])\n",
    "# y_pred[y_pred<0]=0\n",
    "# print confusion_matrix(y_test,y_pred)\n",
    "# print dmc_error(y_test,y_pred)\n",
    "\n",
    "print y_pred.max()\n",
    "print y_pred.min()\n",
    "y_pred"
   ]
  },
  {
   "cell_type": "code",
   "execution_count": 35,
   "metadata": {
    "collapsed": false
   },
   "outputs": [
    {
     "name": "stdout",
     "output_type": "stream",
     "text": [
      "1.23445806952e+15\n",
      "1.13927893332e+14\n"
     ]
    },
    {
     "data": {
      "text/plain": [
       "array([  1.35105843e+14,   1.15211260e+15,   2.50059018e+14, ...,\n",
       "         4.00105924e+14,   3.92787572e+14,   2.82114389e+14])"
      ]
     },
     "execution_count": 35,
     "metadata": {},
     "output_type": "execute_result"
    }
   ],
   "source": [
    "lr=SGDRegressor()\n",
    "lr.fit(X_train, y_train)\n",
    "y_pred=lr.predict(X_test)\n",
    "# y_pred=np.array([round(yp) for yp in y_pred])\n",
    "# y_pred[y_pred<0]=0\n",
    "# print confusion_matrix(y_test,y_pred)\n",
    "# print dmc_error(y_test,y_pred)\n",
    "\n",
    "print y_pred.max()\n",
    "print y_pred.min()\n",
    "y_pred"
   ]
  },
  {
   "cell_type": "code",
   "execution_count": 21,
   "metadata": {
    "collapsed": false
   },
   "outputs": [
    {
     "name": "stdout",
     "output_type": "stream",
     "text": [
      "[[116953  50234     15      0      0      0]\n",
      " [ 31762 149184      7      0      0      0]\n",
      " [     9    520      0      0      0      0]\n",
      " [     0     20      9      0      0      0]\n",
      " [     0      1      7      0      0      0]\n",
      " [     0      0      2      0      0      0]]\n",
      "82643\n"
     ]
    }
   ],
   "source": [
    "lr=linear_model.Ridge()\n",
    "lr.fit(X_train, y_train)\n",
    "y_pred=lr.predict(X_test)\n",
    "y_pred=np.array([round(yp) for yp in y_pred], dtype=np.int8)\n",
    "y_pred[y_pred<0]=0\n",
    "print confusion_matrix(y_test,y_pred)\n",
    "print dmc_error(y_test,y_pred)"
   ]
  },
  {
   "cell_type": "code",
   "execution_count": 22,
   "metadata": {
    "collapsed": false
   },
   "outputs": [
    {
     "name": "stdout",
     "output_type": "stream",
     "text": [
      "[[116954  50233     15      0      0      0]\n",
      " [ 31761 149185      7      0      0      0]\n",
      " [     9    520      0      0      0      0]\n",
      " [     0     20      9      0      0      0]\n",
      " [     0      1      7      0      0      0]\n",
      " [     0      0      2      0      0      0]]\n",
      "82641\n"
     ]
    }
   ],
   "source": [
    "lr=linear_model.BayesianRidge()\n",
    "lr.fit(X_train, y_train)\n",
    "y_pred=lr.predict(X_test)\n",
    "y_pred=np.array([round(yp) for yp in y_pred], dtype=np.int8)\n",
    "y_pred[y_pred<0]=0\n",
    "print confusion_matrix(y_test,y_pred)\n",
    "print dmc_error(y_test,y_pred)"
   ]
  },
  {
   "cell_type": "code",
   "execution_count": 23,
   "metadata": {
    "collapsed": false
   },
   "outputs": [
    {
     "name": "stdout",
     "output_type": "stream",
     "text": [
      "[[107548  59652      2      0      0      0]\n",
      " [ 75378 105575      0      0      0      0]\n",
      " [   146    383      0      0      0      0]\n",
      " [     6     23      0      0      0      0]\n",
      " [     2      6      0      0      0      0]\n",
      " [     1      1      0      0      0      0]]\n",
      "135808\n"
     ]
    }
   ],
   "source": [
    "lr=linear_model.Lasso()\n",
    "lr.fit(X_train, y_train)\n",
    "y_pred=lr.predict(X_test)\n",
    "y_pred=np.array([round(yp) for yp in y_pred], dtype=np.int8)\n",
    "y_pred[y_pred<0]=0\n",
    "print confusion_matrix(y_test,y_pred)\n",
    "print dmc_error(y_test,y_pred)"
   ]
  },
  {
   "cell_type": "code",
   "execution_count": null,
   "metadata": {
    "collapsed": true
   },
   "outputs": [],
   "source": []
  }
 ],
 "metadata": {
  "kernelspec": {
   "display_name": "Python 2",
   "language": "python",
   "name": "python2"
  }
 },
 "nbformat": 4,
 "nbformat_minor": 0
}
