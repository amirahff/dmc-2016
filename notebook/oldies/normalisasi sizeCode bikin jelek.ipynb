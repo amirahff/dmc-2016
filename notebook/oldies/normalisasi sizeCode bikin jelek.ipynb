{
 "cells": [
  {
   "cell_type": "markdown",
   "metadata": {},
   "source": [
    "# normalisasi sizeCode bikin jelek\n",
    "\n",
    "Kode yang dimaksud:\n",
    "\n",
    "```\n",
    "df.sizeCode[df.sizeCode == 'XS'] = 0\n",
    "df.sizeCode[df.sizeCode == 'S'] = 0.25\n",
    "df.sizeCode[df.sizeCode == 'M'] = 0.5\n",
    "df.sizeCode[df.sizeCode == 'L'] = 0.75\n",
    "df.sizeCode[df.sizeCode == 'XL'] = 1\n",
    "df.sizeCode[df.sizeCode == 'A'] = 0.70\n",
    "df.sizeCode[df.sizeCode == 'I'] = 0.70\n",
    "\n",
    "df.sizeCode=df.sizeCode.astype(np.float32)\n",
    "\n",
    "df.sizeCode[(df.sizeCode >= 32) & (df.sizeCode <= 44)] = (df.sizeCode[(df.sizeCode >= 32) & (df.sizeCode <= 44)]  -32)/ (44-32)\n",
    "df.sizeCode[(df.sizeCode >= 24) & (df.sizeCode <= 33)] = (df.sizeCode[(df.sizeCode >= 24) & (df.sizeCode <= 33)]  -24)/ (33-24)\n",
    "df.sizeCode[(df.sizeCode >= 75) & (df.sizeCode <= 100)] = (df.sizeCode[(df.sizeCode >= 75) & (df.sizeCode <= 100)]-75)/ (100-75)\n",
    "```\n",
    "\n",
    "Kolom yang dipakai:\n",
    "\n",
    "    ['sizeCode', 'quantity', 'price', 'rrp', 'voucherID', 'voucherAmount', 'paymentMethod', 'order_total', 'customer_budget', 'expense_ratio', 'unit_price', 'usual_unit_price', 'price_diff', 'after_voucher', 'order_order', 'choice_order', 'articleID_prob', 'colorCode_prob', 'sizeCode_prob', 'customerID_prob', 'ac_prob', 'as_prob']\n",
    "\n",
    "\n",
    "====================================================\n",
    "\n",
    "## Catatan fitur-fitur\n",
    "\n",
    "### Bikin jelek, hapus aja\n",
    "\n",
    "- colorCode\n",
    "- total_spent, \n",
    "- customerID\n",
    "- articleID\n",
    "- orderDate\n",
    "- productGroup (karena di-impute paksa dengan 0? atau emang ga penting?)\n",
    "\n",
    "### Jangan dihapus\n",
    "\n",
    "- rrp, sizeCode\n",
    "\n",
    "### Ga pengaruh / pengaruh dikit banget\n",
    "\n",
    "- months (labelencoder), kali dihapus, dibinerin, atau diapain\n",
    "- mmdd (labelencoder), kali dihapus, dibinerin, atau diapain\n",
    "\n",
    "kalo moths/mmdd diilangin, berkurang 3. tapi kalo months & mmdd dihilangin sekaligus, berkurang 10.\n",
    "\n",
    "### Missing values\n",
    "\n",
    "rrp, productGroup\n",
    "\n",
    "\n",
    "### TODO:\n",
    "\n",
    "- pakai PolynomialFeatures (di selain fitur harga (?) (selain price, rrp, after_voucher, unit_price, usual_unit_price, price_diff, etc))\n",
    "- ekstrak fitur karena fitur adalah segalanya"
   ]
  },
  {
   "cell_type": "code",
   "execution_count": 23,
   "metadata": {
    "collapsed": false
   },
   "outputs": [],
   "source": [
    "from __future__ import division\n",
    "\n",
    "label='returnQuantity'\n",
    "\n",
    "import pandas as pd\n",
    "import numpy as np\n",
    "from sklearn.ensemble import RandomForestRegressor\n",
    "from sklearn.linear_model import LinearRegression\n",
    "from sklearn.cross_validation import train_test_split\n",
    "from sklearn.metrics import confusion_matrix\n",
    "%matplotlib inline\n",
    "from sklearn.preprocessing import LabelEncoder\n",
    "from operator import itemgetter\n",
    "#from sklearn.externals import joblib\n",
    "\n",
    "def dmc_error(returnQuantity, prediction):\n",
    "    #∑ |returnQuantity𝑖 − prediction𝑖 |\n",
    "    return np.sum(np.abs( np.subtract(returnQuantity, prediction) ))\n",
    "\n",
    "def feature_importances(Xdf, rf_model):\n",
    "    pair=zip(Xdf.columns, rf_model.feature_importances_)\n",
    "    t1=[i for i in pair]; t1\n",
    "    return sorted(t1, key=itemgetter(1))"
   ]
  },
  {
   "cell_type": "code",
   "execution_count": 24,
   "metadata": {
    "collapsed": false
   },
   "outputs": [
    {
     "data": {
      "text/html": [
       "<div>\n",
       "<table border=\"1\" class=\"dataframe\">\n",
       "  <thead>\n",
       "    <tr style=\"text-align: right;\">\n",
       "      <th></th>\n",
       "      <th>orderID</th>\n",
       "      <th>sizeCode</th>\n",
       "      <th>productGroup</th>\n",
       "      <th>quantity</th>\n",
       "      <th>price</th>\n",
       "      <th>rrp</th>\n",
       "      <th>voucherID</th>\n",
       "      <th>voucherAmount</th>\n",
       "      <th>paymentMethod</th>\n",
       "      <th>returnQuantity</th>\n",
       "      <th>...</th>\n",
       "      <th>price_diff</th>\n",
       "      <th>after_voucher</th>\n",
       "      <th>order_order</th>\n",
       "      <th>choice_order</th>\n",
       "      <th>articleID_prob</th>\n",
       "      <th>colorCode_prob</th>\n",
       "      <th>sizeCode_prob</th>\n",
       "      <th>customerID_prob</th>\n",
       "      <th>ac_prob</th>\n",
       "      <th>as_prob</th>\n",
       "    </tr>\n",
       "  </thead>\n",
       "  <tbody>\n",
       "    <tr>\n",
       "      <th>0</th>\n",
       "      <td>a1000001</td>\n",
       "      <td>44</td>\n",
       "      <td>3.0</td>\n",
       "      <td>1</td>\n",
       "      <td>10.0</td>\n",
       "      <td>29.984375</td>\n",
       "      <td>0</td>\n",
       "      <td>0.0</td>\n",
       "      <td>BPRG</td>\n",
       "      <td>0</td>\n",
       "      <td>...</td>\n",
       "      <td>0.000000</td>\n",
       "      <td>30.0</td>\n",
       "      <td>1</td>\n",
       "      <td>1</td>\n",
       "      <td>0.421143</td>\n",
       "      <td>0.521484</td>\n",
       "      <td>0.516113</td>\n",
       "      <td>0.0</td>\n",
       "      <td>0.421053</td>\n",
       "      <td>0.421053</td>\n",
       "    </tr>\n",
       "    <tr>\n",
       "      <th>1</th>\n",
       "      <td>a1000001</td>\n",
       "      <td>44</td>\n",
       "      <td>3.0</td>\n",
       "      <td>1</td>\n",
       "      <td>20.0</td>\n",
       "      <td>40.000000</td>\n",
       "      <td>0</td>\n",
       "      <td>0.0</td>\n",
       "      <td>BPRG</td>\n",
       "      <td>0</td>\n",
       "      <td>...</td>\n",
       "      <td>5.000000</td>\n",
       "      <td>30.0</td>\n",
       "      <td>2</td>\n",
       "      <td>2</td>\n",
       "      <td>0.506836</td>\n",
       "      <td>0.492432</td>\n",
       "      <td>0.516113</td>\n",
       "      <td>0.0</td>\n",
       "      <td>0.475410</td>\n",
       "      <td>0.475410</td>\n",
       "    </tr>\n",
       "    <tr>\n",
       "      <th>2</th>\n",
       "      <td>a1000002</td>\n",
       "      <td>38</td>\n",
       "      <td>8.0</td>\n",
       "      <td>1</td>\n",
       "      <td>35.0</td>\n",
       "      <td>50.000000</td>\n",
       "      <td>0</td>\n",
       "      <td>0.0</td>\n",
       "      <td>BPRG</td>\n",
       "      <td>0</td>\n",
       "      <td>...</td>\n",
       "      <td>10.000000</td>\n",
       "      <td>85.0</td>\n",
       "      <td>1</td>\n",
       "      <td>1</td>\n",
       "      <td>0.642090</td>\n",
       "      <td>0.455322</td>\n",
       "      <td>0.535645</td>\n",
       "      <td>0.5</td>\n",
       "      <td>0.616505</td>\n",
       "      <td>0.616505</td>\n",
       "    </tr>\n",
       "    <tr>\n",
       "      <th>3</th>\n",
       "      <td>a1000002</td>\n",
       "      <td>38</td>\n",
       "      <td>8.0</td>\n",
       "      <td>1</td>\n",
       "      <td>50.0</td>\n",
       "      <td>50.000000</td>\n",
       "      <td>0</td>\n",
       "      <td>0.0</td>\n",
       "      <td>BPRG</td>\n",
       "      <td>1</td>\n",
       "      <td>...</td>\n",
       "      <td>14.990002</td>\n",
       "      <td>85.0</td>\n",
       "      <td>2</td>\n",
       "      <td>2</td>\n",
       "      <td>0.694336</td>\n",
       "      <td>0.479492</td>\n",
       "      <td>0.535645</td>\n",
       "      <td>0.5</td>\n",
       "      <td>0.713450</td>\n",
       "      <td>0.713450</td>\n",
       "    </tr>\n",
       "    <tr>\n",
       "      <th>4</th>\n",
       "      <td>a1000003</td>\n",
       "      <td>42</td>\n",
       "      <td>8.0</td>\n",
       "      <td>1</td>\n",
       "      <td>10.0</td>\n",
       "      <td>36.000000</td>\n",
       "      <td>0</td>\n",
       "      <td>0.0</td>\n",
       "      <td>PAYPALVC</td>\n",
       "      <td>0</td>\n",
       "      <td>...</td>\n",
       "      <td>0.000000</td>\n",
       "      <td>60.0</td>\n",
       "      <td>1</td>\n",
       "      <td>1</td>\n",
       "      <td>0.600586</td>\n",
       "      <td>0.606934</td>\n",
       "      <td>0.526367</td>\n",
       "      <td>0.0</td>\n",
       "      <td>0.573034</td>\n",
       "      <td>0.573034</td>\n",
       "    </tr>\n",
       "  </tbody>\n",
       "</table>\n",
       "<p>5 rows × 25 columns</p>\n",
       "</div>"
      ],
      "text/plain": [
       "    orderID sizeCode  productGroup  quantity  price        rrp voucherID  \\\n",
       "0  a1000001       44           3.0         1   10.0  29.984375         0   \n",
       "1  a1000001       44           3.0         1   20.0  40.000000         0   \n",
       "2  a1000002       38           8.0         1   35.0  50.000000         0   \n",
       "3  a1000002       38           8.0         1   50.0  50.000000         0   \n",
       "4  a1000003       42           8.0         1   10.0  36.000000         0   \n",
       "\n",
       "   voucherAmount paymentMethod  returnQuantity    ...     price_diff  \\\n",
       "0            0.0          BPRG               0    ...       0.000000   \n",
       "1            0.0          BPRG               0    ...       5.000000   \n",
       "2            0.0          BPRG               0    ...      10.000000   \n",
       "3            0.0          BPRG               1    ...      14.990002   \n",
       "4            0.0      PAYPALVC               0    ...       0.000000   \n",
       "\n",
       "   after_voucher  order_order  choice_order  articleID_prob  colorCode_prob  \\\n",
       "0           30.0            1             1        0.421143        0.521484   \n",
       "1           30.0            2             2        0.506836        0.492432   \n",
       "2           85.0            1             1        0.642090        0.455322   \n",
       "3           85.0            2             2        0.694336        0.479492   \n",
       "4           60.0            1             1        0.600586        0.606934   \n",
       "\n",
       "   sizeCode_prob  customerID_prob   ac_prob   as_prob  \n",
       "0       0.516113              0.0  0.421053  0.421053  \n",
       "1       0.516113              0.0  0.475410  0.475410  \n",
       "2       0.535645              0.5  0.616505  0.616505  \n",
       "3       0.535645              0.5  0.713450  0.713450  \n",
       "4       0.526367              0.0  0.573034  0.573034  \n",
       "\n",
       "[5 rows x 25 columns]"
      ]
     },
     "execution_count": 24,
     "metadata": {},
     "output_type": "execute_result"
    }
   ],
   "source": [
    "# Pakai make_datasets_train_only. Buat sendiri juga boleh\n",
    "\n",
    "df=pd.read_csv('train_gue.csv')\n",
    "\n",
    "if 'deviceID' in df.columns:\n",
    "    del df['deviceID']\n",
    "    \n",
    "del df[\"colorCode\"]\n",
    "del df['customerID']\n",
    "del df['articleID']\n",
    "del df['orderDate']\n",
    "#del df['productGroup']\n",
    "\n",
    "df.head()"
   ]
  },
  {
   "cell_type": "code",
   "execution_count": 25,
   "metadata": {
    "collapsed": false
   },
   "outputs": [
    {
     "name": "stderr",
     "output_type": "stream",
     "text": [
      "C:\\Anaconda2\\lib\\site-packages\\ipykernel\\__main__.py:1: SettingWithCopyWarning: \n",
      "A value is trying to be set on a copy of a slice from a DataFrame\n",
      "\n",
      "See the caveats in the documentation: http://pandas.pydata.org/pandas-docs/stable/indexing.html#indexing-view-versus-copy\n",
      "  if __name__ == '__main__':\n"
     ]
    }
   ],
   "source": [
    "df.customerID_prob[df.customerID_prob>1]=1"
   ]
  },
  {
   "cell_type": "code",
   "execution_count": 35,
   "metadata": {
    "collapsed": false
   },
   "outputs": [],
   "source": [
    "df.sizeCode[df.sizeCode == 'XS'] = 0\n",
    "df.sizeCode[df.sizeCode == 'S'] = 0.25\n",
    "df.sizeCode[df.sizeCode == 'M'] = 0.5\n",
    "df.sizeCode[df.sizeCode == 'L'] = 0.75\n",
    "df.sizeCode[df.sizeCode == 'XL'] = 1\n",
    "df.sizeCode[df.sizeCode == 'A'] = 0.70\n",
    "df.sizeCode[df.sizeCode == 'I'] = 0.70\n",
    "\n",
    "df.sizeCode=df.sizeCode.astype(np.float32)\n",
    "\n",
    "df.sizeCode[(df.sizeCode >= 32) & (df.sizeCode <= 44)] = (df.sizeCode[(df.sizeCode >= 32) & (df.sizeCode <= 44)]  -32)/ (44-32)\n",
    "df.sizeCode[(df.sizeCode >= 24) & (df.sizeCode <= 33)] = (df.sizeCode[(df.sizeCode >= 24) & (df.sizeCode <= 33)]  -24)/ (33-24)\n",
    "df.sizeCode[(df.sizeCode >= 75) & (df.sizeCode <= 100)] = (df.sizeCode[(df.sizeCode >= 75) & (df.sizeCode <= 100)]-75)/ (100-75)"
   ]
  },
  {
   "cell_type": "code",
   "execution_count": 36,
   "metadata": {
    "collapsed": false
   },
   "outputs": [
    {
     "data": {
      "text/plain": [
       "0          1.000000\n",
       "1          1.000000\n",
       "2          0.500000\n",
       "3          0.500000\n",
       "4          0.833333\n",
       "5          0.833333\n",
       "6          0.833333\n",
       "7          1.000000\n",
       "8          0.833333\n",
       "9          0.833333\n",
       "10         0.833333\n",
       "11         0.666667\n",
       "12         0.833333\n",
       "13         0.500000\n",
       "14         0.500000\n",
       "15         0.166667\n",
       "16         0.333333\n",
       "17         0.333333\n",
       "18         1.000000\n",
       "19         1.000000\n",
       "20         1.000000\n",
       "21         1.000000\n",
       "22         1.000000\n",
       "23         1.000000\n",
       "24         1.000000\n",
       "25         0.166667\n",
       "26         0.333333\n",
       "27         0.333333\n",
       "28         0.000000\n",
       "29         0.166667\n",
       "             ...   \n",
       "2325135    0.700000\n",
       "2325136    1.000000\n",
       "2325137    1.000000\n",
       "2325138    1.000000\n",
       "2325139    1.000000\n",
       "2325140    1.000000\n",
       "2325141    1.000000\n",
       "2325142    1.000000\n",
       "2325143    1.000000\n",
       "2325144    0.166667\n",
       "2325145    0.166667\n",
       "2325146    0.333333\n",
       "2325147    0.333333\n",
       "2325148    0.166667\n",
       "2325149    0.166667\n",
       "2325150    0.333333\n",
       "2325151    0.333333\n",
       "2325152    0.500000\n",
       "2325153    0.500000\n",
       "2325154    0.500000\n",
       "2325155    0.833333\n",
       "2325156    0.833333\n",
       "2325157    1.000000\n",
       "2325158    0.666667\n",
       "2325159    0.500000\n",
       "2325160    0.666667\n",
       "2325161    0.833333\n",
       "2325162    0.500000\n",
       "2325163    0.500000\n",
       "2325164    0.500000\n",
       "Name: sizeCode, dtype: float32"
      ]
     },
     "execution_count": 36,
     "metadata": {},
     "output_type": "execute_result"
    }
   ],
   "source": [
    "df.sizeCode"
   ]
  },
  {
   "cell_type": "code",
   "execution_count": 30,
   "metadata": {
    "collapsed": false,
    "scrolled": true
   },
   "outputs": [
    {
     "name": "stdout",
     "output_type": "stream",
     "text": [
      "Konversi kategori/object ke angka (ordinal):\n",
      "orderID\n",
      "voucherID\n"
     ]
    },
    {
     "name": "stderr",
     "output_type": "stream",
     "text": [
      "C:\\Anaconda2\\lib\\site-packages\\numpy\\lib\\arraysetops.py:200: FutureWarning: numpy not_equal will not check object identity in the future. The comparison did not return the same result as suggested by the identity (`is`)) and will change.\n",
      "  flag = np.concatenate(([True], aux[1:] != aux[:-1]))\n"
     ]
    },
    {
     "name": "stdout",
     "output_type": "stream",
     "text": [
      "paymentMethod\n"
     ]
    }
   ],
   "source": [
    "#Konversi kategori/object ke angka (ordinal)\n",
    "print \"Konversi kategori/object ke angka (ordinal):\"\n",
    "\n",
    "#Cari kolom yang tipenya object, bukan integer maupun float\n",
    "object_columns=df.loc[:, df.dtypes == object].columns\n",
    "\n",
    "\n",
    "for col in object_columns:\n",
    "    print col\n",
    "    le=LabelEncoder()\n",
    "    # Konversi deh\n",
    "    df[col]=le.fit_transform(df[col])\n",
    "    \n",
    "if 'orderID' in df.columns:\n",
    "    del df['orderID']"
   ]
  },
  {
   "cell_type": "code",
   "execution_count": 31,
   "metadata": {
    "collapsed": false
   },
   "outputs": [
    {
     "name": "stdout",
     "output_type": "stream",
     "text": [
      "float_64_columns ['productGroup', 'price', 'rrp', 'voucherAmount', 'order_total', 'customer_budget', 'expense_ratio', 'unit_price', 'usual_unit_price', 'price_diff', 'after_voucher', 'articleID_prob', 'colorCode_prob', 'sizeCode_prob', 'customerID_prob', 'ac_prob', 'as_prob']\n",
      "\n",
      "Kolom yang dipakai:  ['sizeCode', 'quantity', 'price', 'rrp', 'voucherID', 'voucherAmount', 'paymentMethod', 'order_total', 'customer_budget', 'expense_ratio', 'unit_price', 'usual_unit_price', 'price_diff', 'after_voucher', 'order_order', 'choice_order', 'articleID_prob', 'colorCode_prob', 'sizeCode_prob', 'customerID_prob', 'ac_prob', 'as_prob']\n"
     ]
    }
   ],
   "source": [
    "# Turunin presisi, iseng-iseng aja\n",
    "float_64_columns = df.loc[:, df.dtypes == np.float64].columns\n",
    "print \"float_64_columns\", float_64_columns.tolist()\n",
    "for col in float_64_columns:\n",
    "    df[col] = df[col].astype(np.float16)\n",
    "\n",
    "int_64_columns = df.loc[:, df.dtypes == np.int64].columns\n",
    "for col in int_64_columns:\n",
    "    df[col] = df[col].astype(np.int32)\n",
    "    \n",
    "\n",
    "# Impute\n",
    "df.rrp.fillna(df.rrp.median(), inplace=True)\n",
    "df.productGroup.fillna(0, inplace=True)\n",
    "\n",
    "print ''\n",
    "\n",
    "Xdf=df.drop([label, 'productGroup'], axis=1)\n",
    "print \"Kolom yang dipakai: \", Xdf.columns.tolist()\n",
    "X=Xdf.values\n",
    "y=df.returnQuantity.values\n",
    "\n",
    "Xdf_train, Xdf_test, ydf_train, ydf_test = train_test_split(Xdf, df.returnQuantity, test_size=0.15, random_state=42)\n",
    "\n",
    "# Cara cek Nan\n",
    "#Xdf.columns-Xdf.dropna(axis=1).columns"
   ]
  },
  {
   "cell_type": "code",
   "execution_count": 32,
   "metadata": {
    "collapsed": true
   },
   "outputs": [],
   "source": [
    "X_train, X_test, y_train, y_test = Xdf_train.values, Xdf_test.values, ydf_train.values, ydf_test.values"
   ]
  },
  {
   "cell_type": "code",
   "execution_count": 33,
   "metadata": {
    "collapsed": false
   },
   "outputs": [
    {
     "name": "stdout",
     "output_type": "stream",
     "text": [
      "[[117037  50625     10      0      0      0]\n",
      " [ 31594 148923      7      0      0      0]\n",
      " [     8    532      5      0      0      0]\n",
      " [     0     19      7      0      0      0]\n",
      " [     0      2      1      0      0      0]\n",
      " [     0      0      5      0      0      0]]\n",
      "82862.0\n"
     ]
    }
   ],
   "source": [
    "lr=LinearRegression(n_jobs=-1, normalize=True)\n",
    "lr.fit(X_train, y_train)\n",
    "y_pred_f=lr.predict(X_test)\n",
    "y_pred=np.round(y_pred_f).astype(np.int8)\n",
    "y_pred[y_pred<0]=0\n",
    "print confusion_matrix(y_test,y_pred)\n",
    "print dmc_error(y_test,y_pred)"
   ]
  },
  {
   "cell_type": "code",
   "execution_count": 58,
   "metadata": {
    "collapsed": false
   },
   "outputs": [
    {
     "name": "stdout",
     "output_type": "stream",
     "text": [
      "[[117083  50579     10      0      0      0]\n",
      " [ 31544 148974      6      0      0      0]\n",
      " [     8    533      4      0      0      0]\n",
      " [     0     19      7      0      0      0]\n",
      " [     0      2      1      0      0      0]\n",
      " [     0      0      1      4      0      0]]\n",
      "82762.0\n"
     ]
    }
   ],
   "source": [
    "df3=Xdf_test.quantity - y_pred"
   ]
  },
  {
   "cell_type": "code",
   "execution_count": 61,
   "metadata": {
    "collapsed": false
   },
   "outputs": [
    {
     "name": "stdout",
     "output_type": "stream",
     "text": [
      "[[107624  60047      1      0      0      0]\n",
      " [ 75209 105315      0      0      0      0]\n",
      " [   146    399      0      0      0      0]\n",
      " [     9     17      0      0      0      0]\n",
      " [     0      3      0      0      0      0]\n",
      " [     1      4      0      0      0      0]]\n",
      "136040.0\n"
     ]
    }
   ],
   "source": [
    "from sklearn.linear_model import Lasso\n",
    "lasso = Lasso()\n",
    "lasso.fit(X_train, y_train)\n",
    "y_pred_l = lasso.predict(X_test)\n",
    "y_pred_l = np.round(y_pred_l)\n",
    "y_pred_l[y_pred_l<0]=0\n",
    "print confusion_matrix(y_test,y_pred_l)\n",
    "print dmc_error(y_test,y_pred_l)"
   ]
  },
  {
   "cell_type": "markdown",
   "metadata": {},
   "source": [
    "# 82766\n",
    "Kiri: True, Atas Predicted\n",
    "```\n",
    "[[117083  50579     10      0      0      0]\n",
    " [ 31544 148974      6      0      0      0]\n",
    " [     8    533      4      0      0      0]\n",
    " [     0     19      7      0      0      0]\n",
    " [     0      2      1      0      0      0]\n",
    " [     0      0      5      0      0      0]]\n",
    "```"
   ]
  },
  {
   "cell_type": "markdown",
   "metadata": {},
   "source": [
    "### Ini Importances?"
   ]
  },
  {
   "cell_type": "code",
   "execution_count": 45,
   "metadata": {
    "collapsed": false
   },
   "outputs": [
    {
     "data": {
      "text/plain": [
       "[('quantity', 1),\n",
       " ('voucherAmount', 1),\n",
       " ('order_total', 1),\n",
       " ('expense_ratio', 1),\n",
       " ('unit_price', 1),\n",
       " ('usual_unit_price', 1),\n",
       " ('price_diff', 1),\n",
       " ('after_voucher', 1),\n",
       " ('choice_order', 1),\n",
       " ('articleID_prob', 1),\n",
       " ('colorCode_prob', 1),\n",
       " ('sizeCode_prob', 1),\n",
       " ('customerID_prob', 1),\n",
       " ('ac_prob', 1),\n",
       " ('as_prob', 1),\n",
       " ('paymentMethod', 2),\n",
       " ('sizeCode', 3),\n",
       " ('price', 4),\n",
       " ('customer_budget', 5),\n",
       " ('rrp', 6),\n",
       " ('order_order', 7),\n",
       " ('months', 8),\n",
       " ('mmdd', 9)]"
      ]
     },
     "execution_count": 45,
     "metadata": {},
     "output_type": "execute_result"
    }
   ],
   "source": [
    "from sklearn.feature_selection import RFE\n",
    "lr=LinearRegression(n_jobs=-1, normalize=True)\n",
    "selector = RFE(lr, 15, step=1)\n",
    "selector = selector.fit(X, y)\n",
    "pair=zip(Xdf.columns, selector.ranking_)\n",
    "t1=[i for i in pair]; t1\n",
    "sorted(t1, key=itemgetter(1))"
   ]
  },
  {
   "cell_type": "code",
   "execution_count": 8,
   "metadata": {
    "collapsed": false
   },
   "outputs": [
    {
     "name": "stderr",
     "output_type": "stream",
     "text": [
      "C:\\Anaconda2\\lib\\site-packages\\sklearn\\linear_model\\sag.py:267: ConvergenceWarning: The max_iter was reached which means the coef_ did not converge\n",
      "  \"the coef_ did not converge\", ConvergenceWarning)\n"
     ]
    },
    {
     "name": "stdout",
     "output_type": "stream",
     "text": [
      "[[113961  53639     72      0      0      0]\n",
      " [ 33479 147009     36      0      0      0]\n",
      " [   130    385     30      0      0      0]\n",
      " [    10      7      9      0      0      0]\n",
      " [     0      0      3      0      0      0]\n",
      " [     0      0      5      0      0      0]]\n",
      "88017\n"
     ]
    }
   ],
   "source": [
    "from sklearn.linear_model import LogisticRegression\n",
    "\n",
    "logreg = LogisticRegression(solver='sag', n_jobs=-1)\n",
    "logreg.fit(X_train, y_train)\n",
    "y_pred_logreg = logreg.predict(X_test)\n",
    "print confusion_matrix(y_test, y_pred_logreg)\n",
    "print dmc_error(y_test, y_pred_logreg)"
   ]
  },
  {
   "cell_type": "markdown",
   "metadata": {},
   "source": [
    "# 88017 Logistic Regression lama banget\n",
    "\n",
    "```\n",
    "[[113961  53639     72      0      0      0]\n",
    " [ 33479 147009     36      0      0      0]\n",
    " [   130    385     30      0      0      0]\n",
    " [    10      7      9      0      0      0]\n",
    " [     0      0      3      0      0      0]\n",
    " [     0      0      5      0      0      0]]\n",
    " ```"
   ]
  },
  {
   "cell_type": "code",
   "execution_count": 9,
   "metadata": {
    "collapsed": false
   },
   "outputs": [
    {
     "data": {
      "text/html": [
       "<div>\n",
       "<table border=\"1\" class=\"dataframe\">\n",
       "  <thead>\n",
       "    <tr style=\"text-align: right;\">\n",
       "      <th></th>\n",
       "      <th>sizeCode</th>\n",
       "      <th>productGroup</th>\n",
       "      <th>quantity</th>\n",
       "      <th>price</th>\n",
       "      <th>rrp</th>\n",
       "      <th>voucherAmount</th>\n",
       "      <th>paymentMethod</th>\n",
       "      <th>returnQuantity</th>\n",
       "      <th>mmdd</th>\n",
       "      <th>months</th>\n",
       "      <th>...</th>\n",
       "      <th>price_diff</th>\n",
       "      <th>after_voucher</th>\n",
       "      <th>order_order</th>\n",
       "      <th>choice_order</th>\n",
       "      <th>articleID_prob</th>\n",
       "      <th>colorCode_prob</th>\n",
       "      <th>sizeCode_prob</th>\n",
       "      <th>customerID_prob</th>\n",
       "      <th>ac_prob</th>\n",
       "      <th>as_prob</th>\n",
       "    </tr>\n",
       "  </thead>\n",
       "  <tbody>\n",
       "    <tr>\n",
       "      <th>0</th>\n",
       "      <td>16</td>\n",
       "      <td>3.0</td>\n",
       "      <td>1</td>\n",
       "      <td>10.0</td>\n",
       "      <td>29.984375</td>\n",
       "      <td>0.0</td>\n",
       "      <td>2</td>\n",
       "      <td>0</td>\n",
       "      <td>0</td>\n",
       "      <td>1</td>\n",
       "      <td>...</td>\n",
       "      <td>0.000000</td>\n",
       "      <td>30.0</td>\n",
       "      <td>1</td>\n",
       "      <td>1</td>\n",
       "      <td>0.421143</td>\n",
       "      <td>0.521484</td>\n",
       "      <td>0.516113</td>\n",
       "      <td>0.0</td>\n",
       "      <td>0.421143</td>\n",
       "      <td>0.421143</td>\n",
       "    </tr>\n",
       "    <tr>\n",
       "      <th>1</th>\n",
       "      <td>16</td>\n",
       "      <td>3.0</td>\n",
       "      <td>1</td>\n",
       "      <td>20.0</td>\n",
       "      <td>40.000000</td>\n",
       "      <td>0.0</td>\n",
       "      <td>2</td>\n",
       "      <td>0</td>\n",
       "      <td>0</td>\n",
       "      <td>1</td>\n",
       "      <td>...</td>\n",
       "      <td>5.000000</td>\n",
       "      <td>30.0</td>\n",
       "      <td>2</td>\n",
       "      <td>2</td>\n",
       "      <td>0.506836</td>\n",
       "      <td>0.492432</td>\n",
       "      <td>0.516113</td>\n",
       "      <td>0.0</td>\n",
       "      <td>0.475342</td>\n",
       "      <td>0.475342</td>\n",
       "    </tr>\n",
       "    <tr>\n",
       "      <th>2</th>\n",
       "      <td>13</td>\n",
       "      <td>8.0</td>\n",
       "      <td>1</td>\n",
       "      <td>35.0</td>\n",
       "      <td>50.000000</td>\n",
       "      <td>0.0</td>\n",
       "      <td>2</td>\n",
       "      <td>0</td>\n",
       "      <td>0</td>\n",
       "      <td>1</td>\n",
       "      <td>...</td>\n",
       "      <td>10.000000</td>\n",
       "      <td>85.0</td>\n",
       "      <td>1</td>\n",
       "      <td>1</td>\n",
       "      <td>0.642090</td>\n",
       "      <td>0.455322</td>\n",
       "      <td>0.535645</td>\n",
       "      <td>0.5</td>\n",
       "      <td>0.616699</td>\n",
       "      <td>0.616699</td>\n",
       "    </tr>\n",
       "    <tr>\n",
       "      <th>3</th>\n",
       "      <td>13</td>\n",
       "      <td>8.0</td>\n",
       "      <td>1</td>\n",
       "      <td>50.0</td>\n",
       "      <td>50.000000</td>\n",
       "      <td>0.0</td>\n",
       "      <td>2</td>\n",
       "      <td>1</td>\n",
       "      <td>0</td>\n",
       "      <td>1</td>\n",
       "      <td>...</td>\n",
       "      <td>14.992188</td>\n",
       "      <td>85.0</td>\n",
       "      <td>2</td>\n",
       "      <td>2</td>\n",
       "      <td>0.694336</td>\n",
       "      <td>0.479492</td>\n",
       "      <td>0.535645</td>\n",
       "      <td>0.5</td>\n",
       "      <td>0.713379</td>\n",
       "      <td>0.713379</td>\n",
       "    </tr>\n",
       "    <tr>\n",
       "      <th>4</th>\n",
       "      <td>15</td>\n",
       "      <td>8.0</td>\n",
       "      <td>1</td>\n",
       "      <td>10.0</td>\n",
       "      <td>36.000000</td>\n",
       "      <td>0.0</td>\n",
       "      <td>7</td>\n",
       "      <td>0</td>\n",
       "      <td>0</td>\n",
       "      <td>1</td>\n",
       "      <td>...</td>\n",
       "      <td>0.000000</td>\n",
       "      <td>60.0</td>\n",
       "      <td>1</td>\n",
       "      <td>1</td>\n",
       "      <td>0.600586</td>\n",
       "      <td>0.606934</td>\n",
       "      <td>0.526367</td>\n",
       "      <td>0.0</td>\n",
       "      <td>0.573242</td>\n",
       "      <td>0.573242</td>\n",
       "    </tr>\n",
       "  </tbody>\n",
       "</table>\n",
       "<p>5 rows × 25 columns</p>\n",
       "</div>"
      ],
      "text/plain": [
       "   sizeCode  productGroup  quantity  price        rrp  voucherAmount  \\\n",
       "0        16           3.0         1   10.0  29.984375            0.0   \n",
       "1        16           3.0         1   20.0  40.000000            0.0   \n",
       "2        13           8.0         1   35.0  50.000000            0.0   \n",
       "3        13           8.0         1   50.0  50.000000            0.0   \n",
       "4        15           8.0         1   10.0  36.000000            0.0   \n",
       "\n",
       "   paymentMethod  returnQuantity  mmdd  months    ...     price_diff  \\\n",
       "0              2               0     0       1    ...       0.000000   \n",
       "1              2               0     0       1    ...       5.000000   \n",
       "2              2               0     0       1    ...      10.000000   \n",
       "3              2               1     0       1    ...      14.992188   \n",
       "4              7               0     0       1    ...       0.000000   \n",
       "\n",
       "   after_voucher  order_order  choice_order  articleID_prob  colorCode_prob  \\\n",
       "0           30.0            1             1        0.421143        0.521484   \n",
       "1           30.0            2             2        0.506836        0.492432   \n",
       "2           85.0            1             1        0.642090        0.455322   \n",
       "3           85.0            2             2        0.694336        0.479492   \n",
       "4           60.0            1             1        0.600586        0.606934   \n",
       "\n",
       "   sizeCode_prob  customerID_prob   ac_prob   as_prob  \n",
       "0       0.516113              0.0  0.421143  0.421143  \n",
       "1       0.516113              0.0  0.475342  0.475342  \n",
       "2       0.535645              0.5  0.616699  0.616699  \n",
       "3       0.535645              0.5  0.713379  0.713379  \n",
       "4       0.526367              0.0  0.573242  0.573242  \n",
       "\n",
       "[5 rows x 25 columns]"
      ]
     },
     "execution_count": 9,
     "metadata": {},
     "output_type": "execute_result"
    }
   ],
   "source": [
    "df.head()"
   ]
  },
  {
   "cell_type": "code",
   "execution_count": 10,
   "metadata": {
    "collapsed": false
   },
   "outputs": [],
   "source": [
    "# rfr=RandomForestRegressor(20, n_jobs=3)\n",
    "# rfr.fit(X_train, y_train)\n",
    "# y_pred_rfr=rfr.predict(X_test)\n",
    "# y_pred_rfr=np.array([round(yp) for yp in y_pred_rfr], dtype=np.int8)\n",
    "# y_pred_rfr[y_pred_rfr<0]=0\n",
    "# print confusion_matrix(y_test,y_pred_rfr)\n",
    "# print dmc_error(y_test,y_pred_rfr)"
   ]
  },
  {
   "cell_type": "code",
   "execution_count": 11,
   "metadata": {
    "collapsed": false
   },
   "outputs": [],
   "source": [
    "# feature_importances(Xdf, rfr)"
   ]
  },
  {
   "cell_type": "code",
   "execution_count": 12,
   "metadata": {
    "collapsed": false
   },
   "outputs": [],
   "source": [
    "# y_pred_ens=(1*rfr.predict(X_test) + 9*model.predict(X_test))/10\n",
    "# y_pred_ens=np.array([round(yp) for yp in y_pred_ens], dtype=np.int8)\n",
    "# y_pred_ens[y_pred_ens<0]=0\n",
    "# print confusion_matrix(y_test,y_pred_ens)\n",
    "# print dmc_error(y_test,y_pred_ens)"
   ]
  },
  {
   "cell_type": "code",
   "execution_count": null,
   "metadata": {
    "collapsed": true
   },
   "outputs": [],
   "source": [
    "#lr=LinearRegression(n_jobs=-1, normalize=True)\n",
    "#lr.fit(X_train, y_train**2)\n",
    "#y_pred=lr.predict(X_test)\n",
    "#y_pred=np.array([round(yp+0.00049) for yp in y_pred], dtype=np.int8)\n",
    "#print y_pred\n",
    "#y_pred=np.array([round(yp**0.5) for yp in y_pred])\n",
    "#y_pred[y_pred<0]=0\n",
    "#print confusion_matrix(y_test,y_pred)\n",
    "#print dmc_error(y_test,y_pred)"
   ]
  },
  {
   "cell_type": "markdown",
   "metadata": {},
   "source": [
    "```\n",
    "\n",
    "```"
   ]
  }
 ],
 "metadata": {
  "kernelspec": {
   "display_name": "Python 2",
   "language": "python",
   "name": "python2"
  },
  "language_info": {
   "codemirror_mode": {
    "name": "ipython",
    "version": 2
   },
   "file_extension": ".py",
   "mimetype": "text/x-python",
   "name": "python",
   "nbconvert_exporter": "python",
   "pygments_lexer": "ipython2",
   "version": "2.7.11"
  }
 },
 "nbformat": 4,
 "nbformat_minor": 0
}
