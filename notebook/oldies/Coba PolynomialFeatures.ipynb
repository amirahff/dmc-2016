{
 "cells": [
  {
   "cell_type": "code",
   "execution_count": 1,
   "metadata": {
    "collapsed": false
   },
   "outputs": [],
   "source": [
    "from __future__ import division\n",
    "\n",
    "label='returnQuantity'\n",
    "\n",
    "import pandas as pd\n",
    "import numpy as np\n",
    "from sklearn.ensemble import RandomForestClassifier\n",
    "from sklearn.ensemble import RandomForestRegressor\n",
    "from sklearn.cross_validation import train_test_split\n",
    "from datetime import datetime\n",
    "from sklearn.preprocessing import PolynomialFeatures\n",
    "from sklearn.linear_model import LinearRegression\n",
    "from sklearn.linear_model import SGDRegressor\n",
    "from sklearn import linear_model\n",
    "from sklearn import svm\n",
    "from sklearn.cross_validation import cross_val_score\n",
    "from sklearn.metrics import confusion_matrix\n",
    "%matplotlib inline\n",
    "from sklearn.preprocessing import LabelEncoder\n",
    "from tempfile import TemporaryFile\n",
    "#from sklearn.externals import joblib\n",
    "\n",
    "def dmc_error(returnQuantity, prediction):\n",
    "    #∑ |returnQuantity𝑖 − prediction𝑖 |\n",
    "    return np.sum(np.abs( np.subtract(returnQuantity, prediction) ))"
   ]
  },
  {
   "cell_type": "code",
   "execution_count": 2,
   "metadata": {
    "collapsed": false
   },
   "outputs": [],
   "source": [
    "df=pd.read_csv('train_gue.csv')"
   ]
  },
  {
   "cell_type": "code",
   "execution_count": 3,
   "metadata": {
    "collapsed": false
   },
   "outputs": [
    {
     "name": "stdout",
     "output_type": "stream",
     "text": [
      "<class 'pandas.core.frame.DataFrame'>\n",
      "RangeIndex: 2325165 entries, 0 to 2325164\n",
      "Data columns (total 30 columns):\n",
      "orderID             object\n",
      "orderDate           object\n",
      "articleID           object\n",
      "colorCode           int64\n",
      "sizeCode            object\n",
      "productGroup        float64\n",
      "quantity            int64\n",
      "price               float64\n",
      "rrp                 float64\n",
      "voucherAmount       float64\n",
      "customerID          object\n",
      "paymentMethod       object\n",
      "returnQuantity      int64\n",
      "mmdd                object\n",
      "months              int64\n",
      "order_total         float64\n",
      "customer_budget     float64\n",
      "expense_ratio       float64\n",
      "unit_price          float64\n",
      "usual_unit_price    float64\n",
      "price_diff          float64\n",
      "after_voucher       float64\n",
      "order_order         int64\n",
      "choice_order        int64\n",
      "articleID_prob      float64\n",
      "colorCode_prob      float64\n",
      "customerID_prob     float64\n",
      "sizeCode_prob       float64\n",
      "ac_prob             float64\n",
      "as_prob             float64\n",
      "dtypes: float64(17), int64(6), object(7)\n",
      "memory usage: 532.2+ MB\n"
     ]
    }
   ],
   "source": [
    "df.info()"
   ]
  },
  {
   "cell_type": "code",
   "execution_count": 3,
   "metadata": {
    "collapsed": false
   },
   "outputs": [],
   "source": [
    "#drop fitur2 yg tipenya object (bkn numerik)\n",
    "\n",
    "object_columns=df.loc[:, df.dtypes == object].columns\n",
    "df= df.drop(object_columns, axis=1)"
   ]
  },
  {
   "cell_type": "code",
   "execution_count": 4,
   "metadata": {
    "collapsed": false
   },
   "outputs": [],
   "source": [
    "#banyak yg didrop biar ga keberatan memorinya. Yg didrop yg menurutku redundan atau kurang prioritas\n",
    "#fyi, kalau fitur2 ini didrop dan diprediksi pake LinearRegression (tanpa dibuat PolynomialFeatures nya),\n",
    "# errornya jadi 83007, naik dr yg sebelumnya 82644\n",
    "#  tapi entah ini krn fitur2nya tak drop atau krn yg 82644 missing valuenya tak drop (yg 83007 enggak soalnya \n",
    "#   fitur ada missing valuenya (productGroup, rrp, sm cvoucherID) udah didrop duluan\n",
    "\n",
    "df= df.drop(['colorCode','productGroup','months','rrp','price','voucherAmount','after_voucher'], axis=1)"
   ]
  },
  {
   "cell_type": "code",
   "execution_count": 6,
   "metadata": {
    "collapsed": true
   },
   "outputs": [],
   "source": [
    "label='returnQuantity'\n",
    "\n",
    "Xdf=df.drop([label], axis=1)\n",
    "\n",
    "X=Xdf.values\n",
    "y=df.returnQuantity.values"
   ]
  },
  {
   "cell_type": "code",
   "execution_count": 7,
   "metadata": {
    "collapsed": false
   },
   "outputs": [],
   "source": [
    "#generate polynomial features\n",
    "#with degree=2, e.g: [x1, x2] --> [1, x1, x2, x1^2, x2^2, x1*x2]\n",
    "\n",
    "poly = PolynomialFeatures(2)\n",
    "X = poly.fit_transform(X)"
   ]
  },
  {
   "cell_type": "code",
   "execution_count": 4,
   "metadata": {
    "collapsed": true
   },
   "outputs": [],
   "source": [
    "X_train, X_test, y_train, y_test = train_test_split(X, y, test_size=0.15, random_state=42)"
   ]
  },
  {
   "cell_type": "code",
   "execution_count": 5,
   "metadata": {
    "collapsed": true
   },
   "outputs": [],
   "source": [
    "#kalau ga didelete ngehang, memorinya ga cukup\n",
    "\n",
    "del df\n",
    "del X\n",
    "del y"
   ]
  },
  {
   "cell_type": "code",
   "execution_count": 6,
   "metadata": {
    "collapsed": false
   },
   "outputs": [
    {
     "name": "stdout",
     "output_type": "stream",
     "text": [
      "[[118437  49227      8      0      0      0]\n",
      " [ 31806 148593    123      2      0      0]\n",
      " [    26    314    205      0      0      0]\n",
      " [     0      6     14      6      0      0]\n",
      " [     0      2      0      1      0      0]\n",
      " [     0      0      1      3      1      0]]\n",
      "81585\n"
     ]
    }
   ],
   "source": [
    "lr=LinearRegression(n_jobs=-1, normalize=True)\n",
    "lr.fit(X_train, y_train)\n",
    "y_pred=lr.predict(X_test)\n",
    "y_pred=np.array([round(yp) for yp in y_pred], dtype=np.int8)\n",
    "y_pred[y_pred<0]=0\n",
    "print confusion_matrix(y_test,y_pred)\n",
    "print dmc_error(y_test,y_pred)"
   ]
  },
  {
   "cell_type": "code",
   "execution_count": 7,
   "metadata": {
    "collapsed": false
   },
   "outputs": [
    {
     "name": "stdout",
     "output_type": "stream",
     "text": [
      "[[124486  43183      3      0      0      0]\n",
      " [ 52403 128079     41      1      0      0]\n",
      " [   117    427      1      0      0      0]\n",
      " [     5     21      0      0      0      0]\n",
      " [     1      2      0      0      0      0]\n",
      " [     1      4      0      0      0      0]]\n",
      "96384\n"
     ]
    }
   ],
   "source": [
    "lr=linear_model.Lasso()\n",
    "lr.fit(X_train, y_train)\n",
    "y_pred=lr.predict(X_test)\n",
    "y_pred=np.array([round(yp) for yp in y_pred], dtype=np.int8)\n",
    "y_pred[y_pred<0]=0\n",
    "print confusion_matrix(y_test,y_pred)\n",
    "print dmc_error(y_test,y_pred)"
   ]
  },
  {
   "cell_type": "code",
   "execution_count": null,
   "metadata": {
    "collapsed": true
   },
   "outputs": [],
   "source": []
  }
 ],
 "metadata": {
  "kernelspec": {
   "display_name": "Python 2",
   "language": "python",
   "name": "python2"
  },
  "language_info": {
   "codemirror_mode": {
    "name": "ipython",
    "version": 2
   },
   "file_extension": ".py",
   "mimetype": "text/x-python",
   "name": "python",
   "nbconvert_exporter": "python",
   "pygments_lexer": "ipython2",
   "version": "2.7.11"
  }
 },
 "nbformat": 4,
 "nbformat_minor": 0
}
