{
 "cells": [
  {
   "cell_type": "code",
   "execution_count": 47,
   "metadata": {
    "collapsed": true
   },
   "outputs": [],
   "source": [
    "from __future__ import division\n",
    "\n",
    "label='returnQuantity'\n",
    "\n",
    "import pandas as pd\n",
    "import numpy as np\n",
    "from sklearn.ensemble import RandomForestClassifier\n",
    "from sklearn.ensemble import RandomForestRegressor\n",
    "from sklearn.cross_validation import train_test_split\n",
    "from sklearn.preprocessing import PolynomialFeatures\n",
    "from sklearn.linear_model import LinearRegression\n",
    "from sklearn import linear_model\n",
    "from scipy import stats\n",
    "from sklearn.cross_validation import cross_val_score\n",
    "from sklearn.metrics import confusion_matrix\n",
    "from sklearn.preprocessing import LabelEncoder"
   ]
  },
  {
   "cell_type": "code",
   "execution_count": 48,
   "metadata": {
    "collapsed": true
   },
   "outputs": [],
   "source": [
    "def dmc_error(label, prediction):\n",
    "    #∑ |returnQuantity𝑖 − prediction𝑖 |\n",
    "    return np.sum(np.abs( np.subtract(label, prediction) ))\n",
    "\n",
    "def feature_importances(Xdf, rfc):\n",
    "    pair=zip(Xdf.columns, rfc.feature_importances_)\n",
    "    t1=[i for i in pair]; t1\n",
    "    return sorted(t1, key=itemgetter(1))\n",
    "\n",
    "def rbf_svm(X_train, y_train, X_test, C):\n",
    "    from sklearn.svm import SVC\n",
    "    clf = SVC( C=C, kernel='rbf')\n",
    "    clf.fit(X_train,y_train)\n",
    "    return clf.predict(X_test)\n",
    "\n",
    "def randfor(X_train, y_train, X_test, est):\n",
    "    from sklearn.ensemble import RandomForestClassifier\n",
    "    clf = RandomForestClassifier(n_estimators = est, criterion = 'gini', random_state = 1234)\n",
    "    clf.fit(X_train, y_train)\n",
    "    return clf.predict(X_test)"
   ]
  },
  {
   "cell_type": "code",
   "execution_count": 49,
   "metadata": {
    "collapsed": false
   },
   "outputs": [],
   "source": [
    "from datetime import datetime\n",
    "df = pd.read_pickle('train_gue2.pkl')"
   ]
  },
  {
   "cell_type": "code",
   "execution_count": 50,
   "metadata": {
    "collapsed": true
   },
   "outputs": [],
   "source": [
    "object_columns=df.loc[:, df.dtypes == object].columns\n",
    "df= df.drop(object_columns, axis=1)"
   ]
  },
  {
   "cell_type": "code",
   "execution_count": 51,
   "metadata": {
    "collapsed": false
   },
   "outputs": [],
   "source": [
    "Xdf=df.drop([label,'months','colorCode','productGroup', 'deviceID','rrp','price','voucherAmount','after_voucher'], axis=1)\n",
    "X=Xdf.values\n",
    "y=df.returnQuantity.values"
   ]
  },
  {
   "cell_type": "code",
   "execution_count": 52,
   "metadata": {
    "collapsed": true
   },
   "outputs": [],
   "source": [
    "X_train, X_test, y_train, y_test = train_test_split(X, y, test_size=0.15, random_state=42)"
   ]
  },
  {
   "cell_type": "code",
   "execution_count": 53,
   "metadata": {
    "collapsed": false
   },
   "outputs": [
    {
     "name": "stdout",
     "output_type": "stream",
     "text": [
      "2016-05-11 20:22:24.300247\n",
      "[[167672      0      0      0      0      0]\n",
      " [     0 180524      0      0      0      0]\n",
      " [     0    545      0      0      0      0]\n",
      " [     0     26      0      0      0      0]\n",
      " [     0      3      0      0      0      0]\n",
      " [     0      5      0      0      0      0]]\n",
      "626\n",
      "2016-05-11 20:23:26.691733\n"
     ]
    }
   ],
   "source": [
    "print datetime.now()\n",
    "\n",
    "lr=LinearRegression(n_jobs=-1, normalize=True)\n",
    "lr.fit(X_train, y_train)\n",
    "y_pred=lr.predict(X_test)\n",
    "y_pred=np.array([round(yp) for yp in y_pred], dtype=np.int8)\n",
    "y_pred[y_pred<0]=0\n",
    "print confusion_matrix(y_test,y_pred)\n",
    "print dmc_error(y_test,y_pred)\n",
    "    \n",
    "print datetime.now()"
   ]
  },
  {
   "cell_type": "code",
   "execution_count": 28,
   "metadata": {
    "collapsed": false
   },
   "outputs": [],
   "source": [
    "def time_series_validation(n, step):\n",
    "    \"\"\"Cross validation for time-series data.\"\"\"\n",
    "    leap = 100; k = 2200; h = 650\n",
    "    indices = np.arange(n)\n",
    "    for i in range(step):\n",
    "        yield indices[:k], indices[k:k+h]\n",
    "        k += leap"
   ]
  },
  {
   "cell_type": "code",
   "execution_count": 29,
   "metadata": {
    "collapsed": false
   },
   "outputs": [],
   "source": [
    "def validation(X,y):\n",
    "    \"\"\"Local Cross Validation.\n",
    "    \"\"\"\n",
    "    X_train, X_test, y_train, y_test = train_test_split(X, y, test_size=0.15, random_state=42)\n",
    "    regress = LinearRegression(n_jobs=-1, normalize=True)\n",
    "\n",
    "    print(\" --- Start local evaluation.\")\n",
    "    # kf = cross_validation.KFold(X_coupons.shape[0], n_folds=10)\n",
    "    # ss = cross_validation.ShuffleSplit(X_coupons.shape[0], n_iter=100, train_size=0.9)\n",
    "    tsv = time_series_validation(X_train.shape[0], 33)\n",
    "    i=1; scores = []\n",
    "    for train, test in tsv:\n",
    "        size = test.shape[0]\n",
    "\n",
    "        regress.fit(X_train[train], y_train[train])\n",
    "        y_preds = np.exp(regress.predict(X_train[test]))\n",
    "        y_preds = y_preds.reshape(size, 1)\n",
    "\n",
    "        y_true = y_train[test].reshape(X_train[test].shape[0], 1)\n",
    "        \n",
    "        score = dmc_error(y_true, y_preds)\n",
    "\n",
    "        print(\" ---- Score of #{0} : {1:.5f}\".format(i, score))\n",
    "        i += 1\n",
    "        scores.append(score)\n",
    "\n",
    "    print(\" --- Finished local evaluation.\")\n",
    "    quantiles = stats.mstats.mquantiles(scores)\n",
    "    print(\" --- Score Results:\")\n",
    "    print(\" - min: {:.5f}\".format(np.min(scores)))\n",
    "    print(\" - 25%: {:.5f}\".format(quantiles[0]))\n",
    "    print(\" - median: {:.5f}\".format(np.median(scores)))\n",
    "    print(\" - 75%: {:.5f}\".format(quantiles[2]))\n",
    "    print(\" - max: {:.5f}\".format(np.max(scores)))\n",
    "    print(\" - mean: {0:.5f} (+/-{1:.5f})\".format(np.mean(scores), stats.sem(scores)))"
   ]
  },
  {
   "cell_type": "code",
   "execution_count": 30,
   "metadata": {
    "collapsed": false
   },
   "outputs": [
    {
     "name": "stdout",
     "output_type": "stream",
     "text": [
      " --- Start local evaluation.\n",
      " ---- Score of #1 : 893.00939\n",
      " ---- Score of #2 : 896.85903\n",
      " ---- Score of #3 : 897.05833\n",
      " ---- Score of #4 : 904.26207\n",
      " ---- Score of #5 : 900.71143\n",
      " ---- Score of #6 : 898.54793\n",
      " ---- Score of #7 : 896.35610\n",
      " ---- Score of #8 : 894.51887\n",
      " ---- Score of #9 : 891.65619\n",
      " ---- Score of #10 : 897.30749\n",
      " ---- Score of #11 : 898.84775\n",
      " ---- Score of #12 : 906.08629\n",
      " ---- Score of #13 : 909.47333\n",
      " ---- Score of #14 : 908.29445\n",
      " ---- Score of #15 : 911.22435\n",
      " ---- Score of #16 : 905.37379\n",
      " ---- Score of #17 : 899.68837\n",
      " ---- Score of #18 : 894.01575\n",
      " ---- Score of #19 : 883.68090\n",
      " ---- Score of #20 : 885.73610\n",
      " ---- Score of #21 : 891.10522\n",
      " ---- Score of #22 : 887.39037\n",
      " ---- Score of #23 : 890.18540\n",
      " ---- Score of #24 : 889.50348\n",
      " ---- Score of #25 : 898.00935\n",
      " ---- Score of #26 : 899.75675\n",
      " ---- Score of #27 : 899.00863\n",
      " ---- Score of #28 : 899.39555\n",
      " ---- Score of #29 : 901.53997\n",
      " ---- Score of #30 : 899.81793\n",
      " ---- Score of #31 : 900.49600\n",
      " ---- Score of #32 : 900.89190\n",
      " ---- Score of #33 : 902.22798\n",
      " --- Finished local evaluation.\n",
      " --- Score Results:\n",
      " - min: 883.68090\n",
      " - 25%: 893.71384\n",
      " - median: 898.84775\n",
      " - 75%: 901.08632\n",
      " - max: 911.22435\n",
      " - mean: 897.94050 (+/-1.14492)\n"
     ]
    }
   ],
   "source": [
    "validation(X,y)"
   ]
  },
  {
   "cell_type": "code",
   "execution_count": 57,
   "metadata": {
    "collapsed": false
   },
   "outputs": [
    {
     "name": "stdout",
     "output_type": "stream",
     "text": [
      "<class 'pandas.core.frame.DataFrame'>\n",
      "Int64Index: 2325165 entries, 0 to 2325164\n",
      "Data columns (total 27 columns):\n",
      "colorCode             int32\n",
      "productGroup          float16\n",
      "quantity              int32\n",
      "price                 float16\n",
      "rrp                   float16\n",
      "voucherAmount         float16\n",
      "deviceID              int32\n",
      "returnQuantity        int32\n",
      "binaryLabel           int32\n",
      "months                int8\n",
      "seasons               int32\n",
      "order_total           float32\n",
      "customer_budget       float32\n",
      "expense_ratio         float16\n",
      "unit_price            float32\n",
      "usual_unit_price      float32\n",
      "price_diff            float32\n",
      "after_voucher         float16\n",
      "order_order           int32\n",
      "choice_order          int32\n",
      "articleID_cumprob     float16\n",
      "colorCode_cumprob     float16\n",
      "customerID_cumprob    float16\n",
      "sizeCode_cumprob      float16\n",
      "ac_cumprob            float64\n",
      "as_cumprob            float64\n",
      "proSea_cumprob        float64\n",
      "dtypes: float16(10), float32(5), float64(3), int32(8), int8(1)\n",
      "memory usage: 232.8 MB\n"
     ]
    }
   ],
   "source": [
    "df.info()"
   ]
  },
  {
   "cell_type": "code",
   "execution_count": null,
   "metadata": {
    "collapsed": true
   },
   "outputs": [],
   "source": []
  }
 ],
 "metadata": {
  "kernelspec": {
   "display_name": "Python 2",
   "language": "python",
   "name": "python2"
  },
  "language_info": {
   "codemirror_mode": {
    "name": "ipython",
    "version": 2
   },
   "file_extension": ".py",
   "mimetype": "text/x-python",
   "name": "python",
   "nbconvert_exporter": "python",
   "pygments_lexer": "ipython2",
   "version": "2.7.11"
  }
 },
 "nbformat": 4,
 "nbformat_minor": 0
}
