{
 "cells": [
  {
   "cell_type": "code",
   "execution_count": 2,
   "metadata": {
    "collapsed": true
   },
   "outputs": [],
   "source": [
    "label='returnQuantity'\n",
    "\n",
    "import pandas as pd\n",
    "import numpy as np\n",
    "from sklearn.ensemble import RandomForestRegressor, ExtraTreesRegressor\n",
    "from sklearn.linear_model import LinearRegression, Lasso, Ridge, LogisticRegression\n",
    "from sklearn.cross_validation import train_test_split\n",
    "from sklearn.preprocessing import PolynomialFeatures\n",
    "from sklearn import linear_model\n",
    "from scipy import stats\n",
    "from sklearn.decomposition import PCA\n",
    "from sklearn.metrics import confusion_matrix\n",
    "from sklearn.preprocessing import LabelEncoder\n",
    "from operator import itemgetter\n",
    "\n",
    "def dmc_error(returnQuantity, prediction):\n",
    "    #∑ |returnQuantity𝑖 − prediction𝑖 |\n",
    "    return np.sum(np.abs( np.subtract(returnQuantity, prediction) ))"
   ]
  },
  {
   "cell_type": "code",
   "execution_count": 3,
   "metadata": {
    "collapsed": false
   },
   "outputs": [],
   "source": [
    "df=pd.read_csv('train_gue5.csv')"
   ]
  },
  {
   "cell_type": "code",
   "execution_count": 4,
   "metadata": {
    "collapsed": false
   },
   "outputs": [],
   "source": [
    "df.productGroup = df.productGroup.fillna('45')"
   ]
  },
  {
   "cell_type": "code",
   "execution_count": 5,
   "metadata": {
    "collapsed": false
   },
   "outputs": [],
   "source": [
    "X_train = df[:-341099]\n",
    "y_train = df[label][:-341099]\n",
    "X_test = df[-341099:]\n",
    "y_test = df[label][-341099:]"
   ]
  },
  {
   "cell_type": "code",
   "execution_count": 8,
   "metadata": {
    "collapsed": false
   },
   "outputs": [
    {
     "name": "stdout",
     "output_type": "stream",
     "text": [
      "changing articleID_cumprob\n"
     ]
    },
    {
     "name": "stderr",
     "output_type": "stream",
     "text": [
      "C:\\Users\\LENOVO\\Anaconda2\\lib\\site-packages\\ipykernel\\__main__.py:25: SettingWithCopyWarning: \n",
      "A value is trying to be set on a copy of a slice from a DataFrame.\n",
      "Try using .loc[row_indexer,col_indexer] = value instead\n",
      "\n",
      "See the caveats in the documentation: http://pandas.pydata.org/pandas-docs/stable/indexing.html#indexing-view-versus-copy\n"
     ]
    },
    {
     "name": "stdout",
     "output_type": "stream",
     "text": [
      "changing arco_prob\n"
     ]
    },
    {
     "name": "stderr",
     "output_type": "stream",
     "text": [
      "C:\\Users\\LENOVO\\Anaconda2\\lib\\site-packages\\ipykernel\\__main__.py:29: SettingWithCopyWarning: \n",
      "A value is trying to be set on a copy of a slice from a DataFrame.\n",
      "Try using .loc[row_indexer,col_indexer] = value instead\n",
      "\n",
      "See the caveats in the documentation: http://pandas.pydata.org/pandas-docs/stable/indexing.html#indexing-view-versus-copy\n"
     ]
    },
    {
     "name": "stdout",
     "output_type": "stream",
     "text": [
      "changing arsi_prob\n",
      "changing arpr_prob\n",
      "changing arcu_prob\n",
      "changing arde_prob\n",
      "changing arpa_prob\n",
      "changing arcopr_prob\n",
      "changing arsipr_prob\n",
      "changing arprcu_prob\n",
      "changing arprde_prob\n",
      "changing arprpa_prob\n",
      "changing arsicu_prob\n",
      "changing arcocu_prob\n",
      "changing arvocu_prob\n",
      "changing arprvo_prob\n",
      "changing arvo_prob\n",
      "changing arcupa_prob\n",
      "changing arcupa_prob\n",
      "changing arcude_prob\n",
      "changing cosicu_prob\n",
      "changing cocu_prob\n",
      "changing covocu_prob\n",
      "changing covocu_prob\n",
      "changing coprcu_prob\n",
      "changing cocude_prob\n",
      "changing cocupa_prob\n",
      "changing depa_prob\n",
      "changing paymentMethod_cumprob\n",
      "changing deviceID_cumprob\n",
      "changing arcosi_prob\n",
      "changing sicu_prob\n",
      "changing customerID_cumprob\n",
      "changing cude_prob\n",
      "changing sicude_prob\n",
      "changing productGroup_cumprob\n",
      "changing cosi_prob\n"
     ]
    }
   ],
   "source": [
    "probcols = [['articleID'],['articleID','colorCode'],['articleID','sizeCode'],['articleID','productGroup'],['articleID','customerID'],['articleID','deviceID'],['articleID','paymentMethod'],\n",
    "            ['articleID','colorCode','productGroup'],['articleID','sizeCode','productGroup'],['articleID','productGroup','customerID'],['articleID','productGroup','deviceID'],['articleID','productGroup','paymentMethod'],\n",
    "            ['articleID','sizeCode','customerID'],['articleID','colorCode','customerID'],['articleID','voucherID','customerID'],['articleID','productGroup','voucherID'],['articleID','voucherID'],['articleID','customerID','paymentMethod'],\n",
    "            ['articleID','customerID','paymentMethod'],['articleID','customerID','deviceID'],['colorCode','sizeCode','customerID'],['colorCode','customerID'],['colorCode','voucherID','customerID'],['colorCode','voucherID','customerID'],\n",
    "            ['colorCode','productGroup','customerID'],['colorCode','customerID','deviceID'],['colorCode','customerID','paymentMethod'],['deviceID','paymentMethod'],['paymentMethod'],['deviceID'],['articleID','colorCode','sizeCode'],\n",
    "            ['sizeCode','customerID'],['customerID'],['customerID','deviceID'],['sizeCode','customerID','deviceID'],['productGroup'],['colorCode','sizeCode']]\n",
    "\n",
    "for x in probcols:\n",
    "    if len(x) == 1:\n",
    "        dict_name = x[0] + '_cumprob'\n",
    "    else:\n",
    "        dict_name = ''\n",
    "        for i in range(0,len(x)):\n",
    "            dict_name = dict_name+ x[i][0]+ x[i][1]\n",
    "        dict_name = dict_name + '_prob'\n",
    "    y = list(x)\n",
    "    y.append(dict_name)\n",
    "    to_change = dict_name\n",
    "    tmp = X_train.groupby(x)[y].last()\n",
    "    dict_name = tmp[to_change].to_dict()\n",
    "    del tmp\n",
    "    \n",
    "    if len(x) == 1:\n",
    "        print 'changing ' + to_change\n",
    "        X_test[to_change] = X_test[x[0]].apply(dict_name.get).replace(np.nan, 0.5).replace(np.inf, 0.5)\n",
    "        del dict_name\n",
    "    else :\n",
    "        print 'changing ' + to_change\n",
    "        X_test[to_change] = X_test[x].apply(tuple, axis=1).apply(dict_name.get).replace(np.nan, 0.5).replace(np.inf, 0.5)\n",
    "        del dict_name  \n",
    "    \n",
    "    "
   ]
  },
  {
   "cell_type": "code",
   "execution_count": 10,
   "metadata": {
    "collapsed": false
   },
   "outputs": [],
   "source": [
    "tmp = [('unit_price', 1), ('median_unit_price', 1), ('price_diff', 1), ('articleID_cumprob', 1), ('arco_prob', 1), ('arsi_prob', 1), ('arpr_prob', 1), ('arcu_prob', 1), ('arde_prob', 1), ('arpa_prob', 1), ('arcopr_prob', 1), ('arsipr_prob', 1), ('arprcu_prob', 1), ('arprde_prob', 1), ('arprpa_prob', 1), ('voucherAmount', 2), ('order_total', 3), ('after_voucher', 4), ('arsicu_prob', 5), ('arcocu_prob', 6), ('quantity', 7), ('arvocu_prob', 8), ('arprvo_prob', 9), ('arvo_prob', 10), ('arcupa_prob', 11), ('arcude_prob', 12), ('cosicu_prob', 13), ('cocu_prob', 14), ('covocu_prob', 15), ('coprcu_prob', 16), ('cocude_prob', 17), ('cocupa_prob', 18), ('depa_prob', 19), ('paymentMethod_cumprob', 20), ('deviceID_cumprob', 21), ('arcosi_prob', 22), ('sicu_prob', 23), ('customerID_cumprob', 24), ('cude_prob', 25), ('sicude_prob', 26), ('productGroup_cumprob', 27), ('cosi_prob', 28), ('coside_prob', 29), ('prdepa_prob', 30), ('vocu_prob', 31), ('cupa_prob', 32), ('vocupa_prob', 33), ('sivocu_prob', 34), ('prpa_prob', 35), ('voucherID_cumprob', 36), ('prcu_prob', 37), ('prcude_prob', 38), ('vocude_prob', 39), ('cosivo_prob', 40), ('sizeCode_cumprob', 41), ('prvocu_prob', 42), ('cosipa_prob', 43), ('sicupa_prob', 44), ('arcode_prob', 45), ('siprcu_prob', 46), ('sipr_prob', 47), ('sipa_prob', 48), ('sidepa_prob', 49), ('colorCode_cumprob', 50), ('vopa_prob', 51), ('prvo_prob', 52), ('prvopa_prob', 53), ('arside_prob', 54), ('cudepa_prob', 55), ('side_prob', 56), ('siprpa_prob', 57), ('ardepa_prob', 58), ('copr_prob', 59), ('arvode_prob', 60), ('coprvo_prob', 61), ('arcovo_prob', 62), ('codepa_prob', 63), ('coprde_prob', 64), ('prcupa_prob', 65), ('arsivo_prob', 66), ('arsipa_prob', 67), ('copa_prob', 68), ('coprpa_prob', 69), ('siprde_prob', 70), ('arcopa_prob', 71), ('sivopa_prob', 72), ('sivode_prob', 73), ('price', 74), ('vodepa_prob', 75), ('vode_prob', 76), ('arvopa_prob', 77), ('covo_prob', 78), ('cosipr_prob', 79), ('code_prob', 80), ('prvode_prob', 81), ('expense_ratio', 82), ('choice_order', 83), ('covode_prob', 84), ('sivo_prob', 85), ('prde_prob', 86), ('deviceID', 87), ('rrp', 88), ('siprvo_prob', 89), ('covopa_prob', 90), ('order_order', 91), ('customer_budget', 92)]\n",
    "\n",
    "didrop = [name for name,rank in tmp if rank>28]\n",
    "X_train = X_train.drop(didrop, axis=1)\n",
    "X_test = X_test.drop(didrop, axis=1)\n",
    "\n",
    "object_columns=X_train.loc[:, df.dtypes == object].columns\n",
    "X_train= X_train.drop(object_columns, axis=1)\n",
    "X_train= X_train.drop(['colorCode'], axis=1)\n",
    "\n",
    "X_test= X_test.drop(object_columns, axis=1)\n",
    "X_test= X_test.drop(['colorCode'], axis=1)"
   ]
  },
  {
   "cell_type": "code",
   "execution_count": 11,
   "metadata": {
    "collapsed": false
   },
   "outputs": [],
   "source": [
    "label='returnQuantity'\n",
    "\n",
    "Xx_train=X_train.drop([label], axis=1).values\n",
    "Xx_test=X_test.drop([label], axis=1).values\n",
    "yy_train=y_train.values\n",
    "yy_test=y_test.values"
   ]
  },
  {
   "cell_type": "code",
   "execution_count": 14,
   "metadata": {
    "collapsed": false
   },
   "outputs": [
    {
     "name": "stdout",
     "output_type": "stream",
     "text": [
      "[[123179  43636     73      0      0      0     31]\n",
      " [113741  59755     14      0      0      0      0]\n",
      " [     3    620      7      0      0      0      0]\n",
      " [     0     24      5      0      0      0      0]\n",
      " [     0      0      7      0      0      0      0]\n",
      " [     0      1      2      1      0      0      0]\n",
      " [     0      0      0      0      0      0      0]]\n",
      "100752878151.0\n"
     ]
    }
   ],
   "source": [
    "lr=LinearRegression(n_jobs=-1, normalize=True)\n",
    "lr.fit(Xx_train, yy_train)\n",
    "y_pred=lr.predict(Xx_test)\n",
    "y_pred=np.array([round(yp) for yp in y_pred], dtype=np.int8)\n",
    "y_pred[y_pred<0]=0\n",
    "print confusion_matrix(yy_test,y_pred)\n",
    "print dmc_error(yy_test,y_pred)"
   ]
  },
  {
   "cell_type": "code",
   "execution_count": 18,
   "metadata": {
    "collapsed": false
   },
   "outputs": [
    {
     "ename": "OverflowError",
     "evalue": "Python int too large to convert to C long",
     "output_type": "error",
     "traceback": [
      "\u001b[1;31m---------------------------------------------------------------------------\u001b[0m",
      "\u001b[1;31mOverflowError\u001b[0m                             Traceback (most recent call last)",
      "\u001b[1;32m<ipython-input-18-d87a419a07b1>\u001b[0m in \u001b[0;36m<module>\u001b[1;34m()\u001b[0m\n\u001b[0;32m      2\u001b[0m \u001b[0mrfr\u001b[0m\u001b[1;33m.\u001b[0m\u001b[0mfit\u001b[0m\u001b[1;33m(\u001b[0m\u001b[0mXx_train\u001b[0m\u001b[1;33m,\u001b[0m \u001b[0myy_train\u001b[0m\u001b[1;33m)\u001b[0m\u001b[1;33m\u001b[0m\u001b[0m\n\u001b[0;32m      3\u001b[0m \u001b[0my_pred\u001b[0m\u001b[1;33m=\u001b[0m\u001b[0mlr\u001b[0m\u001b[1;33m.\u001b[0m\u001b[0mpredict\u001b[0m\u001b[1;33m(\u001b[0m\u001b[0mXx_test\u001b[0m\u001b[1;33m)\u001b[0m\u001b[1;33m\u001b[0m\u001b[0m\n\u001b[1;32m----> 4\u001b[1;33m \u001b[0my_pred\u001b[0m\u001b[1;33m=\u001b[0m\u001b[0mnp\u001b[0m\u001b[1;33m.\u001b[0m\u001b[0marray\u001b[0m\u001b[1;33m(\u001b[0m\u001b[1;33m[\u001b[0m\u001b[0mround\u001b[0m\u001b[1;33m(\u001b[0m\u001b[0myp\u001b[0m\u001b[1;33m)\u001b[0m \u001b[1;32mfor\u001b[0m \u001b[0myp\u001b[0m \u001b[1;32min\u001b[0m \u001b[0my_pred\u001b[0m\u001b[1;33m]\u001b[0m\u001b[1;33m,\u001b[0m \u001b[0mdtype\u001b[0m\u001b[1;33m=\u001b[0m\u001b[0mnp\u001b[0m\u001b[1;33m.\u001b[0m\u001b[0mint8\u001b[0m\u001b[1;33m)\u001b[0m\u001b[1;33m\u001b[0m\u001b[0m\n\u001b[0m\u001b[0;32m      5\u001b[0m \u001b[0my_pred\u001b[0m\u001b[1;33m[\u001b[0m\u001b[0my_pred\u001b[0m\u001b[1;33m<\u001b[0m\u001b[1;36m0\u001b[0m\u001b[1;33m]\u001b[0m\u001b[1;33m=\u001b[0m\u001b[1;36m0\u001b[0m\u001b[1;33m\u001b[0m\u001b[0m\n\u001b[0;32m      6\u001b[0m \u001b[1;32mprint\u001b[0m \u001b[0mconfusion_matrix\u001b[0m\u001b[1;33m(\u001b[0m\u001b[0myy_test\u001b[0m\u001b[1;33m,\u001b[0m\u001b[0my_pred\u001b[0m\u001b[1;33m)\u001b[0m\u001b[1;33m\u001b[0m\u001b[0m\n",
      "\u001b[1;31mOverflowError\u001b[0m: Python int too large to convert to C long"
     ]
    }
   ],
   "source": [
    "rfr=RandomForestRegressor(n_jobs=-1)\n",
    "rfr.fit(Xx_train, yy_train)\n",
    "y_pred=lr.predict(Xx_test)\n",
    "y_pred=np.array([round(yp) for yp in y_pred], dtype=np.int8)\n",
    "y_pred[y_pred<0]=0\n",
    "print confusion_matrix(yy_test,y_pred)\n",
    "print dmc_error(yy_test,y_pred)"
   ]
  },
  {
   "cell_type": "code",
   "execution_count": 17,
   "metadata": {
    "collapsed": false
   },
   "outputs": [
    {
     "data": {
      "text/plain": [
       "0"
      ]
     },
     "execution_count": 17,
     "metadata": {},
     "output_type": "execute_result"
    }
   ],
   "source": [
    "y_pred.min()"
   ]
  },
  {
   "cell_type": "code",
   "execution_count": 20,
   "metadata": {
    "collapsed": false
   },
   "outputs": [],
   "source": [
    "X_test.to_csv('X_test.csv')"
   ]
  },
  {
   "cell_type": "code",
   "execution_count": null,
   "metadata": {
    "collapsed": true
   },
   "outputs": [],
   "source": []
  }
 ],
 "metadata": {
  "kernelspec": {
   "display_name": "Python 2",
   "language": "python",
   "name": "python2"
  }
 },
 "nbformat": 4,
 "nbformat_minor": 0
}
