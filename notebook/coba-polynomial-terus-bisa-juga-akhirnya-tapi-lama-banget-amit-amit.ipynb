{
 "cells": [
  {
   "cell_type": "markdown",
   "metadata": {},
   "source": [
    "# Notebook rilut\n",
    "\n",
    "### Bikin jelek, hapus aja\n",
    "\n",
    "- colorCode\n",
    "- total_spent, \n",
    "- customerID\n",
    "- articleID\n",
    "- orderDate\n",
    "- productGroup (karena di-impute paksa dengan 0? atau emang ga penting?)\n",
    "\n",
    "### Jangan dihapus\n",
    "\n",
    "- rrp, sizeCode\n",
    "\n",
    "### Ga pengaruh / pengaruh dikit banget\n",
    "\n",
    "- months (labelencoder), kali dihapus, dibinerin, atau diapain\n",
    "- mmdd (labelencoder), kali dihapus, dibinerin, atau diapain\n",
    "\n",
    "kalo moths/mmdd diilangin, berkurang 3. tapi kalo months & mmdd dihilangin sekaligus, berkurang 10.\n",
    "\n",
    "### Missing values\n",
    "\n",
    "rrp, productGroup\n",
    "\n",
    "### Catatan:\n",
    "\n",
    "Logistic Regression lama banget. itu pun solvernya udah diubah. kalau masih mau pake, iternya kurangin kali?\n",
    "\n",
    "### TODO:\n",
    "\n",
    "- pakai PolynomialFeatures (di selain fitur harga (?) (selain price, rrp, after_voucher, unit_price, usual_unit_price, price_diff, etc))\n",
    "- ekstrak fitur karena fitur adalah segalanya"
   ]
  },
  {
   "cell_type": "code",
   "execution_count": 1,
   "metadata": {
    "collapsed": false
   },
   "outputs": [],
   "source": [
    "from __future__ import division\n",
    "\n",
    "label='returnQuantity'\n",
    "\n",
    "import pandas as pd\n",
    "import numpy as np\n",
    "from sklearn.ensemble import RandomForestRegressor\n",
    "from sklearn.linear_model import LinearRegression\n",
    "from sklearn.cross_validation import train_test_split\n",
    "from sklearn.metrics import confusion_matrix\n",
    "%matplotlib inline\n",
    "from sklearn.preprocessing import LabelEncoder\n",
    "from operator import itemgetter\n",
    "#from sklearn.externals import joblib\n",
    "\n",
    "def dmc_error(returnQuantity, prediction):\n",
    "    #∑ |returnQuantity𝑖 − prediction𝑖 |\n",
    "    return np.sum(np.abs( np.subtract(returnQuantity, prediction) ))\n",
    "\n",
    "def feature_importances(Xdf, rf_model):\n",
    "    pair=zip(Xdf.columns, rf_model.feature_importances_)\n",
    "    t1=[i for i in pair]; t1\n",
    "    return sorted(t1, key=itemgetter(1))"
   ]
  },
  {
   "cell_type": "code",
   "execution_count": 2,
   "metadata": {
    "collapsed": false
   },
   "outputs": [
    {
     "data": {
      "text/html": [
       "<div>\n",
       "<table border=\"1\" class=\"dataframe\">\n",
       "  <thead>\n",
       "    <tr style=\"text-align: right;\">\n",
       "      <th></th>\n",
       "      <th>orderID</th>\n",
       "      <th>sizeCode</th>\n",
       "      <th>productGroup</th>\n",
       "      <th>quantity</th>\n",
       "      <th>price</th>\n",
       "      <th>rrp</th>\n",
       "      <th>voucherID</th>\n",
       "      <th>voucherAmount</th>\n",
       "      <th>paymentMethod</th>\n",
       "      <th>returnQuantity</th>\n",
       "      <th>...</th>\n",
       "      <th>price_diff</th>\n",
       "      <th>after_voucher</th>\n",
       "      <th>order_order</th>\n",
       "      <th>choice_order</th>\n",
       "      <th>articleID_prob</th>\n",
       "      <th>colorCode_prob</th>\n",
       "      <th>sizeCode_prob</th>\n",
       "      <th>customerID_prob</th>\n",
       "      <th>ac_prob</th>\n",
       "      <th>as_prob</th>\n",
       "    </tr>\n",
       "  </thead>\n",
       "  <tbody>\n",
       "    <tr>\n",
       "      <th>0</th>\n",
       "      <td>a1000001</td>\n",
       "      <td>44</td>\n",
       "      <td>3.0</td>\n",
       "      <td>1</td>\n",
       "      <td>10.0</td>\n",
       "      <td>29.984375</td>\n",
       "      <td>0</td>\n",
       "      <td>0.0</td>\n",
       "      <td>BPRG</td>\n",
       "      <td>0</td>\n",
       "      <td>...</td>\n",
       "      <td>0.000000</td>\n",
       "      <td>30.0</td>\n",
       "      <td>1</td>\n",
       "      <td>1</td>\n",
       "      <td>0.421143</td>\n",
       "      <td>0.521484</td>\n",
       "      <td>0.516113</td>\n",
       "      <td>0.0</td>\n",
       "      <td>0.421053</td>\n",
       "      <td>0.421053</td>\n",
       "    </tr>\n",
       "    <tr>\n",
       "      <th>1</th>\n",
       "      <td>a1000001</td>\n",
       "      <td>44</td>\n",
       "      <td>3.0</td>\n",
       "      <td>1</td>\n",
       "      <td>20.0</td>\n",
       "      <td>40.000000</td>\n",
       "      <td>0</td>\n",
       "      <td>0.0</td>\n",
       "      <td>BPRG</td>\n",
       "      <td>0</td>\n",
       "      <td>...</td>\n",
       "      <td>5.000000</td>\n",
       "      <td>30.0</td>\n",
       "      <td>2</td>\n",
       "      <td>2</td>\n",
       "      <td>0.506836</td>\n",
       "      <td>0.492432</td>\n",
       "      <td>0.516113</td>\n",
       "      <td>0.0</td>\n",
       "      <td>0.475410</td>\n",
       "      <td>0.475410</td>\n",
       "    </tr>\n",
       "    <tr>\n",
       "      <th>2</th>\n",
       "      <td>a1000002</td>\n",
       "      <td>38</td>\n",
       "      <td>8.0</td>\n",
       "      <td>1</td>\n",
       "      <td>35.0</td>\n",
       "      <td>50.000000</td>\n",
       "      <td>0</td>\n",
       "      <td>0.0</td>\n",
       "      <td>BPRG</td>\n",
       "      <td>0</td>\n",
       "      <td>...</td>\n",
       "      <td>10.000000</td>\n",
       "      <td>85.0</td>\n",
       "      <td>1</td>\n",
       "      <td>1</td>\n",
       "      <td>0.642090</td>\n",
       "      <td>0.455322</td>\n",
       "      <td>0.535645</td>\n",
       "      <td>0.5</td>\n",
       "      <td>0.616505</td>\n",
       "      <td>0.616505</td>\n",
       "    </tr>\n",
       "    <tr>\n",
       "      <th>3</th>\n",
       "      <td>a1000002</td>\n",
       "      <td>38</td>\n",
       "      <td>8.0</td>\n",
       "      <td>1</td>\n",
       "      <td>50.0</td>\n",
       "      <td>50.000000</td>\n",
       "      <td>0</td>\n",
       "      <td>0.0</td>\n",
       "      <td>BPRG</td>\n",
       "      <td>1</td>\n",
       "      <td>...</td>\n",
       "      <td>14.990002</td>\n",
       "      <td>85.0</td>\n",
       "      <td>2</td>\n",
       "      <td>2</td>\n",
       "      <td>0.694336</td>\n",
       "      <td>0.479492</td>\n",
       "      <td>0.535645</td>\n",
       "      <td>0.5</td>\n",
       "      <td>0.713450</td>\n",
       "      <td>0.713450</td>\n",
       "    </tr>\n",
       "    <tr>\n",
       "      <th>4</th>\n",
       "      <td>a1000003</td>\n",
       "      <td>42</td>\n",
       "      <td>8.0</td>\n",
       "      <td>1</td>\n",
       "      <td>10.0</td>\n",
       "      <td>36.000000</td>\n",
       "      <td>0</td>\n",
       "      <td>0.0</td>\n",
       "      <td>PAYPALVC</td>\n",
       "      <td>0</td>\n",
       "      <td>...</td>\n",
       "      <td>0.000000</td>\n",
       "      <td>60.0</td>\n",
       "      <td>1</td>\n",
       "      <td>1</td>\n",
       "      <td>0.600586</td>\n",
       "      <td>0.606934</td>\n",
       "      <td>0.526367</td>\n",
       "      <td>0.0</td>\n",
       "      <td>0.573034</td>\n",
       "      <td>0.573034</td>\n",
       "    </tr>\n",
       "  </tbody>\n",
       "</table>\n",
       "<p>5 rows × 25 columns</p>\n",
       "</div>"
      ],
      "text/plain": [
       "    orderID sizeCode  productGroup  quantity  price        rrp voucherID  \\\n",
       "0  a1000001       44           3.0         1   10.0  29.984375         0   \n",
       "1  a1000001       44           3.0         1   20.0  40.000000         0   \n",
       "2  a1000002       38           8.0         1   35.0  50.000000         0   \n",
       "3  a1000002       38           8.0         1   50.0  50.000000         0   \n",
       "4  a1000003       42           8.0         1   10.0  36.000000         0   \n",
       "\n",
       "   voucherAmount paymentMethod  returnQuantity    ...     price_diff  \\\n",
       "0            0.0          BPRG               0    ...       0.000000   \n",
       "1            0.0          BPRG               0    ...       5.000000   \n",
       "2            0.0          BPRG               0    ...      10.000000   \n",
       "3            0.0          BPRG               1    ...      14.990002   \n",
       "4            0.0      PAYPALVC               0    ...       0.000000   \n",
       "\n",
       "   after_voucher  order_order  choice_order  articleID_prob  colorCode_prob  \\\n",
       "0           30.0            1             1        0.421143        0.521484   \n",
       "1           30.0            2             2        0.506836        0.492432   \n",
       "2           85.0            1             1        0.642090        0.455322   \n",
       "3           85.0            2             2        0.694336        0.479492   \n",
       "4           60.0            1             1        0.600586        0.606934   \n",
       "\n",
       "   sizeCode_prob  customerID_prob   ac_prob   as_prob  \n",
       "0       0.516113              0.0  0.421053  0.421053  \n",
       "1       0.516113              0.0  0.475410  0.475410  \n",
       "2       0.535645              0.5  0.616505  0.616505  \n",
       "3       0.535645              0.5  0.713450  0.713450  \n",
       "4       0.526367              0.0  0.573034  0.573034  \n",
       "\n",
       "[5 rows x 25 columns]"
      ]
     },
     "execution_count": 2,
     "metadata": {},
     "output_type": "execute_result"
    }
   ],
   "source": [
    "# Pakai make_datasets_train_only. Buat sendiri juga boleh\n",
    "\n",
    "df=pd.read_csv('train_dikit.csv')\n",
    "\n",
    "if 'deviceID' in df.columns:\n",
    "    del df['deviceID']\n",
    "    \n",
    "del df[\"colorCode\"]\n",
    "del df['customerID']\n",
    "del df['articleID']\n",
    "del df['orderDate']\n",
    "#del df['productGroup']\n",
    "\n",
    "df.head()"
   ]
  },
  {
   "cell_type": "code",
   "execution_count": 3,
   "metadata": {
    "collapsed": false
   },
   "outputs": [
    {
     "name": "stderr",
     "output_type": "stream",
     "text": [
      "C:\\Anaconda2\\lib\\site-packages\\ipykernel\\__main__.py:1: SettingWithCopyWarning: \n",
      "A value is trying to be set on a copy of a slice from a DataFrame\n",
      "\n",
      "See the caveats in the documentation: http://pandas.pydata.org/pandas-docs/stable/indexing.html#indexing-view-versus-copy\n",
      "  if __name__ == '__main__':\n"
     ]
    }
   ],
   "source": [
    "df.customerID_prob[df.customerID_prob>1]=1"
   ]
  },
  {
   "cell_type": "code",
   "execution_count": 4,
   "metadata": {
    "collapsed": false
   },
   "outputs": [],
   "source": [
    "# Metode"
   ]
  },
  {
   "cell_type": "code",
   "execution_count": 5,
   "metadata": {
    "collapsed": false,
    "scrolled": true
   },
   "outputs": [
    {
     "name": "stdout",
     "output_type": "stream",
     "text": [
      "Konversi kategori/object ke angka (ordinal):\n",
      "orderID\n",
      "sizeCode\n",
      "voucherID\n"
     ]
    },
    {
     "name": "stderr",
     "output_type": "stream",
     "text": [
      "C:\\Anaconda2\\lib\\site-packages\\numpy\\lib\\arraysetops.py:200: FutureWarning: numpy not_equal will not check object identity in the future. The comparison did not return the same result as suggested by the identity (`is`)) and will change.\n",
      "  flag = np.concatenate(([True], aux[1:] != aux[:-1]))\n"
     ]
    },
    {
     "name": "stdout",
     "output_type": "stream",
     "text": [
      "paymentMethod\n"
     ]
    }
   ],
   "source": [
    "#Konversi kategori/object ke angka (ordinal)\n",
    "print \"Konversi kategori/object ke angka (ordinal):\"\n",
    "\n",
    "#Cari kolom yang tipenya object, bukan integer maupun float\n",
    "object_columns=df.loc[:, df.dtypes == object].columns\n",
    "\n",
    "\n",
    "for col in object_columns:\n",
    "    print col\n",
    "    le=LabelEncoder()\n",
    "    # Konversi deh\n",
    "    df[col]=le.fit_transform(df[col])\n",
    "    \n",
    "if 'orderID' in df.columns:\n",
    "    del df['orderID']"
   ]
  },
  {
   "cell_type": "code",
   "execution_count": 10,
   "metadata": {
    "collapsed": false
   },
   "outputs": [
    {
     "name": "stdout",
     "output_type": "stream",
     "text": [
      "float_64_columns []\n",
      "\n",
      "Kolom yang dipakai:  ['sizeCode', 'quantity', 'price', 'rrp', 'voucherID', 'voucherAmount', 'paymentMethod', 'order_total', 'customer_budget', 'expense_ratio', 'unit_price', 'usual_unit_price', 'price_diff', 'after_voucher', 'order_order', 'choice_order', 'articleID_prob', 'colorCode_prob', 'sizeCode_prob', 'customerID_prob', 'ac_prob', 'as_prob']\n"
     ]
    }
   ],
   "source": [
    "# Turunin presisi, iseng-iseng aja\n",
    "float_64_columns = df.loc[:, df.dtypes == np.float64].columns\n",
    "print \"float_64_columns\", float_64_columns.tolist()\n",
    "for col in float_64_columns:\n",
    "    df[col] = df[col].astype(np.float32)\n",
    "\n",
    "df.ac_prob=df.ac_prob.astype(np.float16)\n",
    "df.as_prob=df.as_prob.astype(np.float16)\n",
    "df.articleID_prob=df.articleID_prob.astype(np.float16)\n",
    "df.colorCode_prob=df.colorCode_prob.astype(np.float16)\n",
    "df.sizeCode_prob=df.sizeCode_prob.astype(np.float16)\n",
    "df.customerID_prob=df.customerID_prob.astype(np.float16)\n",
    "#\n",
    "    \n",
    "int_64_columns = df.loc[:, df.dtypes == np.int64].columns\n",
    "for col in int_64_columns:\n",
    "    df[col] = df[col].astype(np.int32)\n",
    "    \n",
    "\n",
    "# Impute\n",
    "df.rrp.fillna(df.rrp.median(), inplace=True)\n",
    "df.productGroup.fillna(0, inplace=True)\n",
    "\n",
    "print ''\n",
    "\n",
    "Xdf=df.drop([label, 'productGroup'], axis=1)\n",
    "print \"Kolom yang dipakai: \", Xdf.columns.tolist()\n",
    "\n",
    "X=Xdf.values\n",
    "y=df[label].values\n",
    "\n",
    "# Cara cek Nan\n",
    "#Xdf.columns-Xdf.dropna(axis=1).columns"
   ]
  },
  {
   "cell_type": "code",
   "execution_count": 11,
   "metadata": {
    "collapsed": false
   },
   "outputs": [
    {
     "name": "stdout",
     "output_type": "stream",
     "text": [
      "[[117406  49992      9      0      0      0]\n",
      " [ 31536 149268      7      0      0      0]\n",
      " [     9    537      1      0      0      0]\n",
      " [     0     18      9      0      0      0]\n",
      " [     0      1      1      0      0      0]\n",
      " [     0      0      6      0      0      0]]\n",
      "82176\n"
     ]
    }
   ],
   "source": [
    "# Biasa, Non-Polynomial\n",
    "\n",
    "X_train, X_test, y_train, y_test = train_test_split(X, y, test_size=0.218, random_state=42)\n",
    "lr=LinearRegression(n_jobs=-1, normalize=True)\n",
    "lr.fit(X_train, y_train)\n",
    "y_pred=lr.predict(X_test)\n",
    "#y_pred=np.array([round(yp+0.00049) for yp in y_pred], dtype=np.int8)\n",
    "y_pred=np.array([round(yp) for yp in y_pred], dtype=np.int8)\n",
    "y_pred[y_pred<0]=0\n",
    "print confusion_matrix(y_test,y_pred)\n",
    "print dmc_error(y_test,y_pred)"
   ]
  },
  {
   "cell_type": "code",
   "execution_count": null,
   "metadata": {
    "collapsed": false
   },
   "outputs": [],
   "source": [
    "from sklearn.preprocessing import PolynomialFeatures\n",
    "X=Xdf.values\n",
    "y=df.returnQuantity.values\n",
    "poly = PolynomialFeatures(2)\n",
    "X2 = poly.fit_transform(X)\n",
    "\n",
    "X_train, X_test, y_train, y_test = train_test_split(X2, y, test_size=0.218, random_state=42)"
   ]
  },
  {
   "cell_type": "code",
   "execution_count": null,
   "metadata": {
    "collapsed": false
   },
   "outputs": [
    {
     "name": "stdout",
     "output_type": "stream",
     "text": [
      "[[119152  48249      6      0      0      0]\n",
      " [ 31962 148764     82      3      0      0]\n",
      " [    16    349    182      0      0      0]\n",
      " [     0      7     15      5      0      0]\n",
      " [     0      1      0      1      0      0]\n",
      " [     0      1      1      3      1      0]]\n",
      "80739\n"
     ]
    }
   ],
   "source": [
    "lr=LinearRegression(n_jobs=-1, normalize=True)\n",
    "lr.fit(X_train, y_train)\n",
    "y_pred=lr.predict(X_test)\n",
    "#y_pred=np.array([round(yp+0.00049) for yp in y_pred], dtype=np.int8)\n",
    "y_pred=np.array([round(yp) for yp in y_pred], dtype=np.int8)\n",
    "y_pred[y_pred<0]=0\n",
    "print confusion_matrix(y_test,y_pred)\n",
    "print dmc_error(y_test,y_pred)"
   ]
  },
  {
   "cell_type": "code",
   "execution_count": null,
   "metadata": {
    "collapsed": true
   },
   "outputs": [],
   "source": [
    "0"
   ]
  },
  {
   "cell_type": "code",
   "execution_count": null,
   "metadata": {
    "collapsed": true
   },
   "outputs": [],
   "source": [
    "\"\"\"df.unit_price=df.unit_price.astype(np.float32,)\n",
    "df.usual_unit_price=df.usual_unit_price.astype(np.float32)\n",
    "df.price_diff=df.price_diff.astype(np.float32)\n",
    "df.after_voucher=df.after_voucher.astype(np.float32)\n",
    "df.rrp=df.rrp.astype(np.float32)\n",
    "df.customer_budget=df.customer_budget.astype(np.float32)\n",
    "df.order_total=df.order_total.astype(np.float32)\n",
    "df.voucherAmount=df.voucherAmount.astype(np.float32)\n",
    "df.price=df.price.astype(np.float32)\n",
    "df.productGroup=df.productGroup.astype(np.int16)\n",
    "\n",
    "df.info()\"\"\""
   ]
  }
 ],
 "metadata": {
  "kernelspec": {
   "display_name": "Python 2",
   "language": "python",
   "name": "python2"
  },
  "language_info": {
   "codemirror_mode": {
    "name": "ipython",
    "version": 2
   },
   "file_extension": ".py",
   "mimetype": "text/x-python",
   "name": "python",
   "nbconvert_exporter": "python",
   "pygments_lexer": "ipython2",
   "version": "2.7.11"
  }
 },
 "nbformat": 4,
 "nbformat_minor": 0
}
