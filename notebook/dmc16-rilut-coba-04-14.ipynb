{
 "cells": [
  {
   "cell_type": "markdown",
   "metadata": {},
   "source": [
    "## README\n",
    "\n",
    "### Random forest\n",
    "\n",
    "#### 100% testing, 100% validation:\n",
    "\n",
    "```\n",
    "[('quantity', 0.0079976101188701763),\n",
    " ('voucherAmount', 0.013113168566589808),\n",
    " ('productGroup', 0.013521791424342219),\n",
    " ('paymentMethod', 0.023095387514901027),\n",
    " ('voucherID', 0.023673399468102159),\n",
    " ('deviceID', 0.02972387355282638),\n",
    " ('rrp', 0.034301681510350089),\n",
    " ('price', 0.050416333839450621),\n",
    " ('sizeCode', 0.081037284731151293),\n",
    " ('articleID', 0.099016018175452983),\n",
    " ('colorCode', 0.102658103196932),\n",
    " ('mmdd', 0.11712529498716262),\n",
    " ('orderDate', 0.11765229923719016),\n",
    " ('budget', 0.13307758983005333),\n",
    " ('total_order', 0.15359016384662513)]\n",
    "```\n",
    "\n",
    "error: **40909**\n",
    "\n",
    "```\n",
    "[[1106669   10130       4       2       0       0]\n",
    " [  30395 1173596      14       0       0       0]\n",
    " [     98     105    3546       0       0       0]\n",
    " [      5       5       1     181       0       0]\n",
    " [      1       2       0       0      32       0]\n",
    " [      3       1       0       0       0      24]]\n",
    "```\n",
    "\n",
    "##### + fitur farah\n",
    "\n",
    "```\n",
    "[('quantity', 0.0017582530808943407),\n",
    " ('gpriceDiff', 0.0048983941549550864),\n",
    " ('priceDiff', 0.013412936473421951),\n",
    " ('sizeCode2', 0.02654573612543476),\n",
    " ('price', 0.02953846862187191),\n",
    "```\n",
    "\n",
    "#### 70% testing, 30% validation:\n",
    "```\n",
    "[('voucherAmount', 0.008844496709481408),\n",
    " ('quantity', 0.0093324031702163406),\n",
    " ('productGroup', 0.014387262675345536),\n",
    " ('voucherID', 0.016277729810941808),\n",
    " ('deviceID', 0.019815761309476355),\n",
    " ('paymentMethod', 0.019978720674466634),\n",
    " ('months', 0.026730617852121656),\n",
    " ('rrp', 0.02948235001143798),\n",
    " ('choice_order', 0.035629408368906129),\n",
    " ('price', 0.0417470189282238),\n",
    " ('sizeCode', 0.044808807069813467),\n",
    " ('articleID', 0.05424272890421826),\n",
    " ('colorCode', 0.05976713876698625),\n",
    " ('order_order', 0.062850904570996804),\n",
    " ('mmdd', 0.070210862709374419),\n",
    " ('orderDate', 0.070721914304349986),\n",
    " ('after_voucher', 0.075593711311003509),\n",
    " ('budget', 0.081893112411723187),\n",
    " ('customerID', 0.084632659177736408),\n",
    " ('total_order', 0.084915523649828545),\n",
    " ('return_prob', 0.088136867613351599)]\n",
    "\n",
    "Error:  259037\n",
    "\n",
    "[[222443 112565     62      3      0      0]\n",
    " [144594 216398    190      3      1      0]\n",
    " [   400    551    158      0      0      0]\n",
    " [    35     13      4      5      0      0]\n",
    " [     4      3      2      0      0      0]\n",
    " [     3      3      0      2      0      2]]\n",
    " ```"
   ]
  },
  {
   "cell_type": "code",
   "execution_count": 10,
   "metadata": {
    "collapsed": false
   },
   "outputs": [],
   "source": [
    "label='returnQuantity'\n",
    "\n",
    "import pandas as pd\n",
    "import numpy as np\n",
    "from sklearn.ensemble import RandomForestClassifier\n",
    "from sklearn.cross_validation import train_test_split\n",
    "from datetime import datetime\n",
    "from sklearn.cross_validation import cross_val_score\n",
    "from sklearn.metrics import confusion_matrix\n",
    "from __future__ import division\n",
    "%matplotlib inline\n",
    "from sklearn.externals import joblib\n",
    "from sklearn.preprocessing import LabelEncoder\n",
    "from sklearn.preprocessing import OneHotEncoder\n",
    "\n",
    "def dmc_error(returnQuantity, prediction):\n",
    "    #∑ |returnQuantity𝑖 − prediction𝑖 |\n",
    "    return np.sum(np.abs( np.subtract(returnQuantity, prediction) ))"
   ]
  },
  {
   "cell_type": "code",
   "execution_count": 11,
   "metadata": {
    "collapsed": true
   },
   "outputs": [],
   "source": [
    "# Dari Farah:\n",
    "\n",
    "def getSeason(month):\n",
    "    if month <3 or month==12:\n",
    "        return \"Winter\"\n",
    "    elif month >=3 and month<6:\n",
    "        return \"Spring\"\n",
    "    elif month >=6 and month <9:\n",
    "        return \"Summer\"\n",
    "    else:\n",
    "        return \"Fall\"\n",
    "    \n",
    "def changeSizeCode(size):\n",
    "    if size in ['24','25','26','27','28','29','30','31','100']:\n",
    "        return 'XL'\n",
    "    elif size in ['32','33','34']:\n",
    "        return 'XS'\n",
    "    elif size in ['36','38','75']:\n",
    "        return 'S'\n",
    "    elif size in ['40','42','80']:\n",
    "        return 'M'\n",
    "    elif size in ['44','85','90','95']:\n",
    "        return 'L'    \n",
    "    \n",
    "def grouppriceDiff(priceDiff):\n",
    "    if priceDiff < 0:\n",
    "        return 1\n",
    "    elif priceDiff == 0:\n",
    "        return 2\n",
    "    elif priceDiff > 0 and priceDiff <= 9.99:\n",
    "        return 3\n",
    "    else:\n",
    "        return 4"
   ]
  },
  {
   "cell_type": "code",
   "execution_count": 12,
   "metadata": {
    "collapsed": false
   },
   "outputs": [],
   "source": [
    "#df=pd.read_csv('orders_train.txt', sep=';'); df"
   ]
  },
  {
   "cell_type": "code",
   "execution_count": 13,
   "metadata": {
    "collapsed": false
   },
   "outputs": [],
   "source": [
    "#joblib.dump(df, 'df.pkl') \n",
    "orig_df=joblib.load('df.pkl')"
   ]
  },
  {
   "cell_type": "code",
   "execution_count": 14,
   "metadata": {
    "collapsed": false
   },
   "outputs": [],
   "source": [
    "df=orig_df.copy()"
   ]
  },
  {
   "cell_type": "code",
   "execution_count": 15,
   "metadata": {
    "collapsed": false
   },
   "outputs": [],
   "source": [
    "df['mmdd']=orig_df.orderDate.str[-5:]\n",
    "df['months']=orig_df.orderDate.str[-5:-3].astype(np.int)\n",
    "#df['sizeCode2']=df.sizeCode.apply(changeSizeCode)\n",
    "#df['season']= df.months.apply(getSeason)\n",
    "#df['priceDiff'] = df['rrp']-(df['price']/df['quantity'])\n",
    "#df['gpriceDiff'] = df['priceDiff'].apply(grouppriceDiff)"
   ]
  },
  {
   "cell_type": "code",
   "execution_count": 16,
   "metadata": {
    "collapsed": false
   },
   "outputs": [],
   "source": [
    "# Berapa total harga dari suatu order\n",
    "\n",
    "order=df[['orderID', 'price']].groupby('orderID').sum()\n",
    "order.columns=['total_order']\n",
    "df=df.set_index('orderID').join(order).reset_index()\n",
    "del order\n",
    "\n",
    "# budget rata-rata customer\n",
    "\n",
    "budget=df[['customerID','total_order']].groupby('customerID').mean()\n",
    "budget.columns=['budget']\n",
    "df=df.set_index('customerID').join(budget).reset_index()\n",
    "del budget\n",
    "\n",
    "# Return probability\n",
    "\n",
    "df_return_probability=df[['articleID','returnQuantity','quantity']].groupby('articleID').sum()\n",
    "df_return_probability['return_probability']=df_return_probability.returnQuantity/df_return_probability.quantity\n",
    "return_prob_dict=df_return_probability['return_probability'].to_dict()\n",
    "del df_return_probability\n",
    "df['return_prob']= df.articleID.apply(lambda x: return_prob_dict.get(x,0.5))\n",
    "\n",
    "# total_order - voucherAmount\n",
    "df['after_voucher']=df.total_order - df.voucherAmount\n",
    "\n",
    "# urutan\n",
    "df['order_order'] = df[['customerID','orderID']].groupby(['customerID']).cumcount();\n",
    "df['choice_order']= df[['orderID','articleID']].groupby(['orderID']).cumcount();"
   ]
  },
  {
   "cell_type": "code",
   "execution_count": 17,
   "metadata": {
    "collapsed": false
   },
   "outputs": [
    {
     "data": {
      "text/plain": [
       "\"# wednesday\\ndf['wednesday'] =orig_df.orderDate.apply(pd.to_datetime).apply(lambda x: x.weekday())\\ndf.wednesday[df.wednesday!=2]=0\\ndf.wednesday[df.wednesday==2]=1\""
      ]
     },
     "execution_count": 17,
     "metadata": {},
     "output_type": "execute_result"
    }
   ],
   "source": [
    "\"\"\"# wednesday\n",
    "df['wednesday'] =orig_df.orderDate.apply(pd.to_datetime).apply(lambda x: x.weekday())\n",
    "df.wednesday[df.wednesday!=2]=0\n",
    "df.wednesday[df.wednesday==2]=1\"\"\""
   ]
  },
  {
   "cell_type": "code",
   "execution_count": 19,
   "metadata": {
    "collapsed": false,
    "scrolled": true
   },
   "outputs": [],
   "source": [
    "#joblib.dump(df, 'df-04-14.pkl') \n",
    "#orig_df=joblib.load('df-04-14.pkl')\n",
    "#df.to_csv(\"df-04-14.csv\")"
   ]
  },
  {
   "cell_type": "code",
   "execution_count": 11,
   "metadata": {
    "collapsed": false
   },
   "outputs": [
    {
     "name": "stdout",
     "output_type": "stream",
     "text": [
      "Konversi kategori/object ke numerik:\n",
      "customerID\n",
      "orderID\n",
      "orderDate\n",
      "articleID\n",
      "sizeCode\n",
      "voucherID\n",
      "paymentMethod\n",
      "mmdd\n"
     ]
    }
   ],
   "source": [
    "#iseng ubah float ke integer\n",
    "df.price=df.price.astype(np.int)\n",
    "df.budget=df.budget.astype(np.int)\n",
    "\n",
    "#Konversi kategori/object ke numerik\n",
    "print \"Konversi kategori/object ke numerik:\"\n",
    "\n",
    "#Cari kolom yang tipenya object, bukan integer maupun float\n",
    "object_columns=df.loc[:, df.dtypes == object].columns\n",
    "\n",
    "for col in object_columns:\n",
    "    print col\n",
    "    le=LabelEncoder()\n",
    "    # Konversi deh\n",
    "    df[col]=le.fit_transform(df[col])\n",
    "    \n",
    "#df['price_delta']=df.rrp-df.price;# df.price_delta.head()"
   ]
  },
  {
   "cell_type": "code",
   "execution_count": 93,
   "metadata": {
    "collapsed": false
   },
   "outputs": [
    {
     "data": {
      "text/html": [
       "<div>\n",
       "<table border=\"1\" class=\"dataframe\">\n",
       "  <thead>\n",
       "    <tr style=\"text-align: right;\">\n",
       "      <th></th>\n",
       "      <th>customerID</th>\n",
       "      <th>orderID</th>\n",
       "      <th>orderDate</th>\n",
       "      <th>articleID</th>\n",
       "      <th>colorCode</th>\n",
       "      <th>sizeCode</th>\n",
       "      <th>productGroup</th>\n",
       "      <th>quantity</th>\n",
       "      <th>price</th>\n",
       "      <th>rrp</th>\n",
       "      <th>...</th>\n",
       "      <th>paymentMethod</th>\n",
       "      <th>returnQuantity</th>\n",
       "      <th>mmdd</th>\n",
       "      <th>months</th>\n",
       "      <th>total_order</th>\n",
       "      <th>budget</th>\n",
       "      <th>return_prob</th>\n",
       "      <th>after_voucher</th>\n",
       "      <th>order_order</th>\n",
       "      <th>choice_order</th>\n",
       "    </tr>\n",
       "  </thead>\n",
       "  <tbody>\n",
       "    <tr>\n",
       "      <th>0</th>\n",
       "      <td>0</td>\n",
       "      <td>1452</td>\n",
       "      <td>2</td>\n",
       "      <td>2943</td>\n",
       "      <td>3999</td>\n",
       "      <td>23</td>\n",
       "      <td>17</td>\n",
       "      <td>1</td>\n",
       "      <td>27</td>\n",
       "      <td>27.99</td>\n",
       "      <td>...</td>\n",
       "      <td>2</td>\n",
       "      <td>0</td>\n",
       "      <td>2</td>\n",
       "      <td>1</td>\n",
       "      <td>27.99</td>\n",
       "      <td>69</td>\n",
       "      <td>0.509636</td>\n",
       "      <td>27.99</td>\n",
       "      <td>0</td>\n",
       "      <td>0</td>\n",
       "    </tr>\n",
       "    <tr>\n",
       "      <th>1</th>\n",
       "      <td>0</td>\n",
       "      <td>4937</td>\n",
       "      <td>6</td>\n",
       "      <td>2948</td>\n",
       "      <td>1999</td>\n",
       "      <td>23</td>\n",
       "      <td>17</td>\n",
       "      <td>1</td>\n",
       "      <td>25</td>\n",
       "      <td>25.99</td>\n",
       "      <td>...</td>\n",
       "      <td>2</td>\n",
       "      <td>1</td>\n",
       "      <td>6</td>\n",
       "      <td>1</td>\n",
       "      <td>25.99</td>\n",
       "      <td>69</td>\n",
       "      <td>0.427653</td>\n",
       "      <td>25.99</td>\n",
       "      <td>1</td>\n",
       "      <td>0</td>\n",
       "    </tr>\n",
       "    <tr>\n",
       "      <th>2</th>\n",
       "      <td>0</td>\n",
       "      <td>12400</td>\n",
       "      <td>14</td>\n",
       "      <td>1177</td>\n",
       "      <td>1993</td>\n",
       "      <td>13</td>\n",
       "      <td>4</td>\n",
       "      <td>1</td>\n",
       "      <td>39</td>\n",
       "      <td>39.99</td>\n",
       "      <td>...</td>\n",
       "      <td>2</td>\n",
       "      <td>0</td>\n",
       "      <td>14</td>\n",
       "      <td>1</td>\n",
       "      <td>39.99</td>\n",
       "      <td>69</td>\n",
       "      <td>0.473249</td>\n",
       "      <td>39.99</td>\n",
       "      <td>2</td>\n",
       "      <td>0</td>\n",
       "    </tr>\n",
       "    <tr>\n",
       "      <th>3</th>\n",
       "      <td>0</td>\n",
       "      <td>13403</td>\n",
       "      <td>15</td>\n",
       "      <td>2418</td>\n",
       "      <td>1995</td>\n",
       "      <td>13</td>\n",
       "      <td>15</td>\n",
       "      <td>1</td>\n",
       "      <td>59</td>\n",
       "      <td>59.99</td>\n",
       "      <td>...</td>\n",
       "      <td>2</td>\n",
       "      <td>1</td>\n",
       "      <td>15</td>\n",
       "      <td>1</td>\n",
       "      <td>119.98</td>\n",
       "      <td>69</td>\n",
       "      <td>0.503149</td>\n",
       "      <td>119.98</td>\n",
       "      <td>3</td>\n",
       "      <td>0</td>\n",
       "    </tr>\n",
       "    <tr>\n",
       "      <th>4</th>\n",
       "      <td>0</td>\n",
       "      <td>13403</td>\n",
       "      <td>15</td>\n",
       "      <td>2418</td>\n",
       "      <td>1999</td>\n",
       "      <td>14</td>\n",
       "      <td>15</td>\n",
       "      <td>1</td>\n",
       "      <td>59</td>\n",
       "      <td>59.99</td>\n",
       "      <td>...</td>\n",
       "      <td>2</td>\n",
       "      <td>1</td>\n",
       "      <td>15</td>\n",
       "      <td>1</td>\n",
       "      <td>119.98</td>\n",
       "      <td>69</td>\n",
       "      <td>0.503149</td>\n",
       "      <td>119.98</td>\n",
       "      <td>4</td>\n",
       "      <td>1</td>\n",
       "    </tr>\n",
       "  </tbody>\n",
       "</table>\n",
       "<p>5 rows × 23 columns</p>\n",
       "</div>"
      ],
      "text/plain": [
       "   customerID  orderID  orderDate  articleID  colorCode  sizeCode  \\\n",
       "0           0     1452          2       2943       3999        23   \n",
       "1           0     4937          6       2948       1999        23   \n",
       "2           0    12400         14       1177       1993        13   \n",
       "3           0    13403         15       2418       1995        13   \n",
       "4           0    13403         15       2418       1999        14   \n",
       "\n",
       "   productGroup  quantity  price    rrp      ...       paymentMethod  \\\n",
       "0            17         1     27  27.99      ...                   2   \n",
       "1            17         1     25  25.99      ...                   2   \n",
       "2             4         1     39  39.99      ...                   2   \n",
       "3            15         1     59  59.99      ...                   2   \n",
       "4            15         1     59  59.99      ...                   2   \n",
       "\n",
       "   returnQuantity  mmdd  months  total_order  budget  return_prob  \\\n",
       "0               0     2       1        27.99      69     0.509636   \n",
       "1               1     6       1        25.99      69     0.427653   \n",
       "2               0    14       1        39.99      69     0.473249   \n",
       "3               1    15       1       119.98      69     0.503149   \n",
       "4               1    15       1       119.98      69     0.503149   \n",
       "\n",
       "   after_voucher  order_order  choice_order  \n",
       "0          27.99            0             0  \n",
       "1          25.99            1             0  \n",
       "2          39.99            2             0  \n",
       "3         119.98            3             0  \n",
       "4         119.98            4             1  \n",
       "\n",
       "[5 rows x 23 columns]"
      ]
     },
     "execution_count": 93,
     "metadata": {},
     "output_type": "execute_result"
    }
   ],
   "source": [
    "df.head()"
   ]
  },
  {
   "cell_type": "code",
   "execution_count": 20,
   "metadata": {
    "collapsed": false
   },
   "outputs": [
    {
     "name": "stderr",
     "output_type": "stream",
     "text": [
      "C:\\Anaconda2\\lib\\site-packages\\ipykernel\\__main__.py:5: FutureWarning: sort(columns=....) is deprecated, use sort_values(by=.....)\n"
     ]
    }
   ],
   "source": [
    "# Selangkah sebelum ditrain\n",
    "label='returnQuantity'\n",
    "\n",
    "# Drop NaN\n",
    "df2=df.sort(\"orderID\").dropna()\n",
    "\n",
    "Xdf=df2.drop([label,\"orderID\"], axis=1)\n",
    "Xdf.rrp=Xdf.rrp.astype(np.int)\n",
    "\n",
    "X=Xdf.values\n",
    "y=df2.returnQuantity.values"
   ]
  },
  {
   "cell_type": "code",
   "execution_count": null,
   "metadata": {
    "collapsed": true
   },
   "outputs": [],
   "source": [
    "X_train, X_test, y_train, y_test = train_test_split(X, y, test_size=0.30, random_state=42)"
   ]
  },
  {
   "cell_type": "code",
   "execution_count": 110,
   "metadata": {
    "collapsed": false
   },
   "outputs": [
    {
     "data": {
      "text/plain": [
       "RandomForestClassifier(bootstrap=True, class_weight=None, criterion='gini',\n",
       "            max_depth=None, max_features='auto', max_leaf_nodes=None,\n",
       "            min_samples_leaf=1, min_samples_split=2,\n",
       "            min_weight_fraction_leaf=0.0, n_estimators=10, n_jobs=-1,\n",
       "            oob_score=False, random_state=None, verbose=0,\n",
       "            warm_start=False)"
      ]
     },
     "execution_count": 110,
     "metadata": {},
     "output_type": "execute_result"
    }
   ],
   "source": [
    "rfc=RandomForestClassifier(n_jobs=-1)\n",
    "rfc.fit(X_train, y_train)"
   ]
  },
  {
   "cell_type": "code",
   "execution_count": 111,
   "metadata": {
    "collapsed": false,
    "scrolled": true
   },
   "outputs": [
    {
     "data": {
      "text/plain": [
       "[('voucherAmount', 0.008844496709481408),\n",
       " ('quantity', 0.0093324031702163406),\n",
       " ('productGroup', 0.014387262675345536),\n",
       " ('voucherID', 0.016277729810941808),\n",
       " ('deviceID', 0.019815761309476355),\n",
       " ('paymentMethod', 0.019978720674466634),\n",
       " ('months', 0.026730617852121656),\n",
       " ('rrp', 0.02948235001143798),\n",
       " ('choice_order', 0.035629408368906129),\n",
       " ('price', 0.0417470189282238),\n",
       " ('sizeCode', 0.044808807069813467),\n",
       " ('articleID', 0.05424272890421826),\n",
       " ('colorCode', 0.05976713876698625),\n",
       " ('order_order', 0.062850904570996804),\n",
       " ('mmdd', 0.070210862709374419),\n",
       " ('orderDate', 0.070721914304349986),\n",
       " ('after_voucher', 0.075593711311003509),\n",
       " ('budget', 0.081893112411723187),\n",
       " ('customerID', 0.084632659177736408),\n",
       " ('total_order', 0.084915523649828545),\n",
       " ('return_prob', 0.088136867613351599)]"
      ]
     },
     "execution_count": 111,
     "metadata": {},
     "output_type": "execute_result"
    }
   ],
   "source": [
    "from itertools import izip as zip\n",
    "pair=zip(Xdf.columns, rfc.feature_importances_)\n",
    "t1=[i for i in pair]; t1\n",
    "#\n",
    "from operator import itemgetter\n",
    "sorted(t1, key=itemgetter(1))"
   ]
  },
  {
   "cell_type": "code",
   "execution_count": 115,
   "metadata": {
    "collapsed": false
   },
   "outputs": [
    {
     "name": "stdout",
     "output_type": "stream",
     "text": [
      "Error:  259037\n",
      "[[222443 112565     62      3      0      0]\n",
      " [144594 216398    190      3      1      0]\n",
      " [   400    551    158      0      0      0]\n",
      " [    35     13      4      5      0      0]\n",
      " [     4      3      2      0      0      0]\n",
      " [     3      3      0      2      0      2]]\n"
     ]
    }
   ],
   "source": [
    "y_pred=rfc.predict(X_test)\n",
    "print \"Error: \", dmc_error(y_test, y_pred)\n",
    "print confusion_matrix(y_test, y_pred)"
   ]
  },
  {
   "cell_type": "code",
   "execution_count": 113,
   "metadata": {
    "collapsed": false
   },
   "outputs": [
    {
     "data": {
      "text/plain": [
       "'from sklearn.ensemble import RandomForestRegressor\\nrfr=RandomForestRegressor(n_jobs=-1)\\nrfr.fit(X_train, y_train)\\ny_pred_rfr=rfc.predict(X_test)\\ny_pred_rfr_i=[int(label) for label in y_pred_rfr]\\nprint dmc_error(y_test, y_pred_rfr_i)\\nprint confusion_matrix(y_test, y_pred_rfr_i)\\nprint y_pred_rfr_i'"
      ]
     },
     "execution_count": 113,
     "metadata": {},
     "output_type": "execute_result"
    }
   ],
   "source": [
    "\"\"\"from sklearn.ensemble import RandomForestRegressor\n",
    "rfr=RandomForestRegressor(n_jobs=-1)\n",
    "rfr.fit(X_train, y_train)\n",
    "y_pred_rfr=rfc.predict(X_test)\n",
    "y_pred_rfr_i=[int(label) for label in y_pred_rfr]\n",
    "print dmc_error(y_test, y_pred_rfr_i)\n",
    "print confusion_matrix(y_test, y_pred_rfr_i)\n",
    "print y_pred_rfr_i\"\"\""
   ]
  }
 ],
 "metadata": {
  "kernelspec": {
   "display_name": "Python 2",
   "language": "python",
   "name": "python2"
  }
 },
 "nbformat": 4,
 "nbformat_minor": 0
}
