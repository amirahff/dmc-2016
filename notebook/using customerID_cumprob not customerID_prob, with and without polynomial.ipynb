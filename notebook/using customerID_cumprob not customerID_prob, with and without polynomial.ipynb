{
 "cells": [
  {
   "cell_type": "markdown",
   "metadata": {},
   "source": [
    "### Without PolynomialFeatures:\n",
    "    LR = 62936\n",
    "    Lasso = 131723\n",
    "    Ridge = 62928\n",
    "    \n",
    "### With PolynomialFeatures:\n",
    "    LR = 61222\n",
    "    Lasso = 72061\n",
    "    Ridge = 61231"
    
    "###Summary:\n",
    "Data Size = 1023297\n",
    "Train : Test = 2 : 1 ",
    "Features = ['quantity', 'returnQuantity', 'order_total', 'customer_budget','expense_ratio', 'unit_price', 'usual_unit_price', 'price_diff','order_order', 'choice_order', 'articleID_prob', 'colorCode_prob','customerID_cumprob', 'sizeCode_prob', 'ac_prob', 'as_prob']\n"
   ]
  },
  {
   "cell_type": "code",
   "execution_count": 68,
   "metadata": {
    "collapsed": true
   },
   "outputs": [],
   "source": [
    "label='returnQuantity'\n",
    "\n",
    "import pandas as pd\n",
    "import numpy as np\n",
    "from sklearn.ensemble import RandomForestClassifier\n",
    "from sklearn.ensemble import RandomForestRegressor\n",
    "from sklearn.cross_validation import train_test_split\n",
    "from sklearn.preprocessing import PolynomialFeatures\n",
    "from sklearn.linear_model import LinearRegression\n",
    "from sklearn import linear_model\n",
    "from sklearn.cross_validation import cross_val_score\n",
    "from sklearn.metrics import confusion_matrix\n",
    "from sklearn.preprocessing import LabelEncoder\n",
    "\n",
    "def dmc_error(returnQuantity, prediction):\n",
    "    #∑ |returnQuantity𝑖 − prediction𝑖 |\n",
    "    return np.sum(np.abs( np.subtract(returnQuantity, prediction) ))"
   ]
  },
  {
   "cell_type": "code",
   "execution_count": 128,
   "metadata": {
    "collapsed": true
   },
   "outputs": [],
   "source": [
    "df=pd.read_csv('train_gue2.csv')"
   ]
  },
  {
   "cell_type": "code",
   "execution_count": 129,
   "metadata": {
    "collapsed": false
   },
   "outputs": [],
   "source": [
    "df = df[:1023297]"
   ]
  },
  {
   "cell_type": "code",
   "execution_count": 130,
   "metadata": {
    "collapsed": true
   },
   "outputs": [],
   "source": [
    "object_columns=df.loc[:, df.dtypes == object].columns\n",
    "df= df.drop(object_columns, axis=1)"
   ]
  },
  {
   "cell_type": "code",
   "execution_count": 131,
   "metadata": {
    "collapsed": false
   },
   "outputs": [],
   "source": [
    "df= df.drop(['colorCode','productGroup','months','price','rrp','voucherAmount','after_voucher'], axis=1)"
   ]
  },
  {
   "cell_type": "code",
   "execution_count": 132,
   "metadata": {
    "collapsed": true
   },
   "outputs": [],
   "source": [
    "label='returnQuantity'\n",
    "\n",
    "Xdf=df.drop([label], axis=1)\n",
    "\n",
    "X=Xdf.values\n",
    "y=df.returnQuantity.values"
   ]
  },
  {
   "cell_type": "code",
   "execution_count": 133,
   "metadata": {
    "collapsed": true
   },
   "outputs": [],
   "source": [
    "X_train, X_test, y_train, y_test = train_test_split(X, y, test_size=0.33, random_state=42)"
   ]
  },
  {
   "cell_type": "code",
   "execution_count": 136,
   "metadata": {
    "collapsed": false
   },
   "outputs": [
    {
     "name": "stdout",
     "output_type": "stream",
     "text": [
      "[[125366  37343     10      1      1      0]\n",
      " [ 24950 149431      4      0      0      0]\n",
      " [     6    533      5      0      0      0]\n",
      " [     0     15     15      0      0      0]\n",
      " [     0      0      4      0      0      0]\n",
      " [     0      0      4      1      0      0]]\n",
      "62936\n"
     ]
    }
   ],
   "source": [
    "lr=LinearRegression(n_jobs=-1, normalize=True)\n",
    "lr.fit(X_train, y_train)\n",
    "y_pred=lr.predict(X_test)\n",
    "y_pred=np.array([round(yp) for yp in y_pred], dtype=np.int8)\n",
    "y_pred[y_pred<0]=0\n",
    "print confusion_matrix(y_test,y_pred)\n",
    "print dmc_error(y_test,y_pred)"
   ]
  },
  {
   "cell_type": "code",
   "execution_count": 135,
   "metadata": {
    "collapsed": false
   },
   "outputs": [
    {
     "name": "stdout",
     "output_type": "stream",
     "text": [
      "[[106510  56206      5      0      0      0]\n",
      " [ 74670  99715      0      0      0      0]\n",
      " [   189    355      0      0      0      0]\n",
      " [    11     19      0      0      0      0]\n",
      " [     0      4      0      0      0      0]\n",
      " [     1      4      0      0      0      0]]\n",
      "131723\n"
     ]
    }
   ],
   "source": [
    "lr=linear_model.Lasso()\n",
    "lr.fit(X_train, y_train)\n",
    "y_pred=lr.predict(X_test)\n",
    "y_pred=np.array([round(yp) for yp in y_pred], dtype=np.int8)\n",
    "y_pred[y_pred<0]=0\n",
    "print confusion_matrix(y_test,y_pred)\n",
    "print dmc_error(y_test,y_pred)"
   ]
  },
  {
   "cell_type": "code",
   "execution_count": 139,
   "metadata": {
    "collapsed": false
   },
   "outputs": [
    {
     "name": "stdout",
     "output_type": "stream",
     "text": [
      "[[125368  37342      9      1      1      0]\n",
      " [ 24945 149436      4      0      0      0]\n",
      " [     6    533      5      0      0      0]\n",
      " [     0     15     15      0      0      0]\n",
      " [     0      0      4      0      0      0]\n",
      " [     0      0      4      1      0      0]]\n",
      "62928\n"
     ]
    }
   ],
   "source": [
    "lr=linear_model.Ridge()\n",
    "lr.fit(X_train, y_train)\n",
    "y_pred=lr.predict(X_test)\n",
    "y_pred=np.array([round(yp) for yp in y_pred], dtype=np.int8)\n",
    "y_pred[y_pred<0]=0\n",
    "print confusion_matrix(y_test,y_pred)\n",
    "print dmc_error(y_test,y_pred)"
   ]
  },
  {
   "cell_type": "code",
   "execution_count": 90,
   "metadata": {
    "collapsed": true
   },
   "outputs": [],
   "source": [
    "import matplotlib.pyplot as plt\n",
    "%matplotlib inline"
   ]
  },
  {
   "cell_type": "code",
   "execution_count": 138,
   "metadata": {
    "collapsed": false
   },
   "outputs": [
    {
     "data": {
      "text/plain": [
       "<matplotlib.axes._subplots.AxesSubplot at 0x12257940>"
      ]
     },
     "execution_count": 138,
     "metadata": {},
     "output_type": "execute_result"
    },
    {
     "data": {
      "image/png": "iVBORw0KGgoAAAANSUhEUgAAA7QAAAHvCAYAAABkEZOzAAAABHNCSVQICAgIfAhkiAAAAAlwSFlz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\nkVLQRkREREREREf6H7bqyTi3qLY9AAAAAElFTkSuQmCC\n",
      "text/plain": [
       "<matplotlib.figure.Figure at 0x15194908>"
      ]
     },
     "metadata": {},
     "output_type": "display_data"
    }
   ],
   "source": [
    "df.plot(kind='scatter', x='customerID_cumprob', y='returnQuantity', figsize=(16, 8))"
   ]
  },
  {
   "cell_type": "code",
   "execution_count": 140,
   "metadata": {
    "collapsed": true
   },
   "outputs": [],
   "source": [
    "poly = PolynomialFeatures(2)\n",
    "X = poly.fit_transform(X).astype(np.float32)"
   ]
  },
  {
   "cell_type": "code",
   "execution_count": 141,
   "metadata": {
    "collapsed": true
   },
   "outputs": [],
   "source": [
    "X_train, X_test, y_train, y_test = train_test_split(X, y, test_size=0.33, random_state=42)"
   ]
  },
  {
   "cell_type": "code",
   "execution_count": 142,
   "metadata": {
    "collapsed": false
   },
   "outputs": [
    {
     "name": "stdout",
     "output_type": "stream",
     "text": [
      "[[125656  37054     11      0      0      0]\n",
      " [ 23724 150535    125      0      1      0]\n",
      " [    11    234    298      1      0      0]\n",
      " [     0      7     10     13      0      0]\n",
      " [     0      0      1      1      2      0]\n",
      " [     0      1      1      1      1      1]]\n",
      "61222\n"
     ]
    }
   ],
   "source": [
    "lr=LinearRegression(n_jobs=-1, normalize=True)\n",
    "lr.fit(X_train, y_train)\n",
    "y_pred=lr.predict(X_test)\n",
    "y_pred=np.array([round(yp) for yp in y_pred], dtype=np.int8)\n",
    "y_pred[y_pred<0]=0\n",
    "print confusion_matrix(y_test,y_pred)\n",
    "print dmc_error(y_test,y_pred)"
   ]
  },
  {
   "cell_type": "code",
   "execution_count": 143,
   "metadata": {
    "collapsed": false
   },
   "outputs": [
    {
     "name": "stdout",
     "output_type": "stream",
     "text": [
      "[[131267  31454      0      0      0      0]\n",
      " [ 39830 134519     36      0      0      0]\n",
      " [   102    440      2      0      0      0]\n",
      " [     5     25      0      0      0      0]\n",
      " [     0      4      0      0      0      0]\n",
      " [     0      5      0      0      0      0]]\n",
      "72061\n"
     ]
    }
   ],
   "source": [
    "lr=linear_model.Lasso()\n",
    "lr.fit(X_train, y_train)\n",
    "y_pred=lr.predict(X_test)\n",
    "y_pred=np.array([round(yp) for yp in y_pred], dtype=np.int8)\n",
    "y_pred[y_pred<0]=0\n",
    "print confusion_matrix(y_test,y_pred)\n",
    "print dmc_error(y_test,y_pred)"
   ]
  },
  {
   "cell_type": "code",
   "execution_count": 145,
   "metadata": {
    "collapsed": false
   },
   "outputs": [
    {
     "name": "stdout",
     "output_type": "stream",
     "text": [
      "[[125645  37065     11      0      0      0]\n",
      " [ 23722 150537    125      0      1      0]\n",
      " [    11    233    299      1      0      0]\n",
      " [     0      8      9     13      0      0]\n",
      " [     0      0      1      1      2      0]\n",
      " [     0      1      1      1      1      1]]\n",
      "61231\n"
     ]
    }
   ],
   "source": [
    "lr=linear_model.Ridge()\n",
    "lr.fit(X_train, y_train)\n",
    "y_pred=lr.predict(X_test)\n",
    "y_pred=np.array([round(yp) for yp in y_pred], dtype=np.int8)\n",
    "y_pred[y_pred<0]=0\n",
    "print confusion_matrix(y_test,y_pred)\n",
    "print dmc_error(y_test,y_pred)"
   ]
  },
  {
   "cell_type": "code",
   "execution_count": null,
   "metadata": {
    "collapsed": true
   },
   "outputs": [],
   "source": []
  }
 ],
 "metadata": {
  "kernelspec": {
   "display_name": "Python 2",
   "language": "python",
   "name": "python2"
  },
  "language_info": {
   "codemirror_mode": {
    "name": "ipython",
    "version": 2
   },
   "file_extension": ".py",
   "mimetype": "text/x-python",
   "name": "python",
   "nbconvert_exporter": "python",
   "pygments_lexer": "ipython2",
   "version": "2.7.11"
  }
 },
 "nbformat": 4,
 "nbformat_minor": 0
}
