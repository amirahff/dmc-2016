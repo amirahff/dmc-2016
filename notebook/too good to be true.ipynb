{
 "cells": [
  {
   "cell_type": "code",
   "execution_count": 2,
   "metadata": {
    "collapsed": true
   },
   "outputs": [],
   "source": [
    "label='returnQuantity'\n",
    "\n",
    "import pandas as pd\n",
    "import numpy as np\n",
    "from sklearn.ensemble import RandomForestClassifier\n",
    "from sklearn.ensemble import RandomForestRegressor\n",
    "from sklearn.cross_validation import train_test_split\n",
    "from sklearn.preprocessing import PolynomialFeatures\n",
    "from sklearn.linear_model import LinearRegression\n",
    "from sklearn import linear_model\n",
    "from scipy import stats\n",
    "from sklearn.cross_validation import cross_val_score\n",
    "from sklearn.metrics import confusion_matrix\n",
    "from sklearn.preprocessing import LabelEncoder\n",
    "\n",
    "def dmc_error(returnQuantity, prediction):\n",
    "    #∑ |returnQuantity𝑖 − prediction𝑖 |\n",
    "    return np.sum(np.abs( np.subtract(returnQuantity, prediction) ))"
   ]
  },
  {
   "cell_type": "code",
   "execution_count": 3,
   "metadata": {
    "collapsed": true
   },
   "outputs": [],
   "source": [
    "df=pd.read_csv('train_gue3.csv')"
   ]
  },
  {
   "cell_type": "code",
   "execution_count": 4,
   "metadata": {
    "collapsed": false
   },
   "outputs": [],
   "source": [
    "df = df[:1023297]"
   ]
  },
  {
   "cell_type": "code",
   "execution_count": 5,
   "metadata": {
    "collapsed": false
   },
   "outputs": [],
   "source": [
    "object_columns=df.loc[:, df.dtypes == object].columns\n",
    "df= df.drop(object_columns, axis=1)"
   ]
  },
  {
   "cell_type": "code",
   "execution_count": 6,
   "metadata": {
    "collapsed": false
   },
   "outputs": [],
   "source": [
    "df= df.drop(['colorCode','productGroup','months','price','rrp','voucherAmount','after_voucher'], axis=1)"
   ]
  },
  {
   "cell_type": "code",
   "execution_count": 7,
   "metadata": {
    "collapsed": true
   },
   "outputs": [],
   "source": [
    "label='returnQuantity'\n",
    "\n",
    "Xdf=df.drop([label], axis=1)\n",
    "\n",
    "X=Xdf.values\n",
    "y=df.returnQuantity.values"
   ]
  },
  {
   "cell_type": "code",
   "execution_count": 7,
   "metadata": {
    "collapsed": true
   },
   "outputs": [],
   "source": [
    "X_train, X_test, y_train, y_test = train_test_split(X, y, test_size=0.33, random_state=42)"
   ]
  },
  {
   "cell_type": "code",
   "execution_count": 8,
   "metadata": {
    "collapsed": false
   },
   "outputs": [
    {
     "name": "stdout",
     "output_type": "stream",
     "text": [
      "[[147407  15305      7      1      1      0]\n",
      " [ 13456 160924      5      0      0      0]\n",
      " [     1    538      5      0      0      0]\n",
      " [     0      7     23      0      0      0]\n",
      " [     0      0      4      0      0      0]\n",
      " [     0      0      5      0      0      0]]\n",
      "29387\n"
     ]
    }
   ],
   "source": [
    "lr=LinearRegression(n_jobs=-1, normalize=True)\n",
    "lr.fit(X_train, y_train)\n",
    "y_pred=lr.predict(X_test)\n",
    "y_pred=np.array([round(yp) for yp in y_pred], dtype=np.int8)\n",
    "y_pred[y_pred<0]=0\n",
    "print confusion_matrix(y_test,y_pred)\n",
    "print dmc_error(y_test,y_pred)"
   ]
  },
  {
   "cell_type": "code",
   "execution_count": 9,
   "metadata": {
    "collapsed": false
   },
   "outputs": [
    {
     "name": "stdout",
     "output_type": "stream",
     "text": [
      "[[106510  56206      5      0      0      0]\n",
      " [ 74670  99715      0      0      0      0]\n",
      " [   189    355      0      0      0      0]\n",
      " [    11     19      0      0      0      0]\n",
      " [     0      4      0      0      0      0]\n",
      " [     1      4      0      0      0      0]]\n",
      "131723\n"
     ]
    }
   ],
   "source": [
    "lr=linear_model.Lasso()\n",
    "lr.fit(X_train, y_train)\n",
    "y_pred=lr.predict(X_test)\n",
    "y_pred=np.array([round(yp) for yp in y_pred], dtype=np.int8)\n",
    "y_pred[y_pred<0]=0\n",
    "print confusion_matrix(y_test,y_pred)\n",
    "print dmc_error(y_test,y_pred)"
   ]
  },
  {
   "cell_type": "code",
   "execution_count": 10,
   "metadata": {
    "collapsed": false
   },
   "outputs": [
    {
     "name": "stdout",
     "output_type": "stream",
     "text": [
      "[[147400  15312      7      1      1      0]\n",
      " [ 13450 160930      5      0      0      0]\n",
      " [     1    538      5      0      0      0]\n",
      " [     0      7     23      0      0      0]\n",
      " [     0      0      4      0      0      0]\n",
      " [     0      0      5      0      0      0]]\n",
      "29388\n"
     ]
    }
   ],
   "source": [
    "lr=linear_model.Ridge()\n",
    "lr.fit(X_train, y_train)\n",
    "y_pred=lr.predict(X_test)\n",
    "y_pred=np.array([round(yp) for yp in y_pred], dtype=np.int8)\n",
    "y_pred[y_pred<0]=0\n",
    "print confusion_matrix(y_test,y_pred)\n",
    "print dmc_error(y_test,y_pred)"
   ]
  },
  {
   "cell_type": "code",
   "execution_count": 11,
   "metadata": {
    "collapsed": true
   },
   "outputs": [],
   "source": [
    "poly = PolynomialFeatures(2)\n",
    "X = poly.fit_transform(X).astype(np.float32)"
   ]
  },
  {
   "cell_type": "code",
   "execution_count": 12,
   "metadata": {
    "collapsed": true
   },
   "outputs": [],
   "source": [
    "X_train, X_test, y_train, y_test = train_test_split(X, y, test_size=0.33, random_state=42)"
   ]
  },
  {
   "cell_type": "code",
   "execution_count": 13,
   "metadata": {
    "collapsed": false
   },
   "outputs": [
    {
     "name": "stdout",
     "output_type": "stream",
     "text": [
      "[[146612  16101      7      1      0      0]\n",
      " [ 11733 162577     74      0      1      0]\n",
      " [     6    104    434      0      0      0]\n",
      " [     0      2      6     22      0      0]\n",
      " [     0      0      0      1      3      0]\n",
      " [     0      0      1      1      1      2]]\n",
      "28061\n"
     ]
    }
   ],
   "source": [
    "lr=LinearRegression(n_jobs=-1, normalize=True)\n",
    "lr.fit(X_train, y_train)\n",
    "y_pred=lr.predict(X_test)\n",
    "y_pred=np.array([round(yp) for yp in y_pred], dtype=np.int8)\n",
    "y_pred[y_pred<0]=0\n",
    "print confusion_matrix(y_test,y_pred)\n",
    "print dmc_error(y_test,y_pred)"
   ]
  },
  {
   "cell_type": "code",
   "execution_count": 14,
   "metadata": {
    "collapsed": false
   },
   "outputs": [
    {
     "name": "stdout",
     "output_type": "stream",
     "text": [
      "[[149394  13327      0      0      0      0]\n",
      " [ 21497 152885      3      0      0      0]\n",
      " [    66    474      4      0      0      0]\n",
      " [     2     26      2      0      0      0]\n",
      " [     0      4      0      0      0      0]\n",
      " [     0      4      1      0      0      0]]\n",
      "35524\n"
     ]
    }
   ],
   "source": [
    "lr=linear_model.Lasso()\n",
    "lr.fit(X_train, y_train)\n",
    "y_pred=lr.predict(X_test)\n",
    "y_pred=np.array([round(yp) for yp in y_pred], dtype=np.int8)\n",
    "y_pred[y_pred<0]=0\n",
    "print confusion_matrix(y_test,y_pred)\n",
    "print dmc_error(y_test,y_pred)"
   ]
  },
  {
   "cell_type": "code",
   "execution_count": 15,
   "metadata": {
    "collapsed": false
   },
   "outputs": [
    {
     "name": "stdout",
     "output_type": "stream",
     "text": [
      "[[146615  16098      7      1      0      0]\n",
      " [ 11756 162555     73      0      1      0]\n",
      " [     6    104    434      0      0      0]\n",
      " [     0      2      6     22      0      0]\n",
      " [     0      0      0      1      3      0]\n",
      " [     0      0      1      1      1      2]]\n",
      "28080\n"
     ]
    }
   ],
   "source": [
    "lr=linear_model.Ridge()\n",
    "lr.fit(X_train, y_train)\n",
    "y_pred=lr.predict(X_test)\n",
    "y_pred=np.array([round(yp) for yp in y_pred], dtype=np.int8)\n",
    "y_pred[y_pred<0]=0\n",
    "print confusion_matrix(y_test,y_pred)\n",
    "print dmc_error(y_test,y_pred)"
   ]
  },
  {
   "cell_type": "code",
   "execution_count": 16,
   "metadata": {
    "collapsed": false
   },
   "outputs": [
    {
     "data": {
      "text/plain": [
       "Index([u'quantity', u'returnQuantity', u'order_total', u'customer_budget',\n",
       "       u'expense_ratio', u'unit_price', u'usual_unit_price', u'price_diff',\n",
       "       u'order_order', u'choice_order', u'articleID_cumprob',\n",
       "       u'colorCode_cumprob', u'customerID_cumprob', u'sizeCode_cumprob',\n",
       "       u'ac_cumprob', u'as_cumprob', u'cps_cumprob'],\n",
       "      dtype='object')"
      ]
     },
     "execution_count": 16,
     "metadata": {},
     "output_type": "execute_result"
    }
   ],
   "source": [
    "df.columns"
   ]
  },
  {
   "cell_type": "code",
   "execution_count": 8,
   "metadata": {
    "collapsed": true
   },
   "outputs": [],
   "source": [
    "def time_series_validation(n, step):\n",
    "    \"\"\"Cross validation for time-series data.\"\"\"\n",
    "    leap = 10000; k = 150000; h = 30000\n",
    "    indices = np.arange(n)\n",
    "    for i in range(step):\n",
    "        yield indices[:k], indices[k:k+h]\n",
    "        k += leap"
   ]
  },
  {
   "cell_type": "code",
   "execution_count": 9,
   "metadata": {
    "collapsed": true
   },
   "outputs": [],
   "source": [
    "def validation(X,y):\n",
    "    \"\"\"Local Cross Validation.\n",
    "    \"\"\"\n",
    "    X_train= X\n",
    "    y_train= y\n",
    "    regress = LinearRegression(n_jobs=-1, normalize=True)\n",
    "\n",
    "    print(\" --- Start local evaluation.\")\n",
    "    tsv = time_series_validation(X_train.shape[0], 33)\n",
    "    i=1; scores = []\n",
    "    for train, test in tsv:\n",
    "        size = test.shape[0]\n",
    "\n",
    "        regress.fit(X_train[train], y_train[train])\n",
    "        y_pred = regress.predict(X_train[test])\n",
    "        y_pred = np.array([round(yp) for yp in y_pred], dtype=np.int8)\n",
    "        y_pred[y_pred < 0] = 0\n",
    "\n",
    "        y_true = y_train[test]\n",
    "        \n",
    "        score = dmc_error(y_true, y_pred)\n",
    "\n",
    "        print(\" ---- Score of #{0} : {1:.5f}\".format(i, score))\n",
    "        i += 1\n",
    "        scores.append(score)\n",
    "\n",
    "    print(\" --- Finished local evaluation.\")\n",
    "    quantiles = stats.mstats.mquantiles(scores)\n",
    "    print(\" --- Score Results:\")\n",
    "    print(\" - min: {:.5f}\".format(np.min(scores)))\n",
    "    print(\" - 25%: {:.5f}\".format(quantiles[0]))\n",
    "    print(\" - median: {:.5f}\".format(np.median(scores)))\n",
    "    print(\" - 75%: {:.5f}\".format(quantiles[2]))\n",
    "    print(\" - max: {:.5f}\".format(np.max(scores)))\n",
    "    print(\" - mean: {0:.5f} (+/-{1:.5f})\".format(np.mean(scores), stats.sem(scores)))"
   ]
  },
  {
   "cell_type": "code",
   "execution_count": 10,
   "metadata": {
    "collapsed": false
   },
   "outputs": [
    {
     "name": "stdout",
     "output_type": "stream",
     "text": [
      " --- Start local evaluation.\n",
      " ---- Score of #1 : 2123\n",
      " ---- Score of #2 : 2123\n",
      " ---- Score of #3 : 2202\n",
      " ---- Score of #4 : 2196\n",
      " ---- Score of #5 : 2162\n",
      " ---- Score of #6 : 2126\n",
      " ---- Score of #7 : 2154\n",
      " ---- Score of #8 : 2214\n",
      " ---- Score of #9 : 2371\n",
      " ---- Score of #10 : 2426\n",
      " ---- Score of #11 : 2550\n",
      " ---- Score of #12 : 2501\n",
      " ---- Score of #13 : 2548\n",
      " ---- Score of #14 : 2543\n",
      " ---- Score of #15 : 2518\n",
      " ---- Score of #16 : 2571\n",
      " ---- Score of #17 : 2515\n",
      " ---- Score of #18 : 2584\n",
      " ---- Score of #19 : 2531\n",
      " ---- Score of #20 : 2591\n",
      " ---- Score of #21 : 2562\n",
      " ---- Score of #22 : 2545\n",
      " ---- Score of #23 : 2523\n",
      " ---- Score of #24 : 2515\n",
      " ---- Score of #25 : 2550\n",
      " ---- Score of #26 : 2661\n",
      " ---- Score of #27 : 2766\n",
      " ---- Score of #28 : 2903\n",
      " ---- Score of #29 : 2908\n",
      " ---- Score of #30 : 2981\n",
      " ---- Score of #31 : 2863\n",
      " ---- Score of #32 : 2907\n",
      " ---- Score of #33 : 2785\n",
      " --- Finished local evaluation.\n",
      " --- Score Results:\n",
      " - min: 2123\n",
      " - 25%: 2323.9\n",
      " - median: 2543\n",
      " - 75%: 2612\n",
      " - max: 2981\n",
      " - mean: 2515.69697 (+/-43.60979)\n"
     ]
    }
   ],
   "source": [
    "validation(X,y)"
   ]
  },
  {
   "cell_type": "code",
   "execution_count": null,
   "metadata": {
    "collapsed": true
   },
   "outputs": [],
   "source": []
  }
 ],
 "metadata": {
  "kernelspec": {
   "display_name": "Python 2",
   "language": "python",
   "name": "python2"
  },
  "language_info": {
   "codemirror_mode": {
    "name": "ipython",
    "version": 2
   },
   "file_extension": ".py",
   "mimetype": "text/x-python",
   "name": "python",
   "nbconvert_exporter": "python",
   "pygments_lexer": "ipython2",
   "version": "2.7.11"
  }
 },
 "nbformat": 4,
 "nbformat_minor": 0
}
