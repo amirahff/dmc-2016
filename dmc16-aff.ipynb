{
 "metadata": {
  "name": "",
  "signature": "sha256:417ac9934426cdc10ddd5445da08b89216c4f8371a2e276f5d31e573a75dd12a"
 },
 "nbformat": 3,
 "nbformat_minor": 0,
 "worksheets": [
  {
   "cells": [
    {
     "cell_type": "heading",
     "level": 1,
     "metadata": {},
     "source": [
      "Import"
     ]
    },
    {
     "cell_type": "code",
     "collapsed": false,
     "input": [
      "import pandas as pd\n",
      "import numpy as np\n",
      "import seaborn as sns\n",
      "import matplotlib.pyplot as plt\n",
      "from datetime import datetime\n",
      "from sklearn.cross_validation import StratifiedShuffleSplit\n",
      "from sklearn.ensemble import RandomForestClassifier\n",
      "from sklearn import preprocessing"
     ],
     "language": "python",
     "metadata": {},
     "outputs": [],
     "prompt_number": 2
    },
    {
     "cell_type": "code",
     "collapsed": false,
     "input": [
      "train=pd.read_csv(\"orders_train.csv\", sep=\";\")"
     ],
     "language": "python",
     "metadata": {},
     "outputs": [],
     "prompt_number": 4
    },
    {
     "cell_type": "code",
     "collapsed": false,
     "input": [
      "X= train.dropna()"
     ],
     "language": "python",
     "metadata": {},
     "outputs": [],
     "prompt_number": 9
    },
    {
     "cell_type": "code",
     "collapsed": false,
     "input": [
      "def getSeason(month):\n",
      "    if month <3 or month==12:\n",
      "        return \"Winter\"\n",
      "    elif month >=3 and month<6:\n",
      "        return \"Spring\"\n",
      "    elif month >=6 and month <9:\n",
      "        return \"Summer\"\n",
      "    else:\n",
      "        return \"Fall\"\n",
      "    \n",
      "def changeSizeCode(size, X):\n",
      "    if size in ['24','25','26','27','28','29','30','31','100']:\n",
      "        return 'XL'\n",
      "    elif size in ['32','33','34']:\n",
      "        return 'XS'\n",
      "    elif size in ['36','38','75']:\n",
      "        return 'S'\n",
      "    elif size in ['40','42','80']:\n",
      "        return 'M'\n",
      "    elif size in ['44','85','90','95']:\n",
      "        return 'L'    \n",
      "    \n",
      "def grouppriceDiff(priceDiff,train):\n",
      "    if priceDiff < 0:\n",
      "        return \"1\"\n",
      "    elif priceDiff == 0:\n",
      "        return \"2\"\n",
      "    elif priceDiff > 0 and priceDiff <= 9.99:\n",
      "        return \"3\"\n",
      "    else:\n",
      "        return \"4\""
     ],
     "language": "python",
     "metadata": {},
     "outputs": [],
     "prompt_number": 10
    },
    {
     "cell_type": "code",
     "collapsed": false,
     "input": [
      "X['orderDate']= pd.to_datetime(X['orderDate'])\n",
      "#fitur baru : month & season \n",
      "X['month']= X['orderDate'].map(lambda x:x.month)\n",
      "X['season']= [getSeason(x) for x in X['month']]\n",
      "#fitur baru : perbedaan harga\n",
      "X['priceDiff']= X['rrp']-(X['price']/X['quantity'])\n",
      "#fitur baru : mengelompokkan rentang perbedaan harga\n",
      "X['gpriceDiff']= [grouppriceDiff(x,X) for x in X['priceDiff']]\n",
      "#fitur baru : mengubah sizeCode\n",
      "X['csizeCode']= [changeSizeCode(size,X) for size in X['sizeCode']]"
     ],
     "language": "python",
     "metadata": {},
     "outputs": [
      {
       "output_type": "stream",
       "stream": "stderr",
       "text": [
        "-c:4: SettingWithCopyWarning: \n",
        "A value is trying to be set on a copy of a slice from a DataFrame.\n",
        "Try using .loc[row_indexer,col_indexer] = value instead\n",
        "\n",
        "See the caveats in the documentation: http://pandas.pydata.org/pandas-docs/stable/indexing.html#indexing-view-versus-copy\n"
       ]
      }
     ],
     "prompt_number": 12
    },
    {
     "cell_type": "code",
     "collapsed": false,
     "input": [
      "Xs= X.sample(frac=0.1)"
     ],
     "language": "python",
     "metadata": {},
     "outputs": [],
     "prompt_number": 10
    },
    {
     "cell_type": "code",
     "collapsed": false,
     "input": [
      "y= Xs['returnQuantity'].values\n",
      "Xss= Xs.drop('returnQuantity', axis=1).values"
     ],
     "language": "python",
     "metadata": {},
     "outputs": [],
     "prompt_number": 11
    },
    {
     "cell_type": "code",
     "collapsed": false,
     "input": [
      "X.info()"
     ],
     "language": "python",
     "metadata": {},
     "outputs": [
      {
       "output_type": "stream",
       "stream": "stdout",
       "text": [
        "<class 'pandas.core.frame.DataFrame'>\n",
        "Int64Index: 2324812 entries, 0 to 2325164\n",
        "Data columns (total 20 columns):\n",
        "orderID           object\n",
        "orderDate         datetime64[ns]\n",
        "articleID         object\n",
        "colorCode         int64\n",
        "sizeCode          object\n",
        "productGroup      float64\n",
        "quantity          int64\n",
        "price             float64\n",
        "rrp               float64\n",
        "voucherID         object\n",
        "voucherAmount     float64\n",
        "customerID        object\n",
        "deviceID          int64\n",
        "paymentMethod     object\n",
        "returnQuantity    int64\n",
        "month             int64\n",
        "season            object\n",
        "priceDiff         float64\n",
        "gpriceDiff        object\n",
        "csizeCode         object\n",
        "dtypes: datetime64[ns](1), float64(5), int64(5), object(9)\n",
        "memory usage: 292.7+ MB\n"
       ]
      }
     ],
     "prompt_number": 13
    },
    {
     "cell_type": "code",
     "collapsed": false,
     "input": [],
     "language": "python",
     "metadata": {},
     "outputs": []
    }
   ],
   "metadata": {}
  }
 ]
}