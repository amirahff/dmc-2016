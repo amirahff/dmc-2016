{
 "cells": [
  {
   "cell_type": "markdown",
   "metadata": {},
   "source": [
    "### Fitur-fitur hasil selesksi RFE\n",
    "\n",
    "[('unit_price', 1),\n",
    " ('median_unit_price', 1),\n",
    " ('price_diff', 1),\n",
    " ('articleID_cumprob', 1),\n",
    " ('arco_prob', 1),\n",
    " ('arsi_prob', 1),\n",
    " ('arpr_prob', 1),\n",
    " ('arcu_prob', 1),\n",
    " ('arde_prob', 1),\n",
    " ('arpa_prob', 1),\n",
    " ('arcopr_prob', 1),\n",
    " ('arsipr_prob', 1),\n",
    " ('arprcu_prob', 1),\n",
    " ('arprde_prob', 1),\n",
    " ('arprpa_prob', 1),\n",
    " ('voucherAmount', 2),\n",
    " ('order_total', 3),\n",
    " ('after_voucher', 4),\n",
    " ('arsicu_prob', 5),\n",
    " ('arcocu_prob', 6),\n",
    " ('quantity', 7),\n",
    " ('arvocu_prob', 8),\n",
    " ('arprvo_prob', 9),\n",
    " ('arvo_prob', 10),\n",
    " ('arcupa_prob', 11),\n",
    " ('arcude_prob', 12),\n",
    " ('cosicu_prob', 13),\n",
    " ('cocu_prob', 14),\n",
    " ('covocu_prob', 15),\n",
    " ('coprcu_prob', 16),\n",
    " ('cocude_prob', 17),\n",
    " ('cocupa_prob', 18),\n",
    " ('depa_prob', 19),\n",
    " ('paymentMethod_cumprob', 20),\n",
    " ('deviceID_cumprob', 21),\n",
    " ('arcosi_prob', 22),\n",
    " ('sicu_prob', 23),\n",
    " ('customerID_cumprob', 24),\n",
    " ('cude_prob', 25),\n",
    " ('sicude_prob', 26),\n",
    " ('productGroup_cumprob', 27),\n",
    " ('cosi_prob', 28)]"
   ]
  },
  {
   "cell_type": "code",
   "execution_count": 1,
   "metadata": {
    "collapsed": false
   },
   "outputs": [],
   "source": [
    "label='returnQuantity'\n",
    "\n",
    "import pandas as pd\n",
    "import numpy as np\n",
    "from sklearn.ensemble import RandomForestRegressor, ExtraTreesRegressor\n",
    "from sklearn.linear_model import LinearRegression, Lasso, Ridge, LogisticRegression\n",
    "from sklearn.cross_validation import train_test_split\n",
    "from sklearn.preprocessing import PolynomialFeatures\n",
    "from sklearn import linear_model\n",
    "from scipy import stats\n",
    "from sklearn.metrics import confusion_matrix\n",
    "from sklearn.preprocessing import LabelEncoder\n",
    "from operator import itemgetter\n",
    "\n",
    "def dmc_error(returnQuantity, prediction):\n",
    "    #∑ |returnQuantity𝑖 − prediction𝑖 |\n",
    "    return np.sum(np.abs( np.subtract(returnQuantity, prediction) ))"
   ]
  },
  {
   "cell_type": "code",
   "execution_count": 2,
   "metadata": {
    "collapsed": true
   },
   "outputs": [],
   "source": [
    "df=pd.read_csv('train_gue5.csv')"
   ]
  },
  {
   "cell_type": "code",
   "execution_count": 3,
   "metadata": {
    "collapsed": true
   },
   "outputs": [],
   "source": [
    "object_columns=df.loc[:, df.dtypes == object].columns\n",
    "df= df.drop(object_columns, axis=1)"
   ]
  },
  {
   "cell_type": "code",
   "execution_count": 4,
   "metadata": {
    "collapsed": true
   },
   "outputs": [],
   "source": [
    "df= df.drop(['colorCode','productGroup'], axis=1)"
   ]
  },
  {
   "cell_type": "code",
   "execution_count": 5,
   "metadata": {
    "collapsed": true
   },
   "outputs": [],
   "source": [
    "df.rrp=df.rrp.fillna(df.rrp.median())"
   ]
  },
  {
   "cell_type": "code",
   "execution_count": 6,
   "metadata": {
    "collapsed": true
   },
   "outputs": [],
   "source": [
    "label='returnQuantity'\n",
    "\n",
    "Xdf=df.drop([label], axis=1)\n",
    "\n",
    "X=Xdf.values\n",
    "y=df.returnQuantity.values"
   ]
  },
  {
   "cell_type": "code",
   "execution_count": 7,
   "metadata": {
    "collapsed": true
   },
   "outputs": [],
   "source": [
    "# Turunin presisi, iseng-iseng aja\n",
    "float_64_columns = df.loc[:, df.dtypes == np.float64].columns\n",
    "for col in float_64_columns:\n",
    "    df[col] = df[col].astype(np.float32)\n",
    "\n",
    "int_64_columns = df.loc[:, df.dtypes == np.int64].columns\n",
    "for col in int_64_columns:\n",
    "    df[col] = df[col].astype(np.int32)"
   ]
  },
  {
   "cell_type": "code",
   "execution_count": 8,
   "metadata": {
    "collapsed": false
   },
   "outputs": [],
   "source": [
    "# from sklearn.feature_selection import RFE\n",
    "# lr=LinearRegression(n_jobs=-1, normalize=True)\n",
    "# selector = RFE(lr, 28, step=1)\n",
    "# selector = selector.fit(X, y)\n",
    "# pair=zip(Xdf.columns, selector.ranking_)\n",
    "# t1=[i for i in pair]; t1\n",
    "# selector = RFE(lr, 5, step=1)\n",
    "# Xrfe = selector.fit_transform(X, y)\n",
    "# arai=sorted(t1, key=itemgetter(1)); arai"
   ]
  },
  {
   "cell_type": "code",
   "execution_count": 9,
   "metadata": {
    "collapsed": true
   },
   "outputs": [],
   "source": [
    "arai=[('unit_price', 1), ('median_unit_price', 1), ('price_diff', 1), ('articleID_cumprob', 1), ('arco_prob', 1), ('arsi_prob', 1), ('arpr_prob', 1), ('arcu_prob', 1), ('arde_prob', 1), ('arpa_prob', 1), ('arcopr_prob', 1), ('arsipr_prob', 1), ('arprcu_prob', 1), ('arprde_prob', 1), ('arprpa_prob', 1), ('voucherAmount', 2), ('order_total', 3), ('after_voucher', 4), ('arsicu_prob', 5), ('arcocu_prob', 6), ('quantity', 7), ('arvocu_prob', 8), ('arprvo_prob', 9), ('arvo_prob', 10), ('arcupa_prob', 11), ('arcude_prob', 12), ('cosicu_prob', 13), ('cocu_prob', 14), ('covocu_prob', 15), ('coprcu_prob', 16), ('cocude_prob', 17), ('cocupa_prob', 18), ('depa_prob', 19), ('paymentMethod_cumprob', 20), ('deviceID_cumprob', 21), ('arcosi_prob', 22), ('sicu_prob', 23), ('customerID_cumprob', 24), ('cude_prob', 25), ('sicude_prob', 26), ('productGroup_cumprob', 27), ('cosi_prob', 28), ('coside_prob', 29), ('prdepa_prob', 30), ('vocu_prob', 31), ('cupa_prob', 32), ('vocupa_prob', 33), ('sivocu_prob', 34), ('prpa_prob', 35), ('voucherID_cumprob', 36), ('prcu_prob', 37), ('prcude_prob', 38), ('vocude_prob', 39), ('cosivo_prob', 40), ('sizeCode_cumprob', 41), ('prvocu_prob', 42), ('cosipa_prob', 43), ('sicupa_prob', 44), ('arcode_prob', 45), ('siprcu_prob', 46), ('sipr_prob', 47), ('sipa_prob', 48), ('sidepa_prob', 49), ('colorCode_cumprob', 50), ('vopa_prob', 51), ('prvo_prob', 52), ('prvopa_prob', 53), ('arside_prob', 54), ('cudepa_prob', 55), ('side_prob', 56), ('siprpa_prob', 57), ('ardepa_prob', 58), ('copr_prob', 59), ('arvode_prob', 60), ('coprvo_prob', 61), ('arcovo_prob', 62), ('codepa_prob', 63), ('coprde_prob', 64), ('prcupa_prob', 65), ('arsivo_prob', 66), ('arsipa_prob', 67), ('copa_prob', 68), ('coprpa_prob', 69), ('siprde_prob', 70), ('arcopa_prob', 71), ('sivopa_prob', 72), ('sivode_prob', 73), ('price', 74), ('vodepa_prob', 75), ('vode_prob', 76), ('arvopa_prob', 77), ('covo_prob', 78), ('cosipr_prob', 79), ('code_prob', 80), ('prvode_prob', 81), ('expense_ratio', 82), ('choice_order', 83), ('covode_prob', 84), ('sivo_prob', 85), ('prde_prob', 86), ('deviceID', 87), ('rrp', 88), ('siprvo_prob', 89), ('covopa_prob', 90), ('order_order', 91), ('customer_budget', 92)]"
   ]
  },
  {
   "cell_type": "code",
   "execution_count": 10,
   "metadata": {
    "collapsed": false
   },
   "outputs": [],
   "source": [
    "#drop fitur yang rank nya > 28\n",
    "#split training-test\n",
    "\n",
    "didrop=[name for name,rank in arai if rank>28]\n",
    "X2=Xdf.drop(didrop, axis=1).values\n",
    "X_train = X2[:-341099]\n",
    "y_train = y[:-341099]\n",
    "X_test = X2[-341099:]\n",
    "y_test = y[-341099:]"
   ]
  },
  {
   "cell_type": "code",
   "execution_count": 11,
   "metadata": {
    "collapsed": false
   },
   "outputs": [
    {
     "name": "stdout",
     "output_type": "stream",
     "text": [
      "[[166097    817      5      0      0      0]\n",
      " [   197 173300     13      0      0      0]\n",
      " [     0    615     15      0      0      0]\n",
      " [     0      1     28      0      0      0]\n",
      " [     0      0      7      0      0      0]\n",
      " [     0      0      3      1      0      0]]\n",
      "1707.0\n"
     ]
    }
   ],
   "source": [
    "lr=LinearRegression(n_jobs=-1, normalize=True)\n",
    "lr.fit(X_train, y_train)\n",
    "y_pred=lr.predict(X_test)\n",
    "y_pred=np.array([round(yp) for yp in y_pred], dtype=np.int8)\n",
    "y_pred[y_pred<0]=0\n",
    "print confusion_matrix(y_test,y_pred)\n",
    "print dmc_error(y_test,y_pred)"
   ]
  },
  {
   "cell_type": "markdown",
   "metadata": {},
   "source": [
    "# 1707\n",
    "\n",
    "```\n",
    "[[166097    817      5      0      0      0]\n",
    " [   197 173300     13      0      0      0]\n",
    " [     0    615     15      0      0      0]\n",
    " [     0      1     28      0      0      0]\n",
    " [     0      0      7      0      0      0]\n",
    " [     0      0      3      1      0      0]]\n",
    "1707.0\n",
    "```"
   ]
  },
  {
   "cell_type": "code",
   "execution_count": 12,
   "metadata": {
    "collapsed": false
   },
   "outputs": [
    {
     "name": "stdout",
     "output_type": "stream",
     "text": [
      "[[166097    817      5      0      0      0]\n",
      " [   197 173300     13      0      0      0]\n",
      " [     0    615     15      0      0      0]\n",
      " [     0      1     28      0      0      0]\n",
      " [     0      0      7      0      0      0]\n",
      " [     0      0      3      1      0      0]]\n",
      "1707.0\n"
     ]
    }
   ],
   "source": [
    "rfr=RandomForestRegressor(n_jobs=-1)\n",
    "rfr.fit(X_train, y_train)\n",
    "y_pred=lr.predict(X_test)\n",
    "y_pred=np.array([round(yp) for yp in y_pred], dtype=np.int8)\n",
    "y_pred[y_pred<0]=0\n",
    "print confusion_matrix(y_test,y_pred)\n",
    "print dmc_error(y_test,y_pred)"
   ]
  },
  {
   "cell_type": "code",
   "execution_count": 13,
   "metadata": {
    "collapsed": false
   },
   "outputs": [
    {
     "name": "stdout",
     "output_type": "stream",
     "text": [
      "[[166784    134      1      0      0      0]\n",
      " [   315 173188      7      0      0      0]\n",
      " [     0     15    615      0      0      0]\n",
      " [     0      0      1     28      0      0]\n",
      " [     0      0      0      1      6      0]\n",
      " [     0      1      0      0      0      3]]\n",
      "479.0\n",
      "jumlah data test:  341099\n"
     ]
    }
   ],
   "source": [
    "etr=ExtraTreesRegressor(n_jobs=-1)\n",
    "etr.fit(X_train, y_train)\n",
    "y_pred=etr.predict(X_test)\n",
    "y_pred=np.array([round(yp) for yp in y_pred], dtype=np.int8)\n",
    "y_pred[y_pred<0]=0\n",
    "print confusion_matrix(y_test,y_pred)\n",
    "print dmc_error(y_test,y_pred)\n",
    "print 'jumlah data test: ', len(y_test)"
   ]
  },
  {
   "cell_type": "code",
   "execution_count": 28,
   "metadata": {
    "collapsed": false
   },
   "outputs": [
    {
     "name": "stderr",
     "output_type": "stream",
     "text": [
      "INFO (theano.gof.compilelock): Refreshing lock C:\\Users\\Lab Komputasi\\AppData\\Local\\Theano\\compiledir_Windows-10-10.0.10586-Intel64_Family_6_Model_94_Stepping_3_GenuineIntel-2.7.11-64\\lock_dir\\lock\n",
      "DEBUG: nvcc STDOUT mod.cu\n",
      "   Creating library C:/Users/Lab Komputasi/AppData/Local/Theano/compiledir_Windows-10-10.0.10586-Intel64_Family_6_Model_94_Stepping_3_GenuineIntel-2.7.11-64/tmpqv5jix/871c51ee977ba1fb8766e4f4db105247.lib and object C:/Users/Lab Komputasi/AppData/Local/Theano/compiledir_Windows-10-10.0.10586-Intel64_Family_6_Model_94_Stepping_3_GenuineIntel-2.7.11-64/tmpqv5jix/871c51ee977ba1fb8766e4f4db105247.exp\n",
      "\n",
      "DEBUG: nvcc STDOUT mod.cu\n",
      "   Creating library C:/Users/Lab Komputasi/AppData/Local/Theano/compiledir_Windows-10-10.0.10586-Intel64_Family_6_Model_94_Stepping_3_GenuineIntel-2.7.11-64/tmpzvybc_/be6fee64e4c58ebeeefa177065293209.lib and object C:/Users/Lab Komputasi/AppData/Local/Theano/compiledir_Windows-10-10.0.10586-Intel64_Family_6_Model_94_Stepping_3_GenuineIntel-2.7.11-64/tmpzvybc_/be6fee64e4c58ebeeefa177065293209.exp\n",
      "\n",
      "DEBUG: nvcc STDOUT mod.cu\n",
      "   Creating library C:/Users/Lab Komputasi/AppData/Local/Theano/compiledir_Windows-10-10.0.10586-Intel64_Family_6_Model_94_Stepping_3_GenuineIntel-2.7.11-64/tmpgdnlmw/a18b77ec1419fb872634e4dcea2b2763.lib and object C:/Users/Lab Komputasi/AppData/Local/Theano/compiledir_Windows-10-10.0.10586-Intel64_Family_6_Model_94_Stepping_3_GenuineIntel-2.7.11-64/tmpgdnlmw/a18b77ec1419fb872634e4dcea2b2763.exp\n",
      "\n",
      "DEBUG: nvcc STDOUT mod.cu\n",
      "   Creating library C:/Users/Lab Komputasi/AppData/Local/Theano/compiledir_Windows-10-10.0.10586-Intel64_Family_6_Model_94_Stepping_3_GenuineIntel-2.7.11-64/tmpsqeu8m/f73aad739c2effb915a60077d4d5cd4b.lib and object C:/Users/Lab Komputasi/AppData/Local/Theano/compiledir_Windows-10-10.0.10586-Intel64_Family_6_Model_94_Stepping_3_GenuineIntel-2.7.11-64/tmpsqeu8m/f73aad739c2effb915a60077d4d5cd4b.exp\n",
      "\n"
     ]
    },
    {
     "name": "stdout",
     "output_type": "stream",
     "text": [
      "Epoch 1/1\n",
      "  78080/1984066 [>.............................] - ETA: 129s - loss: 0.0898"
     ]
    },
    {
     "ename": "ValueError",
     "evalue": "I/O operation on closed file",
     "output_type": "error",
     "traceback": [
      "\u001b[1;31m---------------------------------------------------------------------------\u001b[0m",
      "\u001b[1;31mValueError\u001b[0m                                Traceback (most recent call last)",
      "\u001b[1;32m<ipython-input-28-da4f5e52633e>\u001b[0m in \u001b[0;36m<module>\u001b[1;34m()\u001b[0m\n\u001b[0;32m     10\u001b[0m \u001b[0mmodel\u001b[0m\u001b[1;33m.\u001b[0m\u001b[0mcompile\u001b[0m\u001b[1;33m(\u001b[0m\u001b[0moptimizer\u001b[0m\u001b[1;33m=\u001b[0m\u001b[1;34m'rmsprop'\u001b[0m\u001b[1;33m,\u001b[0m \u001b[0mloss\u001b[0m\u001b[1;33m=\u001b[0m\u001b[1;34m'mae'\u001b[0m\u001b[1;33m)\u001b[0m\u001b[1;33m\u001b[0m\u001b[0m\n\u001b[0;32m     11\u001b[0m \u001b[1;33m\u001b[0m\u001b[0m\n\u001b[1;32m---> 12\u001b[1;33m model.fit(X_train,y_train, nb_epoch=1,#verbose=0\n\u001b[0m\u001b[0;32m     13\u001b[0m          )\n",
      "\u001b[1;32mC:\\Users\\Lab Komputasi\\Anaconda2\\lib\\site-packages\\keras\\models.pyc\u001b[0m in \u001b[0;36mfit\u001b[1;34m(self, x, y, batch_size, nb_epoch, verbose, callbacks, validation_split, validation_data, shuffle, class_weight, sample_weight, **kwargs)\u001b[0m\n\u001b[0;32m    400\u001b[0m                               \u001b[0mshuffle\u001b[0m\u001b[1;33m=\u001b[0m\u001b[0mshuffle\u001b[0m\u001b[1;33m,\u001b[0m\u001b[1;33m\u001b[0m\u001b[0m\n\u001b[0;32m    401\u001b[0m                               \u001b[0mclass_weight\u001b[0m\u001b[1;33m=\u001b[0m\u001b[0mclass_weight\u001b[0m\u001b[1;33m,\u001b[0m\u001b[1;33m\u001b[0m\u001b[0m\n\u001b[1;32m--> 402\u001b[1;33m                               sample_weight=sample_weight)\n\u001b[0m\u001b[0;32m    403\u001b[0m \u001b[1;33m\u001b[0m\u001b[0m\n\u001b[0;32m    404\u001b[0m     def evaluate(self, x, y, batch_size=32, verbose=1,\n",
      "\u001b[1;32mC:\\Users\\Lab Komputasi\\Anaconda2\\lib\\site-packages\\keras\\engine\\training.pyc\u001b[0m in \u001b[0;36mfit\u001b[1;34m(self, x, y, batch_size, nb_epoch, verbose, callbacks, validation_split, validation_data, shuffle, class_weight, sample_weight)\u001b[0m\n\u001b[0;32m   1028\u001b[0m                               \u001b[0mverbose\u001b[0m\u001b[1;33m=\u001b[0m\u001b[0mverbose\u001b[0m\u001b[1;33m,\u001b[0m \u001b[0mcallbacks\u001b[0m\u001b[1;33m=\u001b[0m\u001b[0mcallbacks\u001b[0m\u001b[1;33m,\u001b[0m\u001b[1;33m\u001b[0m\u001b[0m\n\u001b[0;32m   1029\u001b[0m                               \u001b[0mval_f\u001b[0m\u001b[1;33m=\u001b[0m\u001b[0mval_f\u001b[0m\u001b[1;33m,\u001b[0m \u001b[0mval_ins\u001b[0m\u001b[1;33m=\u001b[0m\u001b[0mval_ins\u001b[0m\u001b[1;33m,\u001b[0m \u001b[0mshuffle\u001b[0m\u001b[1;33m=\u001b[0m\u001b[0mshuffle\u001b[0m\u001b[1;33m,\u001b[0m\u001b[1;33m\u001b[0m\u001b[0m\n\u001b[1;32m-> 1030\u001b[1;33m                               callback_metrics=callback_metrics)\n\u001b[0m\u001b[0;32m   1031\u001b[0m \u001b[1;33m\u001b[0m\u001b[0m\n\u001b[0;32m   1032\u001b[0m     \u001b[1;32mdef\u001b[0m \u001b[0mevaluate\u001b[0m\u001b[1;33m(\u001b[0m\u001b[0mself\u001b[0m\u001b[1;33m,\u001b[0m \u001b[0mx\u001b[0m\u001b[1;33m,\u001b[0m \u001b[0my\u001b[0m\u001b[1;33m,\u001b[0m \u001b[0mbatch_size\u001b[0m\u001b[1;33m=\u001b[0m\u001b[1;36m32\u001b[0m\u001b[1;33m,\u001b[0m \u001b[0mverbose\u001b[0m\u001b[1;33m=\u001b[0m\u001b[1;36m1\u001b[0m\u001b[1;33m,\u001b[0m \u001b[0msample_weight\u001b[0m\u001b[1;33m=\u001b[0m\u001b[0mNone\u001b[0m\u001b[1;33m)\u001b[0m\u001b[1;33m:\u001b[0m\u001b[1;33m\u001b[0m\u001b[0m\n",
      "\u001b[1;32mC:\\Users\\Lab Komputasi\\Anaconda2\\lib\\site-packages\\keras\\engine\\training.pyc\u001b[0m in \u001b[0;36m_fit_loop\u001b[1;34m(self, f, ins, out_labels, batch_size, nb_epoch, verbose, callbacks, val_f, val_ins, shuffle, callback_metrics)\u001b[0m\n\u001b[0;32m    772\u001b[0m                     \u001b[0mbatch_logs\u001b[0m\u001b[1;33m[\u001b[0m\u001b[0ml\u001b[0m\u001b[1;33m]\u001b[0m \u001b[1;33m=\u001b[0m \u001b[0mo\u001b[0m\u001b[1;33m\u001b[0m\u001b[0m\n\u001b[0;32m    773\u001b[0m \u001b[1;33m\u001b[0m\u001b[0m\n\u001b[1;32m--> 774\u001b[1;33m                 \u001b[0mcallbacks\u001b[0m\u001b[1;33m.\u001b[0m\u001b[0mon_batch_end\u001b[0m\u001b[1;33m(\u001b[0m\u001b[0mbatch_index\u001b[0m\u001b[1;33m,\u001b[0m \u001b[0mbatch_logs\u001b[0m\u001b[1;33m)\u001b[0m\u001b[1;33m\u001b[0m\u001b[0m\n\u001b[0m\u001b[0;32m    775\u001b[0m \u001b[1;33m\u001b[0m\u001b[0m\n\u001b[0;32m    776\u001b[0m                 \u001b[0mepoch_logs\u001b[0m \u001b[1;33m=\u001b[0m \u001b[1;33m{\u001b[0m\u001b[1;33m}\u001b[0m\u001b[1;33m\u001b[0m\u001b[0m\n",
      "\u001b[1;32mC:\\Users\\Lab Komputasi\\Anaconda2\\lib\\site-packages\\keras\\callbacks.pyc\u001b[0m in \u001b[0;36mon_batch_end\u001b[1;34m(self, batch, logs)\u001b[0m\n\u001b[0;32m     58\u001b[0m         \u001b[0mt_before_callbacks\u001b[0m \u001b[1;33m=\u001b[0m \u001b[0mtime\u001b[0m\u001b[1;33m.\u001b[0m\u001b[0mtime\u001b[0m\u001b[1;33m(\u001b[0m\u001b[1;33m)\u001b[0m\u001b[1;33m\u001b[0m\u001b[0m\n\u001b[0;32m     59\u001b[0m         \u001b[1;32mfor\u001b[0m \u001b[0mcallback\u001b[0m \u001b[1;32min\u001b[0m \u001b[0mself\u001b[0m\u001b[1;33m.\u001b[0m\u001b[0mcallbacks\u001b[0m\u001b[1;33m:\u001b[0m\u001b[1;33m\u001b[0m\u001b[0m\n\u001b[1;32m---> 60\u001b[1;33m             \u001b[0mcallback\u001b[0m\u001b[1;33m.\u001b[0m\u001b[0mon_batch_end\u001b[0m\u001b[1;33m(\u001b[0m\u001b[0mbatch\u001b[0m\u001b[1;33m,\u001b[0m \u001b[0mlogs\u001b[0m\u001b[1;33m)\u001b[0m\u001b[1;33m\u001b[0m\u001b[0m\n\u001b[0m\u001b[0;32m     61\u001b[0m         \u001b[0mself\u001b[0m\u001b[1;33m.\u001b[0m\u001b[0m_delta_ts_batch_end\u001b[0m\u001b[1;33m.\u001b[0m\u001b[0mappend\u001b[0m\u001b[1;33m(\u001b[0m\u001b[0mtime\u001b[0m\u001b[1;33m.\u001b[0m\u001b[0mtime\u001b[0m\u001b[1;33m(\u001b[0m\u001b[1;33m)\u001b[0m \u001b[1;33m-\u001b[0m \u001b[0mt_before_callbacks\u001b[0m\u001b[1;33m)\u001b[0m\u001b[1;33m\u001b[0m\u001b[0m\n\u001b[0;32m     62\u001b[0m         \u001b[0mdelta_t_median\u001b[0m \u001b[1;33m=\u001b[0m \u001b[0mnp\u001b[0m\u001b[1;33m.\u001b[0m\u001b[0mmedian\u001b[0m\u001b[1;33m(\u001b[0m\u001b[0mself\u001b[0m\u001b[1;33m.\u001b[0m\u001b[0m_delta_ts_batch_end\u001b[0m\u001b[1;33m)\u001b[0m\u001b[1;33m\u001b[0m\u001b[0m\n",
      "\u001b[1;32mC:\\Users\\Lab Komputasi\\Anaconda2\\lib\\site-packages\\keras\\callbacks.pyc\u001b[0m in \u001b[0;36mon_batch_end\u001b[1;34m(self, batch, logs)\u001b[0m\n\u001b[0;32m    186\u001b[0m         \u001b[1;31m# will be handled by on_epoch_end\u001b[0m\u001b[1;33m\u001b[0m\u001b[1;33m\u001b[0m\u001b[0m\n\u001b[0;32m    187\u001b[0m         \u001b[1;32mif\u001b[0m \u001b[0mself\u001b[0m\u001b[1;33m.\u001b[0m\u001b[0mverbose\u001b[0m \u001b[1;32mand\u001b[0m \u001b[0mself\u001b[0m\u001b[1;33m.\u001b[0m\u001b[0mseen\u001b[0m \u001b[1;33m<\u001b[0m \u001b[0mself\u001b[0m\u001b[1;33m.\u001b[0m\u001b[0mparams\u001b[0m\u001b[1;33m[\u001b[0m\u001b[1;34m'nb_sample'\u001b[0m\u001b[1;33m]\u001b[0m\u001b[1;33m:\u001b[0m\u001b[1;33m\u001b[0m\u001b[0m\n\u001b[1;32m--> 188\u001b[1;33m             \u001b[0mself\u001b[0m\u001b[1;33m.\u001b[0m\u001b[0mprogbar\u001b[0m\u001b[1;33m.\u001b[0m\u001b[0mupdate\u001b[0m\u001b[1;33m(\u001b[0m\u001b[0mself\u001b[0m\u001b[1;33m.\u001b[0m\u001b[0mseen\u001b[0m\u001b[1;33m,\u001b[0m \u001b[0mself\u001b[0m\u001b[1;33m.\u001b[0m\u001b[0mlog_values\u001b[0m\u001b[1;33m)\u001b[0m\u001b[1;33m\u001b[0m\u001b[0m\n\u001b[0m\u001b[0;32m    189\u001b[0m \u001b[1;33m\u001b[0m\u001b[0m\n\u001b[0;32m    190\u001b[0m     \u001b[1;32mdef\u001b[0m \u001b[0mon_epoch_end\u001b[0m\u001b[1;33m(\u001b[0m\u001b[0mself\u001b[0m\u001b[1;33m,\u001b[0m \u001b[0mepoch\u001b[0m\u001b[1;33m,\u001b[0m \u001b[0mlogs\u001b[0m\u001b[1;33m=\u001b[0m\u001b[1;33m{\u001b[0m\u001b[1;33m}\u001b[0m\u001b[1;33m)\u001b[0m\u001b[1;33m:\u001b[0m\u001b[1;33m\u001b[0m\u001b[0m\n",
      "\u001b[1;32mC:\\Users\\Lab Komputasi\\Anaconda2\\lib\\site-packages\\keras\\utils\\generic_utils.pyc\u001b[0m in \u001b[0;36mupdate\u001b[1;34m(self, current, values)\u001b[0m\n\u001b[0;32m     66\u001b[0m         \u001b[1;32mif\u001b[0m \u001b[0mself\u001b[0m\u001b[1;33m.\u001b[0m\u001b[0mverbose\u001b[0m \u001b[1;33m==\u001b[0m \u001b[1;36m1\u001b[0m\u001b[1;33m:\u001b[0m\u001b[1;33m\u001b[0m\u001b[0m\n\u001b[0;32m     67\u001b[0m             \u001b[0mprev_total_width\u001b[0m \u001b[1;33m=\u001b[0m \u001b[0mself\u001b[0m\u001b[1;33m.\u001b[0m\u001b[0mtotal_width\u001b[0m\u001b[1;33m\u001b[0m\u001b[0m\n\u001b[1;32m---> 68\u001b[1;33m             \u001b[0msys\u001b[0m\u001b[1;33m.\u001b[0m\u001b[0mstdout\u001b[0m\u001b[1;33m.\u001b[0m\u001b[0mwrite\u001b[0m\u001b[1;33m(\u001b[0m\u001b[1;34m\"\\b\"\u001b[0m \u001b[1;33m*\u001b[0m \u001b[0mprev_total_width\u001b[0m\u001b[1;33m)\u001b[0m\u001b[1;33m\u001b[0m\u001b[0m\n\u001b[0m\u001b[0;32m     69\u001b[0m             \u001b[0msys\u001b[0m\u001b[1;33m.\u001b[0m\u001b[0mstdout\u001b[0m\u001b[1;33m.\u001b[0m\u001b[0mwrite\u001b[0m\u001b[1;33m(\u001b[0m\u001b[1;34m\"\\r\"\u001b[0m\u001b[1;33m)\u001b[0m\u001b[1;33m\u001b[0m\u001b[0m\n\u001b[0;32m     70\u001b[0m \u001b[1;33m\u001b[0m\u001b[0m\n",
      "\u001b[1;32mC:\\Users\\Lab Komputasi\\Anaconda2\\lib\\site-packages\\ipykernel\\iostream.pyc\u001b[0m in \u001b[0;36mwrite\u001b[1;34m(self, string)\u001b[0m\n\u001b[0;32m    315\u001b[0m \u001b[1;33m\u001b[0m\u001b[0m\n\u001b[0;32m    316\u001b[0m             \u001b[0mis_child\u001b[0m \u001b[1;33m=\u001b[0m \u001b[1;33m(\u001b[0m\u001b[1;32mnot\u001b[0m \u001b[0mself\u001b[0m\u001b[1;33m.\u001b[0m\u001b[0m_is_master_process\u001b[0m\u001b[1;33m(\u001b[0m\u001b[1;33m)\u001b[0m\u001b[1;33m)\u001b[0m\u001b[1;33m\u001b[0m\u001b[0m\n\u001b[1;32m--> 317\u001b[1;33m             \u001b[0mself\u001b[0m\u001b[1;33m.\u001b[0m\u001b[0m_buffer\u001b[0m\u001b[1;33m.\u001b[0m\u001b[0mwrite\u001b[0m\u001b[1;33m(\u001b[0m\u001b[0mstring\u001b[0m\u001b[1;33m)\u001b[0m\u001b[1;33m\u001b[0m\u001b[0m\n\u001b[0m\u001b[0;32m    318\u001b[0m             \u001b[1;32mif\u001b[0m \u001b[0mis_child\u001b[0m\u001b[1;33m:\u001b[0m\u001b[1;33m\u001b[0m\u001b[0m\n\u001b[0;32m    319\u001b[0m                 \u001b[1;31m# newlines imply flush in subprocesses\u001b[0m\u001b[1;33m\u001b[0m\u001b[1;33m\u001b[0m\u001b[0m\n",
      "\u001b[1;31mValueError\u001b[0m: I/O operation on closed file"
     ]
    }
   ],
   "source": [
    "from keras.models import Sequential\n",
    "from keras.layers.core import Dense, Dropout, Activation\n",
    "\n",
    "model = Sequential([\n",
    "    Dense(42, input_dim=42),\n",
    "    Activation('tanh'),\n",
    "    Dense(1),\n",
    "    #Activation('relu'),\n",
    "])\n",
    "model.compile(optimizer='rmsprop', loss='mae')\n",
    "\n",
    "model.fit(X_train,y_train, nb_epoch=1,#verbose=0\n",
    "         )"
   ]
  },
  {
   "cell_type": "code",
   "execution_count": 21,
   "metadata": {
    "collapsed": false
   },
   "outputs": [
    {
     "data": {
      "text/plain": [
       "(1984066L, 42L)"
      ]
     },
     "execution_count": 21,
     "metadata": {},
     "output_type": "execute_result"
    }
   ],
   "source": [
    "X_train.shape"
   ]
  },
  {
   "cell_type": "code",
   "execution_count": null,
   "metadata": {
    "collapsed": false
   },
   "outputs": [],
   "source": [
    "# logr=LogisticRegression(n_jobs=-1, solver='sag', max_iter=10)\n",
    "# logr.fit(X_train, y_train)\n",
    "# y_pred=etr.predict(X_test)\n",
    "# y_pred=np.array([round(yp) for yp in y_pred], dtype=np.int8)\n",
    "# y_pred[y_pred<0]=0\n",
    "# print confusion_matrix(y_test,y_pred)\n",
    "# print dmc_error(y_test,y_pred)\n",
    "# print 'jumlah data test: ', len(y_test)"
   ]
  },
  {
   "cell_type": "code",
   "execution_count": null,
   "metadata": {
    "collapsed": false
   },
   "outputs": [
    {
     "name": "stdout",
     "output_type": "stream",
     "text": [
      "Traceback (most recent call last):\n",
      "  File \"C:\\Users\\Lab Komputasi\\Anaconda2\\lib\\site-packages\\IPython\\core\\ultratb.py\", line 1118, in get_records\n"
     ]
    }
   ],
   "source": [
    "#Fitur hasil RFE28 dibuat polynomial featuresnya\n",
    "poly = PolynomialFeatures(2)\n",
    "Xpoly = poly.fit_transform(X2).astype(np.float32)"
   ]
  },
  {
   "cell_type": "code",
   "execution_count": null,
   "metadata": {
    "collapsed": true
   },
   "outputs": [],
   "source": [
    "lr=LinearRegression(n_jobs=-1, normalize=True)\n",
    "lr.fit(np.log(X_train+1), np.log(y_train+1))\n",
    "y_pred=np.exp(lr.predict(np.log(X_test)))-1\n",
    "y_pred=np.array([round(yp) for yp in y_pred], dtype=np.int8)\n",
    "y_pred[y_pred<0]=0\n",
    "print confusion_matrix(y_test,y_pred)\n",
    "print dmc_error(y_test,y_pred)"
   ]
  },
  {
   "cell_type": "code",
   "execution_count": 96,
   "metadata": {
    "collapsed": false
   },
   "outputs": [],
   "source": [
    "#df[['articleID_cumprob','colorCode_cumprob','arco_prob']]"
   ]
  },
  {
   "cell_type": "code",
   "execution_count": 23,
   "metadata": {
    "collapsed": true
   },
   "outputs": [],
   "source": [
    "X_train = Xpoly[:-341099]\n",
    "y_train = y[:-341099]\n",
    "X_test = Xpoly[-341099:]\n",
    "y_test = y[-341099:]"
   ]
  },
  {
   "cell_type": "code",
   "execution_count": 24,
   "metadata": {
    "collapsed": false
   },
   "outputs": [
    {
     "name": "stdout",
     "output_type": "stream",
     "text": [
      "[[163451   3468      0      0      0      0]\n",
      " [ 10868 162642      0      0      0      0]\n",
      " [    33    597      0      0      0      0]\n",
      " [     3     26      0      0      0      0]\n",
      " [     0      7      0      0      0      0]\n",
      " [     1      3      0      0      0      0]]\n",
      "15098.0\n"
     ]
    }
   ],
   "source": [
    "lr=LinearRegression(n_jobs=-1, normalize=True)\n",
    "lr.fit(X_train, y_train)\n",
    "y_pred=lr.predict(X_test)\n",
    "y_pred=np.array([round(yp) for yp in y_pred], dtype=np.int8)\n",
    "y_pred[y_pred<0]=0\n",
    "print confusion_matrix(y_test,y_pred)\n",
    "print dmc_error(y_test,y_pred)"
   ]
  },
  {
   "cell_type": "code",
   "execution_count": 22,
   "metadata": {
    "collapsed": true
   },
   "outputs": [],
   "source": [
    "#coba pakai PCA \n",
    "from sklearn.decomposition import PCA\n",
    "\n",
    "pca = PCA(n_components=25)\n",
    "Xpca = pca.fit_transform(X2)"
   ]
  },
  {
   "cell_type": "code",
   "execution_count": 25,
   "metadata": {
    "collapsed": false
   },
   "outputs": [
    {
     "name": "stdout",
     "output_type": "stream",
     "text": [
      "[[165676   1237      6      0      0      0]\n",
      " [   324 173178      8      0      0      0]\n",
      " [     1    615     14      0      0      0]\n",
      " [     0      2     27      0      0      0]\n",
      " [     0      0      7      0      0      0]\n",
      " [     0      0      3      1      0      0]]\n",
      "2254.0\n"
     ]
    }
   ],
   "source": [
    "X_train = Xpca[:-341099]\n",
    "y_train = y[:-341099]\n",
    "X_test = Xpca[-341099:]\n",
    "y_test = y[-341099:]\n",
    "\n",
    "lr=LinearRegression(n_jobs=-1, normalize=True)\n",
    "lr.fit(X_train, y_train)\n",
    "y_pred=lr.predict(X_test)\n",
    "y_pred=np.array([round(yp) for yp in y_pred], dtype=np.int8)\n",
    "y_pred[y_pred<0]=0\n",
    "print confusion_matrix(y_test,y_pred)\n",
    "print dmc_error(y_test,y_pred)\n",
    "\n",
    "# Lebih jelek karena fiturnya sudah diseleksi"
   ]
  },
  {
   "cell_type": "code",
   "execution_count": 97,
   "metadata": {
    "collapsed": true
   },
   "outputs": [],
   "source": [
    "def time_series_validation(n, step):\n",
    "    \"\"\"Cross validation for time-series data.\"\"\"\n",
    "    leap = 50000; k = 800000; h = 314099\n",
    "    indices = np.arange(n)\n",
    "    for i in range(step):\n",
    "        yield indices[:k], indices[k:k+h]\n",
    "        k += leap"
   ]
  },
  {
   "cell_type": "code",
   "execution_count": 99,
   "metadata": {
    "collapsed": true
   },
   "outputs": [],
   "source": [
    "def validation(X,y):\n",
    "    \"\"\"Local Cross Validation.\n",
    "    \"\"\"\n",
    "    X_train= X\n",
    "    y_train= y\n",
    "    regress = LinearRegression(n_jobs=-1, normalize=True)\n",
    "\n",
    "    print(\" --- Start local evaluation.\")\n",
    "    tsv = time_series_validation(X_train.shape[0], 20)\n",
    "    i=1; scores = []\n",
    "    for train, test in tsv:\n",
    "        size = test.shape[0]\n",
    "\n",
    "        regress.fit(X_train[train], y_train[train])\n",
    "        y_pred = regress.predict(X_train[test])\n",
    "        y_pred = np.array([round(yp) for yp in y_pred], dtype=np.int8)\n",
    "        y_pred[y_pred < 0] = 0\n",
    "\n",
    "        y_true = y_train[test]\n",
    "        \n",
    "        score = dmc_error(y_true, y_pred)\n",
    "\n",
    "        print(\" ---- Score of #{0} : {1:.5f}\".format(i, score))\n",
    "        i += 1\n",
    "        scores.append(score)\n",
    "\n",
    "    print(\" --- Finished local evaluation.\")\n",
    "    quantiles = stats.mstats.mquantiles(scores)\n",
    "    print(\" --- Score Results:\")\n",
    "    print(\" - min: {:.5f}\".format(np.min(scores)))\n",
    "    print(\" - 25%: {:.5f}\".format(quantiles[0]))\n",
    "    print(\" - median: {:.5f}\".format(np.median(scores)))\n",
    "    print(\" - 75%: {:.5f}\".format(quantiles[2]))\n",
    "    print(\" - max: {:.5f}\".format(np.max(scores)))\n",
    "    print(\" - mean: {0:.5f} (+/-{1:.5f})\".format(np.mean(scores), stats.sem(scores)))"
   ]
  },
  {
   "cell_type": "code",
   "execution_count": 100,
   "metadata": {
    "collapsed": false
   },
   "outputs": [
    {
     "name": "stdout",
     "output_type": "stream",
     "text": [
      " --- Start local evaluation.\n",
      " ---- Score of #1 : 1209.00000\n",
      " ---- Score of #2 : 1172.00000\n",
      " ---- Score of #3 : 1152.00000\n",
      " ---- Score of #4 : 1129.00000\n",
      " ---- Score of #5 : 1182.00000\n",
      " ---- Score of #6 : 1190.00000\n",
      " ---- Score of #7 : 1198.00000\n",
      " ---- Score of #8 : 1195.00000\n",
      " ---- Score of #9 : 1184.00000\n",
      " ---- Score of #10 : 1164.00000\n",
      " ---- Score of #11 : 1149.00000\n",
      " ---- Score of #12 : 1213.00000\n",
      " ---- Score of #13 : 1219.00000\n",
      " ---- Score of #14 : 1253.00000\n",
      " ---- Score of #15 : 1302.00000\n",
      " ---- Score of #16 : 1273.00000\n",
      " ---- Score of #17 : 1301.00000\n",
      " ---- Score of #18 : 1268.00000\n",
      " ---- Score of #19 : 1319.00000\n",
      " ---- Score of #20 : 1314.00000\n",
      " --- Finished local evaluation.\n",
      " --- Score Results:\n",
      " - min: 1129.00000\n",
      " - 25%: 1176.50000\n",
      " - median: 1203.50000\n",
      " - 75%: 1270.75000\n",
      " - max: 1319.00000\n",
      " - mean: 1219.30000 (+/-13.22082)\n"
     ]
    }
   ],
   "source": [
    "validation(X2.values,y)"
   ]
  },
  {
   "cell_type": "markdown",
   "metadata": {},
   "source": [
    "[('unit_price', 1),\n",
    " ('median_unit_price', 1),\n",
    " ('price_diff', 1),\n",
    " ('articleID_cumprob', 1),\n",
    " ('arco_prob', 1),\n",
    " ('arsi_prob', 1),\n",
    " ('arpr_prob', 1),\n",
    " ('arcu_prob', 1),\n",
    " ('arde_prob', 1),\n",
    " ('arpa_prob', 1),\n",
    " ('arcopr_prob', 1),\n",
    " ('arsipr_prob', 1),\n",
    " ('arprcu_prob', 1),\n",
    " ('arprde_prob', 1),\n",
    " ('arprpa_prob', 1),\n",
    " ('voucherAmount', 2),\n",
    " ('order_total', 3),\n",
    " ('after_voucher', 4),\n",
    " ('arsicu_prob', 5),\n",
    " ('arcocu_prob', 6),\n",
    " ('quantity', 7),\n",
    " ('arvocu_prob', 8),\n",
    " ('arprvo_prob', 9),\n",
    " ('arvo_prob', 10),\n",
    " ('arcupa_prob', 11),\n",
    " ('arcude_prob', 12),\n",
    " ('cosicu_prob', 13),\n",
    " ('cocu_prob', 14),\n",
    " ('covocu_prob', 15),\n",
    " ('coprcu_prob', 16),\n",
    " ('cocude_prob', 17),\n",
    " ('cocupa_prob', 18),\n",
    " ('depa_prob', 19),\n",
    " ('paymentMethod_cumprob', 20),\n",
    " ('deviceID_cumprob', 21),\n",
    " ('arcosi_prob', 22),\n",
    " ('sicu_prob', 23),\n",
    " ('customerID_cumprob', 24),\n",
    " ('cude_prob', 25),\n",
    " ('sicude_prob', 26),\n",
    " ('productGroup_cumprob', 27),\n",
    " ('cosi_prob', 28),\n",
    " ('coside_prob', 29),\n",
    " ('prdepa_prob', 30),\n",
    " ('vocu_prob', 31),\n",
    " ('cupa_prob', 32),\n",
    " ('vocupa_prob', 33),\n",
    " ('sivocu_prob', 34),\n",
    " ('prpa_prob', 35),\n",
    " ('voucherID_cumprob', 36),\n",
    " ('prcu_prob', 37),\n",
    " ('prcude_prob', 38),\n",
    " ('vocude_prob', 39),\n",
    " ('cosivo_prob', 40),\n",
    " ('sizeCode_cumprob', 41),\n",
    " ('prvocu_prob', 42),\n",
    " ('cosipa_prob', 43),\n",
    " ('sicupa_prob', 44),\n",
    " ('arcode_prob', 45),\n",
    " ('siprcu_prob', 46),\n",
    " ('sipr_prob', 47),\n",
    " ('sipa_prob', 48),\n",
    " ('sidepa_prob', 49),\n",
    " ('colorCode_cumprob', 50),\n",
    " ('vopa_prob', 51),\n",
    " ('prvo_prob', 52),\n",
    " ('prvopa_prob', 53),\n",
    " ('arside_prob', 54),\n",
    " ('cudepa_prob', 55),\n",
    " ('side_prob', 56),\n",
    " ('siprpa_prob', 57),\n",
    " ('ardepa_prob', 58),\n",
    " ('copr_prob', 59),\n",
    " ('arvode_prob', 60),\n",
    " ('coprvo_prob', 61),\n",
    " ('arcovo_prob', 62),\n",
    " ('codepa_prob', 63),\n",
    " ('coprde_prob', 64),\n",
    " ('prcupa_prob', 65),\n",
    " ('arsivo_prob', 66),\n",
    " ('arsipa_prob', 67),\n",
    " ('copa_prob', 68),\n",
    " ('coprpa_prob', 69),\n",
    " ('siprde_prob', 70),\n",
    " ('arcopa_prob', 71),\n",
    " ('sivopa_prob', 72),\n",
    " ('sivode_prob', 73),\n",
    " ('price', 74),\n",
    " ('vodepa_prob', 75),\n",
    " ('vode_prob', 76),\n",
    " ('arvopa_prob', 77),\n",
    " ('covo_prob', 78),\n",
    " ('cosipr_prob', 79),\n",
    " ('code_prob', 80),\n",
    " ('prvode_prob', 81),\n",
    " ('expense_ratio', 82),\n",
    " ('choice_order', 83),\n",
    " ('covode_prob', 84),\n",
    " ('sivo_prob', 85),\n",
    " ('prde_prob', 86),\n",
    " ('deviceID', 87),\n",
    " ('rrp', 88),\n",
    " ('siprvo_prob', 89),\n",
    " ('covopa_prob', 90),\n",
    " ('order_order', 91),\n",
    " ('customer_budget', 92)]"
   ]
  }
 ],
 "metadata": {
  "kernelspec": {
   "display_name": "Python 2",
   "language": "python",
   "name": "python2"
  },
  "language_info": {
   "codemirror_mode": {
    "name": "ipython",
    "version": 2
   },
   "file_extension": ".py",
   "mimetype": "text/x-python",
   "name": "python",
   "nbconvert_exporter": "python",
   "pygments_lexer": "ipython2",
   "version": "2.7.11"
  }
 },
 "nbformat": 4,
 "nbformat_minor": 0
}
