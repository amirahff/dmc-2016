{
 "cells": [
  {
   "cell_type": "markdown",
   "metadata": {},
   "source": [
    "## Notebook rilut"
   ]
  },
  {
   "cell_type": "code",
   "execution_count": 1,
   "metadata": {
    "collapsed": false
   },
   "outputs": [],
   "source": [
    "from __future__ import division\n",
    "\n",
    "label='returnQuantity'\n",
    "\n",
    "import pandas as pd\n",
    "import numpy as np\n",
    "from sklearn.ensemble import RandomForestRegressor\n",
    "from sklearn.linear_model import LinearRegression\n",
    "from sklearn.cross_validation import train_test_split\n",
    "from sklearn.metrics import confusion_matrix\n",
    "%matplotlib inline\n",
    "from sklearn.preprocessing import LabelEncoder\n",
    "from operator import itemgetter\n",
    "#from sklearn.externals import joblib\n",
    "\n",
    "def dmc_error(returnQuantity, prediction):\n",
    "    #∑ |returnQuantity𝑖 − prediction𝑖 |\n",
    "    return np.sum(np.abs( np.subtract(returnQuantity, prediction) ))\n",
    "\n",
    "def feature_importances(Xdf, rfc):\n",
    "    pair=zip(Xdf.columns, rfc.feature_importances_)\n",
    "    t1=[i for i in pair]; t1\n",
    "    return sorted(t1, key=itemgetter(1))"
   ]
  },
  {
   "cell_type": "code",
   "execution_count": 19,
   "metadata": {
    "collapsed": false
   },
   "outputs": [
    {
     "data": {
      "text/html": [
       "<div>\n",
       "<table border=\"1\" class=\"dataframe\">\n",
       "  <thead>\n",
       "    <tr style=\"text-align: right;\">\n",
       "      <th></th>\n",
       "      <th>customerID</th>\n",
       "      <th>orderID</th>\n",
       "      <th>orderDate</th>\n",
       "      <th>articleID</th>\n",
       "      <th>colorCode</th>\n",
       "      <th>sizeCode</th>\n",
       "      <th>productGroup</th>\n",
       "      <th>quantity</th>\n",
       "      <th>price</th>\n",
       "      <th>rrp</th>\n",
       "      <th>...</th>\n",
       "      <th>total_order</th>\n",
       "      <th>budget</th>\n",
       "      <th>articleID_prob</th>\n",
       "      <th>colorCode_prob</th>\n",
       "      <th>customerID_prob</th>\n",
       "      <th>sizeCode_prob</th>\n",
       "      <th>paymentMethod_prob</th>\n",
       "      <th>after_voucher</th>\n",
       "      <th>order_order</th>\n",
       "      <th>choice_order</th>\n",
       "    </tr>\n",
       "  </thead>\n",
       "  <tbody>\n",
       "    <tr>\n",
       "      <th>0</th>\n",
       "      <td>c1000001</td>\n",
       "      <td>a1001465</td>\n",
       "      <td>2014-01-03</td>\n",
       "      <td>i1003077</td>\n",
       "      <td>3999</td>\n",
       "      <td>I</td>\n",
       "      <td>17.0</td>\n",
       "      <td>1</td>\n",
       "      <td>27.984375</td>\n",
       "      <td>27.984375</td>\n",
       "      <td>...</td>\n",
       "      <td>27.984375</td>\n",
       "      <td>69.625</td>\n",
       "      <td>0.509766</td>\n",
       "      <td>0.510254</td>\n",
       "      <td>0.478516</td>\n",
       "      <td>0.374268</td>\n",
       "      <td>0.560547</td>\n",
       "      <td>27.984375</td>\n",
       "      <td>0</td>\n",
       "      <td>0</td>\n",
       "    </tr>\n",
       "    <tr>\n",
       "      <th>1</th>\n",
       "      <td>c1000001</td>\n",
       "      <td>a1004977</td>\n",
       "      <td>2014-01-07</td>\n",
       "      <td>i1003082</td>\n",
       "      <td>1999</td>\n",
       "      <td>I</td>\n",
       "      <td>17.0</td>\n",
       "      <td>1</td>\n",
       "      <td>25.984375</td>\n",
       "      <td>25.984375</td>\n",
       "      <td>...</td>\n",
       "      <td>25.984375</td>\n",
       "      <td>69.625</td>\n",
       "      <td>0.427734</td>\n",
       "      <td>0.522461</td>\n",
       "      <td>0.478516</td>\n",
       "      <td>0.374268</td>\n",
       "      <td>0.560547</td>\n",
       "      <td>25.984375</td>\n",
       "      <td>1</td>\n",
       "      <td>0</td>\n",
       "    </tr>\n",
       "    <tr>\n",
       "      <th>2</th>\n",
       "      <td>c1000001</td>\n",
       "      <td>a1012517</td>\n",
       "      <td>2014-01-15</td>\n",
       "      <td>i1001229</td>\n",
       "      <td>1993</td>\n",
       "      <td>38</td>\n",
       "      <td>4.0</td>\n",
       "      <td>1</td>\n",
       "      <td>40.000000</td>\n",
       "      <td>40.000000</td>\n",
       "      <td>...</td>\n",
       "      <td>40.000000</td>\n",
       "      <td>69.625</td>\n",
       "      <td>0.473145</td>\n",
       "      <td>0.471680</td>\n",
       "      <td>0.478516</td>\n",
       "      <td>0.535645</td>\n",
       "      <td>0.560547</td>\n",
       "      <td>40.000000</td>\n",
       "      <td>2</td>\n",
       "      <td>0</td>\n",
       "    </tr>\n",
       "    <tr>\n",
       "      <th>3</th>\n",
       "      <td>c1000001</td>\n",
       "      <td>a1013536</td>\n",
       "      <td>2014-01-16</td>\n",
       "      <td>i1002531</td>\n",
       "      <td>1995</td>\n",
       "      <td>38</td>\n",
       "      <td>15.0</td>\n",
       "      <td>1</td>\n",
       "      <td>60.000000</td>\n",
       "      <td>60.000000</td>\n",
       "      <td>...</td>\n",
       "      <td>120.000000</td>\n",
       "      <td>69.625</td>\n",
       "      <td>0.502930</td>\n",
       "      <td>0.541992</td>\n",
       "      <td>0.478516</td>\n",
       "      <td>0.535645</td>\n",
       "      <td>0.560547</td>\n",
       "      <td>120.000000</td>\n",
       "      <td>3</td>\n",
       "      <td>0</td>\n",
       "    </tr>\n",
       "    <tr>\n",
       "      <th>4</th>\n",
       "      <td>c1000001</td>\n",
       "      <td>a1013536</td>\n",
       "      <td>2014-01-16</td>\n",
       "      <td>i1002531</td>\n",
       "      <td>1999</td>\n",
       "      <td>40</td>\n",
       "      <td>15.0</td>\n",
       "      <td>1</td>\n",
       "      <td>60.000000</td>\n",
       "      <td>60.000000</td>\n",
       "      <td>...</td>\n",
       "      <td>120.000000</td>\n",
       "      <td>69.625</td>\n",
       "      <td>0.502930</td>\n",
       "      <td>0.522461</td>\n",
       "      <td>0.478516</td>\n",
       "      <td>0.529297</td>\n",
       "      <td>0.560547</td>\n",
       "      <td>120.000000</td>\n",
       "      <td>4</td>\n",
       "      <td>1</td>\n",
       "    </tr>\n",
       "  </tbody>\n",
       "</table>\n",
       "<p>5 rows × 26 columns</p>\n",
       "</div>"
      ],
      "text/plain": [
       "  customerID   orderID   orderDate articleID  colorCode sizeCode  \\\n",
       "0   c1000001  a1001465  2014-01-03  i1003077       3999        I   \n",
       "1   c1000001  a1004977  2014-01-07  i1003082       1999        I   \n",
       "2   c1000001  a1012517  2014-01-15  i1001229       1993       38   \n",
       "3   c1000001  a1013536  2014-01-16  i1002531       1995       38   \n",
       "4   c1000001  a1013536  2014-01-16  i1002531       1999       40   \n",
       "\n",
       "   productGroup  quantity      price        rrp      ...      total_order  \\\n",
       "0          17.0         1  27.984375  27.984375      ...        27.984375   \n",
       "1          17.0         1  25.984375  25.984375      ...        25.984375   \n",
       "2           4.0         1  40.000000  40.000000      ...        40.000000   \n",
       "3          15.0         1  60.000000  60.000000      ...       120.000000   \n",
       "4          15.0         1  60.000000  60.000000      ...       120.000000   \n",
       "\n",
       "   budget articleID_prob  colorCode_prob customerID_prob  sizeCode_prob  \\\n",
       "0  69.625       0.509766        0.510254        0.478516       0.374268   \n",
       "1  69.625       0.427734        0.522461        0.478516       0.374268   \n",
       "2  69.625       0.473145        0.471680        0.478516       0.535645   \n",
       "3  69.625       0.502930        0.541992        0.478516       0.535645   \n",
       "4  69.625       0.502930        0.522461        0.478516       0.529297   \n",
       "\n",
       "   paymentMethod_prob  after_voucher  order_order  choice_order  \n",
       "0            0.560547      27.984375            0             0  \n",
       "1            0.560547      25.984375            1             0  \n",
       "2            0.560547      40.000000            2             0  \n",
       "3            0.560547     120.000000            3             0  \n",
       "4            0.560547     120.000000            4             1  \n",
       "\n",
       "[5 rows x 26 columns]"
      ]
     },
     "execution_count": 19,
     "metadata": {},
     "output_type": "execute_result"
    }
   ],
   "source": [
    "# Pakai make_datasets_train_only. Buat sendiri juga boleh\n",
    "\n",
    "df=pd.read_csv('train_gue.csv')\n",
    "\n",
    "if 'deviceID' in df.columns:\n",
    "    del df['deviceID']\n",
    "\n",
    "df.head()"
   ]
  },
  {
   "cell_type": "code",
   "execution_count": 22,
   "metadata": {
    "collapsed": false
   },
   "outputs": [],
   "source": [
    "column='ac'\n",
    "columns=['articleID','colorCode']\n",
    "df2 = df[['articleID','colorCode','returnQuantity','quantity']]\n",
    "df_return_probability = df2.groupby(columns).sum()\n",
    "df_return_probability[ 'ac' + '_prob' ]  = df_return_probability.returnQuantity / df_return_probability.quantity\n",
    "ac_prob_dict=df_return_probability.ac_prob.to_dict()\n",
    "df['ac_prob']=df[['articleID','colorCode']].apply(tuple, axis=1).apply(ac_prob_dict.get).replace(np.nan, 0.5).replace(np.inf, 0.5)"
   ]
  },
  {
   "cell_type": "code",
   "execution_count": 23,
   "metadata": {
    "collapsed": false
   },
   "outputs": [],
   "source": [
    "column='as'\n",
    "columns=['articleID','sizeCode']\n",
    "df2 = df[['articleID','sizeCode','returnQuantity','quantity']]\n",
    "df_return_probability = df2.groupby(columns).sum()\n",
    "df_return_probability[ 'as' + '_prob' ]  = df_return_probability.returnQuantity / df_return_probability.quantity\n",
    "as_prob_dict=df_return_probability.as_prob.to_dict()\n",
    "df['as_prob']=df[['articleID','colorCode']].apply(tuple, axis=1).apply(ac_prob_dict.get).replace(np.nan, 0.5).replace(np.inf, 0.5)"
   ]
  },
  {
   "cell_type": "code",
   "execution_count": 6,
   "metadata": {
    "collapsed": true
   },
   "outputs": [],
   "source": [
    "# Tambah metodemu di sini atau terserah di manapun!\n",
    "\n",
    "# metodemu"
   ]
  },
  {
   "cell_type": "code",
   "execution_count": 25,
   "metadata": {
    "collapsed": false,
    "scrolled": true
   },
   "outputs": [
    {
     "name": "stdout",
     "output_type": "stream",
     "text": [
      "Konversi kategori/object ke angka (ordinal):\n",
      "customerID\n",
      "orderID\n",
      "orderDate\n",
      "articleID\n",
      "sizeCode\n",
      "voucherID\n",
      "paymentMethod\n",
      "mmdd\n"
     ]
    }
   ],
   "source": [
    "#Konversi kategori/object ke numerik\n",
    "print \"Konversi kategori/object ke angka (ordinal):\"\n",
    "\n",
    "#Cari kolom yang tipenya object, bukan integer maupun float\n",
    "object_columns=df.loc[:, df.dtypes == object].columns\n",
    "\n",
    "for col in object_columns:\n",
    "    print col\n",
    "    le=LabelEncoder()\n",
    "    # Konversi deh\n",
    "    df[col]=le.fit_transform(df[col])\n",
    "    \n",
    "if 'orderID' in df.columns:\n",
    "    del df['orderID']"
   ]
  },
  {
   "cell_type": "code",
   "execution_count": 27,
   "metadata": {
    "collapsed": false
   },
   "outputs": [],
   "source": [
    "# Presisi float dan int ga usah tinggi-tinggi amat\n",
    "\n",
    "float_64_columns = df.loc[:, df.dtypes == np.float64].columns\n",
    "for col in float_64_columns:\n",
    "    df[col] = df[col].astype(np.float32)\n",
    "\n",
    "int_64_columns = df.loc[:, df.dtypes == np.int64].columns\n",
    "for col in int_64_columns:\n",
    "    df[col] = df[col].astype(np.int32)\n",
    "    \n",
    "df.price=df.price.astype(np.int8)\n",
    "#df.budget=df.budget.astype(np.int8)\n",
    "#df.after_voucher=df.after_voucher.astype(np.int8)\n",
    "\n",
    "# Fill NaN: Cara impute terserah!\n",
    "# Aku sendiri nggak drop row, karena takut probabilitasnya jadi berubah. Tapi bebas kok selama hasilnya lebih baik\n",
    "\n",
    "df.rrp.fillna(df.rrp.median(), inplace=True)\n",
    "df['voucherID'].fillna(-1, inplace=True)\n",
    "df.productGroup.fillna(-1, inplace=True)\n",
    "df.rrp=df.rrp.astype(np.int8)\n",
    "\n",
    "\n",
    "Xdf=df.drop([label, \"colorCode\"], axis=1)\n",
    "\n",
    "X=Xdf.values\n",
    "y=df.returnQuantity.values\n",
    "\n",
    "X_train, X_test, y_train, y_test = train_test_split(X, y, test_size=0.15, random_state=42)"
   ]
  },
  {
   "cell_type": "code",
   "execution_count": 28,
   "metadata": {
    "collapsed": false
   },
   "outputs": [
    {
     "data": {
      "text/plain": [
       "LinearRegression(copy_X=True, fit_intercept=True, n_jobs=-1, normalize=True)"
      ]
     },
     "execution_count": 28,
     "metadata": {},
     "output_type": "execute_result"
    }
   ],
   "source": [
    "model=LinearRegression(n_jobs=-1, normalize=True)\n",
    "model.fit(X_train, y_train)"
   ]
  },
  {
   "cell_type": "code",
   "execution_count": 29,
   "metadata": {
    "collapsed": false
   },
   "outputs": [
    {
     "name": "stdout",
     "output_type": "stream",
     "text": [
      "[[117171  50569     34      0      0      0]\n",
      " [ 31904 148465     11      0      0      0]\n",
      " [     5    564     17      0      0      0]\n",
      " [     0     15     10      0      0      0]\n",
      " [     0      0      5      0      0      0]\n",
      " [     0      0      5      0      0      0]]\n",
      "83191\n"
     ]
    }
   ],
   "source": [
    "y_pred=model.predict(X_test)\n",
    "y_pred=np.array([round(yp) for yp in y_pred], dtype=np.int8)\n",
    "y_pred[y_pred<0]=0\n",
    "print confusion_matrix(y_test,y_pred)\n",
    "print dmc_error(y_test,y_pred)"
   ]
  },
  {
   "cell_type": "markdown",
   "metadata": {},
   "source": [
    "# 83191"
   ]
  },
  {
   "cell_type": "code",
   "execution_count": 40,
   "metadata": {
    "collapsed": false
   },
   "outputs": [
    {
     "name": "stdout",
     "output_type": "stream",
     "text": [
      "[[113009  54733     32      0      0      0]\n",
      " [ 35595 144681     98      4      2      0]\n",
      " [    30    349    205      2      0      0]\n",
      " [     1     10      9      4      1      0]\n",
      " [     1      3      0      0      0      1]\n",
      " [     0      2      2      1      0      0]]\n",
      "90978\n"
     ]
    }
   ],
   "source": [
    "rfr=RandomForestRegressor(20, n_jobs=3)\n",
    "rfr.fit(X_train, y_train)\n",
    "y_pred_rfr=rfr.predict(X_test)\n",
    "y_pred_rfr=np.array([round(yp) for yp in y_pred_rfr], dtype=np.int8)\n",
    "y_pred_rfr[y_pred_rfr<0]=0\n",
    "print confusion_matrix(y_test,y_pred_rfr)\n",
    "print dmc_error(y_test,y_pred_rfr)"
   ]
  },
  {
   "cell_type": "code",
   "execution_count": 41,
   "metadata": {
    "collapsed": false
   },
   "outputs": [
    {
     "data": {
      "text/plain": [
       "[('voucherAmount', 0.0047844899661131993),\n",
       " ('paymentMethod_prob', 0.0067785851992741954),\n",
       " ('paymentMethod', 0.0068497985329638647),\n",
       " ('productGroup', 0.0077699268148344759),\n",
       " ('months', 0.0081673584800115266),\n",
       " ('voucherID', 0.010404496257382431),\n",
       " ('rrp', 0.01462534207005764),\n",
       " ('sizeCode', 0.01851040797543501),\n",
       " ('sizeCode_prob', 0.018637639891351698),\n",
       " ('price', 0.023485303450909777),\n",
       " ('choice_order', 0.024089116825616042),\n",
       " ('quantity', 0.026324213662831043),\n",
       " ('after_voucher', 0.031319850491679693),\n",
       " ('total_order', 0.031492318102909679),\n",
       " ('articleID', 0.036097754602072415),\n",
       " ('colorCode_prob', 0.036726653983334995),\n",
       " ('mmdd', 0.037155770396917628),\n",
       " ('orderDate', 0.037822760120176428),\n",
       " ('articleID_prob', 0.038965204935634566),\n",
       " ('ac_prob', 0.041011905322619648),\n",
       " ('order_order', 0.043129106127019548),\n",
       " ('as_prob', 0.048022345383127302),\n",
       " ('customerID', 0.049500284371058023),\n",
       " ('budget', 0.053221500172878466),\n",
       " ('customerID_prob', 0.34510786686379075)]"
      ]
     },
     "execution_count": 41,
     "metadata": {},
     "output_type": "execute_result"
    }
   ],
   "source": [
    "feature_importances(Xdf, rfr)"
   ]
  },
  {
   "cell_type": "code",
   "execution_count": 38,
   "metadata": {
    "collapsed": false
   },
   "outputs": [
    {
     "name": "stdout",
     "output_type": "stream",
     "text": [
      "[[117475  50279     20      0      0      0]\n",
      " [ 31835 148530     15      0      0      0]\n",
      " [     8    544     34      0      0      0]\n",
      " [     0     14     11      0      0      0]\n",
      " [     0      2      2      1      0      0]\n",
      " [     0      0      5      0      0      0]]\n",
      "82794\n"
     ]
    }
   ],
   "source": [
    "y_pred_ens=(1*rfr.predict(X_test) + 9*model.predict(X_test))/10\n",
    "y_pred_ens=np.array([round(yp) for yp in y_pred_ens], dtype=np.int8)\n",
    "y_pred_ens[y_pred_ens<0]=0\n",
    "print confusion_matrix(y_test,y_pred_ens)\n",
    "print dmc_error(y_test,y_pred_ens)"
   ]
  },
  {
   "cell_type": "markdown",
   "metadata": {},
   "source": [
    "```\n",
    "\n",
    "```"
   ]
  }
 ],
 "metadata": {
  "kernelspec": {
   "display_name": "Python 2",
   "language": "python",
   "name": "python2"
  },
  "language_info": {
   "codemirror_mode": {
    "name": "ipython",
    "version": 2
   },
   "file_extension": ".py",
   "mimetype": "text/x-python",
   "name": "python",
   "nbconvert_exporter": "python",
   "pygments_lexer": "ipython2",
   "version": "2.7.11"
  }
 },
 "nbformat": 4,
 "nbformat_minor": 0
}
