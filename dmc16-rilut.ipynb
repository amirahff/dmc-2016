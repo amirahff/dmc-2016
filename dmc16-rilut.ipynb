{
 "cells": [
  {
   "cell_type": "markdown",
   "metadata": {},
   "source": [
    "## Notebook rilut\n",
    "\n",
    "bikin jelek: colorCode, total_spent, productGroup (kalau di-impute paksa dengan 0)\n",
    "\n",
    "rrp: missing values"
   ]
  },
  {
   "cell_type": "code",
   "execution_count": 1,
   "metadata": {
    "collapsed": false
   },
   "outputs": [],
   "source": [
    "from __future__ import division\n",
    "\n",
    "label='returnQuantity'\n",
    "\n",
    "import pandas as pd\n",
    "import numpy as np\n",
    "from sklearn.ensemble import RandomForestRegressor\n",
    "from sklearn.linear_model import LinearRegression\n",
    "from sklearn.cross_validation import train_test_split\n",
    "from sklearn.metrics import confusion_matrix\n",
    "%matplotlib inline\n",
    "from sklearn.preprocessing import LabelEncoder\n",
    "from operator import itemgetter\n",
    "#from sklearn.externals import joblib\n",
    "\n",
    "def dmc_error(returnQuantity, prediction):\n",
    "    #∑ |returnQuantity𝑖 − prediction𝑖 |\n",
    "    return np.sum(np.abs( np.subtract(returnQuantity, prediction) ))\n",
    "\n",
    "def feature_importances(Xdf, rf_model):\n",
    "    pair=zip(Xdf.columns, rf_model.feature_importances_)\n",
    "    t1=[i for i in pair]; t1\n",
    "    return sorted(t1, key=itemgetter(1))"
   ]
  },
  {
   "cell_type": "code",
   "execution_count": 2,
   "metadata": {
    "collapsed": false
   },
   "outputs": [
    {
     "data": {
      "text/html": [
       "<div>\n",
       "<table border=\"1\" class=\"dataframe\">\n",
       "  <thead>\n",
       "    <tr style=\"text-align: right;\">\n",
       "      <th></th>\n",
       "      <th>orderID</th>\n",
       "      <th>orderDate</th>\n",
       "      <th>articleID</th>\n",
       "      <th>colorCode</th>\n",
       "      <th>sizeCode</th>\n",
       "      <th>productGroup</th>\n",
       "      <th>quantity</th>\n",
       "      <th>price</th>\n",
       "      <th>rrp</th>\n",
       "      <th>voucherAmount</th>\n",
       "      <th>...</th>\n",
       "      <th>customer_budget</th>\n",
       "      <th>after_voucher</th>\n",
       "      <th>order_order</th>\n",
       "      <th>choice_order</th>\n",
       "      <th>articleID_prob</th>\n",
       "      <th>colorCode_prob</th>\n",
       "      <th>customerID_prob</th>\n",
       "      <th>sizeCode_prob</th>\n",
       "      <th>ac_prob</th>\n",
       "      <th>as_prob</th>\n",
       "    </tr>\n",
       "  </thead>\n",
       "  <tbody>\n",
       "    <tr>\n",
       "      <th>0</th>\n",
       "      <td>a1000001</td>\n",
       "      <td>2014-01-01</td>\n",
       "      <td>i1000382</td>\n",
       "      <td>1972</td>\n",
       "      <td>44</td>\n",
       "      <td>3.0</td>\n",
       "      <td>1</td>\n",
       "      <td>10.0</td>\n",
       "      <td>29.984375</td>\n",
       "      <td>0.0</td>\n",
       "      <td>...</td>\n",
       "      <td>28.500000</td>\n",
       "      <td>30.0</td>\n",
       "      <td>1</td>\n",
       "      <td>1</td>\n",
       "      <td>0.421143</td>\n",
       "      <td>0.521484</td>\n",
       "      <td>0.0</td>\n",
       "      <td>0.516113</td>\n",
       "      <td>0.421053</td>\n",
       "      <td>0.421053</td>\n",
       "    </tr>\n",
       "    <tr>\n",
       "      <th>1</th>\n",
       "      <td>a1000001</td>\n",
       "      <td>2014-01-01</td>\n",
       "      <td>i1000550</td>\n",
       "      <td>3854</td>\n",
       "      <td>44</td>\n",
       "      <td>3.0</td>\n",
       "      <td>1</td>\n",
       "      <td>20.0</td>\n",
       "      <td>40.000000</td>\n",
       "      <td>0.0</td>\n",
       "      <td>...</td>\n",
       "      <td>28.500000</td>\n",
       "      <td>30.0</td>\n",
       "      <td>2</td>\n",
       "      <td>2</td>\n",
       "      <td>0.506836</td>\n",
       "      <td>0.492432</td>\n",
       "      <td>0.0</td>\n",
       "      <td>0.516113</td>\n",
       "      <td>0.475410</td>\n",
       "      <td>0.475410</td>\n",
       "    </tr>\n",
       "    <tr>\n",
       "      <th>2</th>\n",
       "      <td>a1000002</td>\n",
       "      <td>2014-01-01</td>\n",
       "      <td>i1001991</td>\n",
       "      <td>2974</td>\n",
       "      <td>38</td>\n",
       "      <td>8.0</td>\n",
       "      <td>1</td>\n",
       "      <td>35.0</td>\n",
       "      <td>50.000000</td>\n",
       "      <td>0.0</td>\n",
       "      <td>...</td>\n",
       "      <td>84.989998</td>\n",
       "      <td>85.0</td>\n",
       "      <td>1</td>\n",
       "      <td>1</td>\n",
       "      <td>0.642090</td>\n",
       "      <td>0.455322</td>\n",
       "      <td>0.5</td>\n",
       "      <td>0.535645</td>\n",
       "      <td>0.616505</td>\n",
       "      <td>0.616505</td>\n",
       "    </tr>\n",
       "    <tr>\n",
       "      <th>3</th>\n",
       "      <td>a1000002</td>\n",
       "      <td>2014-01-01</td>\n",
       "      <td>i1001999</td>\n",
       "      <td>1992</td>\n",
       "      <td>38</td>\n",
       "      <td>8.0</td>\n",
       "      <td>1</td>\n",
       "      <td>50.0</td>\n",
       "      <td>50.000000</td>\n",
       "      <td>0.0</td>\n",
       "      <td>...</td>\n",
       "      <td>84.989998</td>\n",
       "      <td>85.0</td>\n",
       "      <td>2</td>\n",
       "      <td>2</td>\n",
       "      <td>0.694336</td>\n",
       "      <td>0.479492</td>\n",
       "      <td>0.5</td>\n",
       "      <td>0.535645</td>\n",
       "      <td>0.713450</td>\n",
       "      <td>0.713450</td>\n",
       "    </tr>\n",
       "    <tr>\n",
       "      <th>4</th>\n",
       "      <td>a1000003</td>\n",
       "      <td>2014-01-01</td>\n",
       "      <td>i1001942</td>\n",
       "      <td>1968</td>\n",
       "      <td>42</td>\n",
       "      <td>8.0</td>\n",
       "      <td>1</td>\n",
       "      <td>10.0</td>\n",
       "      <td>36.000000</td>\n",
       "      <td>0.0</td>\n",
       "      <td>...</td>\n",
       "      <td>60.000000</td>\n",
       "      <td>60.0</td>\n",
       "      <td>1</td>\n",
       "      <td>1</td>\n",
       "      <td>0.600586</td>\n",
       "      <td>0.606934</td>\n",
       "      <td>0.0</td>\n",
       "      <td>0.526367</td>\n",
       "      <td>0.573034</td>\n",
       "      <td>0.573034</td>\n",
       "    </tr>\n",
       "  </tbody>\n",
       "</table>\n",
       "<p>5 rows × 26 columns</p>\n",
       "</div>"
      ],
      "text/plain": [
       "    orderID   orderDate articleID  colorCode sizeCode  productGroup  quantity  \\\n",
       "0  a1000001  2014-01-01  i1000382       1972       44           3.0         1   \n",
       "1  a1000001  2014-01-01  i1000550       3854       44           3.0         1   \n",
       "2  a1000002  2014-01-01  i1001991       2974       38           8.0         1   \n",
       "3  a1000002  2014-01-01  i1001999       1992       38           8.0         1   \n",
       "4  a1000003  2014-01-01  i1001942       1968       42           8.0         1   \n",
       "\n",
       "   price        rrp  voucherAmount    ...    customer_budget after_voucher  \\\n",
       "0   10.0  29.984375            0.0    ...          28.500000          30.0   \n",
       "1   20.0  40.000000            0.0    ...          28.500000          30.0   \n",
       "2   35.0  50.000000            0.0    ...          84.989998          85.0   \n",
       "3   50.0  50.000000            0.0    ...          84.989998          85.0   \n",
       "4   10.0  36.000000            0.0    ...          60.000000          60.0   \n",
       "\n",
       "   order_order choice_order  articleID_prob  colorCode_prob  customerID_prob  \\\n",
       "0            1            1        0.421143        0.521484              0.0   \n",
       "1            2            2        0.506836        0.492432              0.0   \n",
       "2            1            1        0.642090        0.455322              0.5   \n",
       "3            2            2        0.694336        0.479492              0.5   \n",
       "4            1            1        0.600586        0.606934              0.0   \n",
       "\n",
       "   sizeCode_prob   ac_prob   as_prob  \n",
       "0       0.516113  0.421053  0.421053  \n",
       "1       0.516113  0.475410  0.475410  \n",
       "2       0.535645  0.616505  0.616505  \n",
       "3       0.535645  0.713450  0.713450  \n",
       "4       0.526367  0.573034  0.573034  \n",
       "\n",
       "[5 rows x 26 columns]"
      ]
     },
     "execution_count": 2,
     "metadata": {},
     "output_type": "execute_result"
    }
   ],
   "source": [
    "# Pakai make_datasets_train_only. Buat sendiri juga boleh\n",
    "\n",
    "df=pd.read_csv('train_gue.csv')\n",
    "\n",
    "if 'deviceID' in df.columns:\n",
    "    del df['deviceID']\n",
    "\n",
    "df.head()"
   ]
  },
  {
   "cell_type": "code",
   "execution_count": 3,
   "metadata": {
    "collapsed": false
   },
   "outputs": [],
   "source": [
    "# Metodeku\n",
    "\n",
    "total_spent_dict = df[['customerID', 'order_total']].groupby('customerID').sum()['order_total'].to_dict()\n",
    "df['total_spent'] = df.customerID.apply(total_spent_dict.get).astype(np.float32)\n",
    "del total_spent_dict"
   ]
  },
  {
   "cell_type": "code",
   "execution_count": 4,
   "metadata": {
    "collapsed": false
   },
   "outputs": [],
   "source": [
    "df['expense_ratio'] = (df['customer_budget'] / df['total_spent']).astype(np.float16)"
   ]
  },
  {
   "cell_type": "code",
   "execution_count": 5,
   "metadata": {
    "collapsed": false
   },
   "outputs": [],
   "source": [
    "df.rrp.fillna(df.rrp.median(), inplace=True) # Mau ga mau\n",
    "\n",
    "# Metode farah\n",
    "temp_quantity=df.quantity.copy()\n",
    "temp_quantity[temp_quantity==0]=1\n",
    "df['unitPrice'] = (df.price/temp_quantity).astype(np.float32)\n",
    "\n",
    "usualUnitPrice_dict = df[['articleID', 'unitPrice']].groupby('articleID').median().unitPrice.to_dict()\n",
    "df['usual_unit_price']=df.articleID.apply(usualUnitPrice_dict.get).astype(np.float32)\n",
    "del usualUnitPrice_dict\n",
    "\n",
    "df['priceDiff'] = (df['unitPrice']-df.usual_unit_price).astype(np.float32)"
   ]
  },
  {
   "cell_type": "code",
   "execution_count": 6,
   "metadata": {
    "collapsed": false,
    "scrolled": true
   },
   "outputs": [
    {
     "name": "stdout",
     "output_type": "stream",
     "text": [
      "Konversi kategori/object ke angka (ordinal):\n",
      "orderID\n",
      "orderDate\n",
      "articleID\n",
      "sizeCode\n",
      "customerID\n",
      "paymentMethod\n",
      "mmdd\n"
     ]
    }
   ],
   "source": [
    "#Konversi kategori/object ke angka (ordinal)\n",
    "print \"Konversi kategori/object ke angka (ordinal):\"\n",
    "\n",
    "#Cari kolom yang tipenya object, bukan integer maupun float\n",
    "object_columns=df.loc[:, df.dtypes == object].columns\n",
    "\n",
    "for col in object_columns:\n",
    "    print col\n",
    "    le=LabelEncoder()\n",
    "    # Konversi deh\n",
    "    df[col]=le.fit_transform(df[col])\n",
    "    \n",
    "if 'orderID' in df.columns:\n",
    "    del df['orderID']"
   ]
  },
  {
   "cell_type": "code",
   "execution_count": 7,
   "metadata": {
    "collapsed": false
   },
   "outputs": [
    {
     "name": "stdout",
     "output_type": "stream",
     "text": [
      "float_64_columns ['productGroup', 'price', 'rrp', 'voucherAmount', 'order_total', 'customer_budget', 'after_voucher', 'articleID_prob', 'colorCode_prob', 'customerID_prob', 'sizeCode_prob', 'ac_prob', 'as_prob']\n",
      "['orderDate', 'articleID', 'sizeCode', 'quantity', 'price', 'rrp', 'voucherAmount', 'paymentMethod', 'mmdd', 'months', 'order_total', 'customer_budget', 'after_voucher', 'order_order', 'choice_order', 'articleID_prob', 'colorCode_prob', 'customerID_prob', 'sizeCode_prob', 'ac_prob', 'as_prob', 'expense_ratio', 'unitPrice', 'usual_unit_price', 'priceDiff']\n"
     ]
    }
   ],
   "source": [
    "# Turunin presisi, iseng-iseng aja\n",
    "float_64_columns = df.loc[:, df.dtypes == np.float64].columns\n",
    "print \"float_64_columns\", float_64_columns.tolist()\n",
    "for col in float_64_columns:\n",
    "    df[col] = df[col].astype(np.float16)\n",
    "\n",
    "int_64_columns = df.loc[:, df.dtypes == np.int64].columns\n",
    "for col in int_64_columns:\n",
    "    df[col] = df[col].astype(np.int32)\n",
    "    \n",
    "\n",
    "# Impute\n",
    "df.rrp.fillna(df.rrp.median(), inplace=True)\n",
    "df.productGroup.fillna(0, inplace=True)\n",
    "\n",
    "\n",
    "Xdf=df.drop([label, \"colorCode\",'customerID','productGroup','total_spent'], axis=1)\n",
    "print Xdf.columns.tolist()\n",
    "X=Xdf.values\n",
    "y=df.returnQuantity.values\n",
    "\n",
    "X_train, X_test, y_train, y_test = train_test_split(X, y, test_size=0.15, random_state=42)"
   ]
  },
  {
   "cell_type": "code",
   "execution_count": 8,
   "metadata": {
    "collapsed": false
   },
   "outputs": [
    {
     "name": "stderr",
     "output_type": "stream",
     "text": [
      "C:\\Anaconda2\\lib\\site-packages\\ipykernel\\__main__.py:1: FutureWarning: using '-' to provide set differences with Indexes is deprecated, use .difference()\n",
      "  if __name__ == '__main__':\n"
     ]
    },
    {
     "data": {
      "text/plain": [
       "Index([], dtype='object')"
      ]
     },
     "execution_count": 8,
     "metadata": {},
     "output_type": "execute_result"
    }
   ],
   "source": [
    "Xdf.columns-Xdf.dropna(axis=1).columns"
   ]
  },
  {
   "cell_type": "code",
   "execution_count": 9,
   "metadata": {
    "collapsed": false
   },
   "outputs": [
    {
     "name": "stdout",
     "output_type": "stream",
     "text": [
      "[[117036  50626     10      0      0      0]\n",
      " [ 31634 148881      9      0      0      0]\n",
      " [     8    533      4      0      0      0]\n",
      " [     0     20      6      0      0      0]\n",
      " [     0      2      1      0      0      0]\n",
      " [     0      0      5      0      0      0]]\n",
      "82907\n"
     ]
    }
   ],
   "source": [
    "lr=LinearRegression(n_jobs=-1, normalize=True)\n",
    "lr.fit(X_train, y_train)\n",
    "y_pred=lr.predict(X_test)\n",
    "y_pred=np.array([round(yp) for yp in y_pred], dtype=np.int8)\n",
    "y_pred[y_pred<0]=0\n",
    "print confusion_matrix(y_test,y_pred)\n",
    "print dmc_error(y_test,y_pred)"
   ]
  },
  {
   "cell_type": "markdown",
   "metadata": {},
   "source": [
    "# 82907"
   ]
  },
  {
   "cell_type": "code",
   "execution_count": 10,
   "metadata": {
    "collapsed": false
   },
   "outputs": [
    {
     "data": {
      "text/html": [
       "<div>\n",
       "<table border=\"1\" class=\"dataframe\">\n",
       "  <thead>\n",
       "    <tr style=\"text-align: right;\">\n",
       "      <th></th>\n",
       "      <th>orderDate</th>\n",
       "      <th>articleID</th>\n",
       "      <th>colorCode</th>\n",
       "      <th>sizeCode</th>\n",
       "      <th>productGroup</th>\n",
       "      <th>quantity</th>\n",
       "      <th>price</th>\n",
       "      <th>rrp</th>\n",
       "      <th>voucherAmount</th>\n",
       "      <th>customerID</th>\n",
       "      <th>...</th>\n",
       "      <th>colorCode_prob</th>\n",
       "      <th>customerID_prob</th>\n",
       "      <th>sizeCode_prob</th>\n",
       "      <th>ac_prob</th>\n",
       "      <th>as_prob</th>\n",
       "      <th>total_spent</th>\n",
       "      <th>expense_ratio</th>\n",
       "      <th>unitPrice</th>\n",
       "      <th>usual_unit_price</th>\n",
       "      <th>priceDiff</th>\n",
       "    </tr>\n",
       "  </thead>\n",
       "  <tbody>\n",
       "    <tr>\n",
       "      <th>0</th>\n",
       "      <td>0</td>\n",
       "      <td>346</td>\n",
       "      <td>1972</td>\n",
       "      <td>16</td>\n",
       "      <td>3.0</td>\n",
       "      <td>1</td>\n",
       "      <td>10.0</td>\n",
       "      <td>29.984375</td>\n",
       "      <td>0.0</td>\n",
       "      <td>9962</td>\n",
       "      <td>...</td>\n",
       "      <td>0.521484</td>\n",
       "      <td>0.0</td>\n",
       "      <td>0.516113</td>\n",
       "      <td>0.421143</td>\n",
       "      <td>0.421143</td>\n",
       "      <td>114.000000</td>\n",
       "      <td>0.250000</td>\n",
       "      <td>10.0</td>\n",
       "      <td>10.0</td>\n",
       "      <td>0.0</td>\n",
       "    </tr>\n",
       "    <tr>\n",
       "      <th>1</th>\n",
       "      <td>0</td>\n",
       "      <td>511</td>\n",
       "      <td>3854</td>\n",
       "      <td>16</td>\n",
       "      <td>3.0</td>\n",
       "      <td>1</td>\n",
       "      <td>20.0</td>\n",
       "      <td>40.000000</td>\n",
       "      <td>0.0</td>\n",
       "      <td>9962</td>\n",
       "      <td>...</td>\n",
       "      <td>0.492432</td>\n",
       "      <td>0.0</td>\n",
       "      <td>0.516113</td>\n",
       "      <td>0.475342</td>\n",
       "      <td>0.475342</td>\n",
       "      <td>114.000000</td>\n",
       "      <td>0.250000</td>\n",
       "      <td>20.0</td>\n",
       "      <td>15.0</td>\n",
       "      <td>5.0</td>\n",
       "    </tr>\n",
       "    <tr>\n",
       "      <th>2</th>\n",
       "      <td>0</td>\n",
       "      <td>1901</td>\n",
       "      <td>2974</td>\n",
       "      <td>13</td>\n",
       "      <td>8.0</td>\n",
       "      <td>1</td>\n",
       "      <td>35.0</td>\n",
       "      <td>50.000000</td>\n",
       "      <td>0.0</td>\n",
       "      <td>42755</td>\n",
       "      <td>...</td>\n",
       "      <td>0.455322</td>\n",
       "      <td>0.5</td>\n",
       "      <td>0.535645</td>\n",
       "      <td>0.616699</td>\n",
       "      <td>0.616699</td>\n",
       "      <td>169.979996</td>\n",
       "      <td>0.500000</td>\n",
       "      <td>35.0</td>\n",
       "      <td>25.0</td>\n",
       "      <td>10.0</td>\n",
       "    </tr>\n",
       "    <tr>\n",
       "      <th>3</th>\n",
       "      <td>0</td>\n",
       "      <td>1909</td>\n",
       "      <td>1992</td>\n",
       "      <td>13</td>\n",
       "      <td>8.0</td>\n",
       "      <td>1</td>\n",
       "      <td>50.0</td>\n",
       "      <td>50.000000</td>\n",
       "      <td>0.0</td>\n",
       "      <td>42755</td>\n",
       "      <td>...</td>\n",
       "      <td>0.479492</td>\n",
       "      <td>0.5</td>\n",
       "      <td>0.535645</td>\n",
       "      <td>0.713379</td>\n",
       "      <td>0.713379</td>\n",
       "      <td>169.979996</td>\n",
       "      <td>0.500000</td>\n",
       "      <td>50.0</td>\n",
       "      <td>35.0</td>\n",
       "      <td>15.0</td>\n",
       "    </tr>\n",
       "    <tr>\n",
       "      <th>4</th>\n",
       "      <td>0</td>\n",
       "      <td>1852</td>\n",
       "      <td>1968</td>\n",
       "      <td>15</td>\n",
       "      <td>8.0</td>\n",
       "      <td>1</td>\n",
       "      <td>10.0</td>\n",
       "      <td>36.000000</td>\n",
       "      <td>0.0</td>\n",
       "      <td>82469</td>\n",
       "      <td>...</td>\n",
       "      <td>0.606934</td>\n",
       "      <td>0.0</td>\n",
       "      <td>0.526367</td>\n",
       "      <td>0.573242</td>\n",
       "      <td>0.573242</td>\n",
       "      <td>300.000000</td>\n",
       "      <td>0.199951</td>\n",
       "      <td>10.0</td>\n",
       "      <td>10.0</td>\n",
       "      <td>0.0</td>\n",
       "    </tr>\n",
       "  </tbody>\n",
       "</table>\n",
       "<p>5 rows × 30 columns</p>\n",
       "</div>"
      ],
      "text/plain": [
       "   orderDate  articleID  colorCode  sizeCode  productGroup  quantity  price  \\\n",
       "0          0        346       1972        16           3.0         1   10.0   \n",
       "1          0        511       3854        16           3.0         1   20.0   \n",
       "2          0       1901       2974        13           8.0         1   35.0   \n",
       "3          0       1909       1992        13           8.0         1   50.0   \n",
       "4          0       1852       1968        15           8.0         1   10.0   \n",
       "\n",
       "         rrp  voucherAmount  customerID    ...      colorCode_prob  \\\n",
       "0  29.984375            0.0        9962    ...            0.521484   \n",
       "1  40.000000            0.0        9962    ...            0.492432   \n",
       "2  50.000000            0.0       42755    ...            0.455322   \n",
       "3  50.000000            0.0       42755    ...            0.479492   \n",
       "4  36.000000            0.0       82469    ...            0.606934   \n",
       "\n",
       "   customerID_prob  sizeCode_prob   ac_prob   as_prob  total_spent  \\\n",
       "0              0.0       0.516113  0.421143  0.421143   114.000000   \n",
       "1              0.0       0.516113  0.475342  0.475342   114.000000   \n",
       "2              0.5       0.535645  0.616699  0.616699   169.979996   \n",
       "3              0.5       0.535645  0.713379  0.713379   169.979996   \n",
       "4              0.0       0.526367  0.573242  0.573242   300.000000   \n",
       "\n",
       "   expense_ratio  unitPrice  usual_unit_price  priceDiff  \n",
       "0       0.250000       10.0              10.0        0.0  \n",
       "1       0.250000       20.0              15.0        5.0  \n",
       "2       0.500000       35.0              25.0       10.0  \n",
       "3       0.500000       50.0              35.0       15.0  \n",
       "4       0.199951       10.0              10.0        0.0  \n",
       "\n",
       "[5 rows x 30 columns]"
      ]
     },
     "execution_count": 10,
     "metadata": {},
     "output_type": "execute_result"
    }
   ],
   "source": [
    "df.head()"
   ]
  },
  {
   "cell_type": "code",
   "execution_count": 11,
   "metadata": {
    "collapsed": false
   },
   "outputs": [],
   "source": [
    "# rfr=RandomForestRegressor(20, n_jobs=3)\n",
    "# rfr.fit(X_train, y_train)\n",
    "# y_pred_rfr=rfr.predict(X_test)\n",
    "# y_pred_rfr=np.array([round(yp) for yp in y_pred_rfr], dtype=np.int8)\n",
    "# y_pred_rfr[y_pred_rfr<0]=0\n",
    "# print confusion_matrix(y_test,y_pred_rfr)\n",
    "# print dmc_error(y_test,y_pred_rfr)"
   ]
  },
  {
   "cell_type": "code",
   "execution_count": 12,
   "metadata": {
    "collapsed": false
   },
   "outputs": [],
   "source": [
    "# feature_importances(Xdf, rfr)"
   ]
  },
  {
   "cell_type": "code",
   "execution_count": 13,
   "metadata": {
    "collapsed": false
   },
   "outputs": [],
   "source": [
    "# y_pred_ens=(1*rfr.predict(X_test) + 9*model.predict(X_test))/10\n",
    "# y_pred_ens=np.array([round(yp) for yp in y_pred_ens], dtype=np.int8)\n",
    "# y_pred_ens[y_pred_ens<0]=0\n",
    "# print confusion_matrix(y_test,y_pred_ens)\n",
    "# print dmc_error(y_test,y_pred_ens)"
   ]
  },
  {
   "cell_type": "markdown",
   "metadata": {},
   "source": [
    "```\n",
    "\n",
    "```"
   ]
  }
 ],
 "metadata": {
  "kernelspec": {
   "display_name": "Python 2",
   "language": "python",
   "name": "python2"
  },
  "language_info": {
   "codemirror_mode": {
    "name": "ipython",
    "version": 2
   },
   "file_extension": ".py",
   "mimetype": "text/x-python",
   "name": "python",
   "nbconvert_exporter": "python",
   "pygments_lexer": "ipython2",
   "version": "2.7.11"
  }
 },
 "nbformat": 4,
 "nbformat_minor": 0
}
