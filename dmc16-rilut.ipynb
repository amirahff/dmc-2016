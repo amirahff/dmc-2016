{
 "cells": [
  {
   "cell_type": "markdown",
   "metadata": {},
   "source": [
    "# Notebook rilut\n",
    "\n",
    "### Bikin jelek, hapus aja\n",
    "\n",
    "- semua yang categorical: colorCode, customerID, articleID, orderDate, productGroup\n",
    "\n",
    "### Jangan dihapus\n",
    "\n",
    "- price, rrp (walaupun impute median)\n",
    "\n",
    "### Missing values\n",
    "\n",
    "- rrp, productGroup\n",
    "\n",
    "### Catatan:\n",
    "\n",
    "Logistic Regression lama banget. itu pun solvernya udah diubah. kalau masih mau pake, iternya kurangin kali?\n",
    "\n",
    "### TODO:\n",
    "\n",
    "- ekstrak fitur karena fitur adalah segalanya"
   ]
  },
  {
   "cell_type": "code",
   "execution_count": 103,
   "metadata": {
    "collapsed": false
   },
   "outputs": [],
   "source": [
    "from __future__ import division\n",
    "\n",
    "label='returnQuantity'\n",
    "\n",
    "import pandas as pd\n",
    "import numpy as np\n",
    "from sklearn.ensemble import RandomForestRegressor, ExtraTreesRegressor\n",
    "from sklearn.linear_model import LinearRegression, Lasso, Ridge\n",
    "from sklearn.metrics import confusion_matrix\n",
    "%matplotlib inline\n",
    "from sklearn.preprocessing import LabelEncoder\n",
    "from operator import itemgetter\n",
    "#from sklearn.externals import joblib\n",
    "\n",
    "def dmc_error(returnQuantity, prediction):\n",
    "    #∑ |returnQuantity𝑖 − prediction𝑖 |\n",
    "    return np.sum(np.abs( np.subtract(returnQuantity, prediction) ))"
   ]
  },
  {
   "cell_type": "code",
   "execution_count": 24,
   "metadata": {
    "collapsed": false
   },
   "outputs": [
    {
     "data": {
      "text/html": [
       "<div>\n",
       "<table border=\"1\" class=\"dataframe\">\n",
       "  <thead>\n",
       "    <tr style=\"text-align: right;\">\n",
       "      <th></th>\n",
       "      <th>paymentMethod</th>\n",
       "      <th>price</th>\n",
       "      <th>productGroup</th>\n",
       "      <th>quantity</th>\n",
       "      <th>returnQuantity</th>\n",
       "      <th>rrp</th>\n",
       "      <th>sizeCode</th>\n",
       "      <th>voucherAmount</th>\n",
       "      <th>order_total</th>\n",
       "      <th>customer_budget</th>\n",
       "      <th>...</th>\n",
       "      <th>after_voucher</th>\n",
       "      <th>order_order</th>\n",
       "      <th>choice_order</th>\n",
       "      <th>articleID_cumprob</th>\n",
       "      <th>colorCode_cumprob</th>\n",
       "      <th>customerID_cumprob</th>\n",
       "      <th>sizeCode_cumprob</th>\n",
       "      <th>ac_cumprob</th>\n",
       "      <th>as_cumprob</th>\n",
       "      <th>cps_cumprob</th>\n",
       "    </tr>\n",
       "  </thead>\n",
       "  <tbody>\n",
       "    <tr>\n",
       "      <th>0</th>\n",
       "      <td>BPRG</td>\n",
       "      <td>10.000000</td>\n",
       "      <td>3.0</td>\n",
       "      <td>1</td>\n",
       "      <td>0.0</td>\n",
       "      <td>29.990000</td>\n",
       "      <td>44</td>\n",
       "      <td>0.0</td>\n",
       "      <td>30.000000</td>\n",
       "      <td>28.500000</td>\n",
       "      <td>...</td>\n",
       "      <td>30.000000</td>\n",
       "      <td>1</td>\n",
       "      <td>1</td>\n",
       "      <td>0.0</td>\n",
       "      <td>0.0</td>\n",
       "      <td>0.0</td>\n",
       "      <td>0.0</td>\n",
       "      <td>0.0</td>\n",
       "      <td>0.0</td>\n",
       "      <td>0.0</td>\n",
       "    </tr>\n",
       "    <tr>\n",
       "      <th>1</th>\n",
       "      <td>BPRG</td>\n",
       "      <td>20.000000</td>\n",
       "      <td>3.0</td>\n",
       "      <td>1</td>\n",
       "      <td>0.0</td>\n",
       "      <td>39.990002</td>\n",
       "      <td>44</td>\n",
       "      <td>0.0</td>\n",
       "      <td>30.000000</td>\n",
       "      <td>28.500000</td>\n",
       "      <td>...</td>\n",
       "      <td>30.000000</td>\n",
       "      <td>2</td>\n",
       "      <td>2</td>\n",
       "      <td>0.0</td>\n",
       "      <td>0.0</td>\n",
       "      <td>0.0</td>\n",
       "      <td>0.0</td>\n",
       "      <td>0.0</td>\n",
       "      <td>0.0</td>\n",
       "      <td>0.0</td>\n",
       "    </tr>\n",
       "    <tr>\n",
       "      <th>2</th>\n",
       "      <td>BPRG</td>\n",
       "      <td>35.000000</td>\n",
       "      <td>8.0</td>\n",
       "      <td>1</td>\n",
       "      <td>0.0</td>\n",
       "      <td>49.990002</td>\n",
       "      <td>38</td>\n",
       "      <td>0.0</td>\n",
       "      <td>84.989998</td>\n",
       "      <td>84.989998</td>\n",
       "      <td>...</td>\n",
       "      <td>84.989998</td>\n",
       "      <td>1</td>\n",
       "      <td>1</td>\n",
       "      <td>0.0</td>\n",
       "      <td>0.0</td>\n",
       "      <td>0.0</td>\n",
       "      <td>0.0</td>\n",
       "      <td>0.0</td>\n",
       "      <td>0.0</td>\n",
       "      <td>0.0</td>\n",
       "    </tr>\n",
       "    <tr>\n",
       "      <th>3</th>\n",
       "      <td>BPRG</td>\n",
       "      <td>49.990002</td>\n",
       "      <td>8.0</td>\n",
       "      <td>1</td>\n",
       "      <td>1.0</td>\n",
       "      <td>49.990002</td>\n",
       "      <td>38</td>\n",
       "      <td>0.0</td>\n",
       "      <td>84.989998</td>\n",
       "      <td>84.989998</td>\n",
       "      <td>...</td>\n",
       "      <td>84.989998</td>\n",
       "      <td>2</td>\n",
       "      <td>2</td>\n",
       "      <td>1.0</td>\n",
       "      <td>1.0</td>\n",
       "      <td>0.5</td>\n",
       "      <td>0.5</td>\n",
       "      <td>1.0</td>\n",
       "      <td>1.0</td>\n",
       "      <td>0.5</td>\n",
       "    </tr>\n",
       "    <tr>\n",
       "      <th>4</th>\n",
       "      <td>PAYPALVC</td>\n",
       "      <td>10.000000</td>\n",
       "      <td>8.0</td>\n",
       "      <td>1</td>\n",
       "      <td>0.0</td>\n",
       "      <td>35.990002</td>\n",
       "      <td>42</td>\n",
       "      <td>0.0</td>\n",
       "      <td>60.000000</td>\n",
       "      <td>60.000000</td>\n",
       "      <td>...</td>\n",
       "      <td>60.000000</td>\n",
       "      <td>1</td>\n",
       "      <td>1</td>\n",
       "      <td>0.0</td>\n",
       "      <td>0.0</td>\n",
       "      <td>0.0</td>\n",
       "      <td>0.0</td>\n",
       "      <td>0.0</td>\n",
       "      <td>0.0</td>\n",
       "      <td>0.0</td>\n",
       "    </tr>\n",
       "  </tbody>\n",
       "</table>\n",
       "<p>5 rows × 24 columns</p>\n",
       "</div>"
      ],
      "text/plain": [
       "  paymentMethod      price  productGroup  quantity  returnQuantity        rrp  \\\n",
       "0          BPRG  10.000000           3.0         1             0.0  29.990000   \n",
       "1          BPRG  20.000000           3.0         1             0.0  39.990002   \n",
       "2          BPRG  35.000000           8.0         1             0.0  49.990002   \n",
       "3          BPRG  49.990002           8.0         1             1.0  49.990002   \n",
       "4      PAYPALVC  10.000000           8.0         1             0.0  35.990002   \n",
       "\n",
       "  sizeCode  voucherAmount  order_total  customer_budget     ...       \\\n",
       "0       44            0.0    30.000000        28.500000     ...        \n",
       "1       44            0.0    30.000000        28.500000     ...        \n",
       "2       38            0.0    84.989998        84.989998     ...        \n",
       "3       38            0.0    84.989998        84.989998     ...        \n",
       "4       42            0.0    60.000000        60.000000     ...        \n",
       "\n",
       "   after_voucher  order_order  choice_order  articleID_cumprob  \\\n",
       "0      30.000000            1             1                0.0   \n",
       "1      30.000000            2             2                0.0   \n",
       "2      84.989998            1             1                0.0   \n",
       "3      84.989998            2             2                1.0   \n",
       "4      60.000000            1             1                0.0   \n",
       "\n",
       "   colorCode_cumprob  customerID_cumprob  sizeCode_cumprob  ac_cumprob  \\\n",
       "0                0.0                 0.0               0.0         0.0   \n",
       "1                0.0                 0.0               0.0         0.0   \n",
       "2                0.0                 0.0               0.0         0.0   \n",
       "3                1.0                 0.5               0.5         1.0   \n",
       "4                0.0                 0.0               0.0         0.0   \n",
       "\n",
       "   as_cumprob  cps_cumprob  \n",
       "0         0.0          0.0  \n",
       "1         0.0          0.0  \n",
       "2         0.0          0.0  \n",
       "3         1.0          0.5  \n",
       "4         0.0          0.0  \n",
       "\n",
       "[5 rows x 24 columns]"
      ]
     },
     "execution_count": 24,
     "metadata": {},
     "output_type": "execute_result"
    }
   ],
   "source": [
    "# Pakai make_datasets_train_only. Buat sendiri juga boleh\n",
    "\n",
    "df=pd.read_csv('train_gue2.csv')\n",
    "\n",
    "if 'deviceID' in df.columns:\n",
    "    del df['deviceID']\n",
    "    \n",
    "del df[\"colorCode\"]\n",
    "del df['customerID']\n",
    "del df['articleID']\n",
    "del df['orderDate']\n",
    "#del df['productGroup']\n",
    "\n",
    "    \n",
    "if 'orderID' in df.columns:\n",
    "    del df['orderID']\n",
    "\n",
    "df.head()"
   ]
  },
  {
   "cell_type": "code",
   "execution_count": null,
   "metadata": {
    "collapsed": false,
    "scrolled": true
   },
   "outputs": [],
   "source": []
  },
  {
   "cell_type": "code",
   "execution_count": 60,
   "metadata": {
    "collapsed": false
   },
   "outputs": [],
   "source": [
    "# Drop kategorikal\n",
    "object_columns=df.loc[:, df.dtypes == object].columns\n",
    "df= df.drop(object_columns, axis=1)\n",
    "\n",
    "# Turunin presisi, iseng-iseng aja\n",
    "float_64_columns = df.loc[:, df.dtypes == np.float64].columns\n",
    "for col in float_64_columns:\n",
    "    df[col] = df[col].astype(np.float32)\n",
    "\n",
    "int_64_columns = df.loc[:, df.dtypes == np.int64].columns\n",
    "for col in int_64_columns:\n",
    "    df[col] = df[col].astype(np.int32)\n",
    "    \n",
    "\n",
    "label='returnQuantity'\n",
    "df.rrp.fillna(df.rrp.median(), inplace=True)\n",
    "Xdf=df.drop(['productGroup','voucherAmount','after_voucher','order_order'], axis=1)\n",
    "Xdf=Xdf.drop([label], axis=1)\n",
    "\n",
    "X=Xdf.values\n",
    "y=df.returnQuantity.values\n",
    "\n",
    "\n",
    "X_train=X[:-341099]\n",
    "X_test=X[-341099:]\n",
    "y_train=y[:-341099]\n",
    "y_test=y[-341099:]"
   ]
  },
  {
   "cell_type": "code",
   "execution_count": 100,
   "metadata": {
    "collapsed": false
   },
   "outputs": [
    {
     "name": "stdout",
     "output_type": "stream",
     "text": [
      "[[143266  23644      9      0      0      0]\n",
      " [ 19466 154036      8      0      0      0]\n",
      " [     3    617     10      0      0      0]\n",
      " [     0     11     18      0      0      0]\n",
      " [     0      0      7      0      0      0]\n",
      " [     0      0      4      0      0      0]]\n",
      "43825.0\n",
      "jumlah data test:  341099\n"
     ]
    }
   ],
   "source": [
    "lr=LinearRegression(n_jobs=-1, normalize=True)\n",
    "lr.fit(X_train, y_train)\n",
    "y_pred=lr.predict(X_test)\n",
    "#y_pred[y_pred>1.3]=y_pred[y_pred>1.3]+0.5\n",
    "#y_pred[y_pred>2.4]=y_pred[y_pred>2.4]+0.3\n",
    "#y_pred[y_pred>3.2]=y_pred[y_pred>3.2]+0.3\n",
    "y_pred=np.array([round(yp) for yp in y_pred], dtype=np.int8)\n",
    "y_pred[y_pred<0]=0\n",
    "print confusion_matrix(y_test,y_pred)\n",
    "print dmc_error(y_test,y_pred)\n",
    "print 'jumlah data test: ', len(y_test)"
   ]
  },
  {
   "cell_type": "markdown",
   "metadata": {},
   "source": [
    "# 43825\n",
    "Atas->Bawah: True, Kiri->Kanan: Predicted\n",
    "```\n",
    "[[143266  23644      9      0      0      0]\n",
    " [ 19466 154036      8      0      0      0]\n",
    " [     3    617     10      0      0      0]\n",
    " [     0     11     18      0      0      0]\n",
    " [     0      0      7      0      0      0]\n",
    " [     0      0      4      0      0      0]]\n",
    "43825.0\n",
    "jumlah data test:  341099\n",
    "```"
   ]
  },
  {
   "cell_type": "code",
   "execution_count": 58,
   "metadata": {
    "collapsed": false
   },
   "outputs": [
    {
     "data": {
      "text/plain": [
       "['price',\n",
       " 'quantity',\n",
       " 'rrp',\n",
       " 'order_total',\n",
       " 'customer_budget',\n",
       " 'expense_ratio',\n",
       " 'unit_price',\n",
       " 'median_unit_price',\n",
       " 'price_diff',\n",
       " 'choice_order',\n",
       " 'articleID_cumprob',\n",
       " 'colorCode_cumprob',\n",
       " 'customerID_cumprob',\n",
       " 'sizeCode_cumprob',\n",
       " 'ac_cumprob',\n",
       " 'as_cumprob',\n",
       " 'cps_cumprob']"
      ]
     },
     "execution_count": 58,
     "metadata": {},
     "output_type": "execute_result"
    }
   ],
   "source": [
    "Xdf.columns.tolist()"
   ]
  },
  {
   "cell_type": "markdown",
   "metadata": {},
   "source": [
    "### Ini Importances?"
   ]
  },
  {
   "cell_type": "code",
   "execution_count": 50,
   "metadata": {
    "collapsed": false
   },
   "outputs": [
    {
     "data": {
      "text/plain": [
       "[('price', 1),\n",
       " ('quantity', 1),\n",
       " ('rrp', 1),\n",
       " ('expense_ratio', 1),\n",
       " ('unit_price', 1),\n",
       " ('median_unit_price', 1),\n",
       " ('price_diff', 1),\n",
       " ('choice_order', 1),\n",
       " ('articleID_cumprob', 1),\n",
       " ('colorCode_cumprob', 1),\n",
       " ('customerID_cumprob', 1),\n",
       " ('sizeCode_cumprob', 1),\n",
       " ('ac_cumprob', 1),\n",
       " ('as_cumprob', 1),\n",
       " ('cps_cumprob', 1),\n",
       " ('customer_budget', 2),\n",
       " ('order_total', 3),\n",
       " ('order_order', 4)]"
      ]
     },
     "execution_count": 50,
     "metadata": {},
     "output_type": "execute_result"
    }
   ],
   "source": [
    "from sklearn.feature_selection import RFE\n",
    "lr=LinearRegression(n_jobs=-1, normalize=True)\n",
    "selector = RFE(lr, 15, step=1)\n",
    "selector = selector.fit(X, y)\n",
    "pair=zip(Xdf.columns, selector.ranking_)\n",
    "t1=[i for i in pair]; t1\n",
    "sorted(t1, key=itemgetter(1))"
   ]
  },
  {
   "cell_type": "code",
   "execution_count": 102,
   "metadata": {
    "collapsed": false
   },
   "outputs": [
    {
     "name": "stdout",
     "output_type": "stream",
     "text": [
      "[[142021  24897      1      0      0      0]\n",
      " [ 18092 155372     46      0      0      0]\n",
      " [    15    220    393      2      0      0]\n",
      " [     2      2     10     13      2      0]\n",
      " [     0      0      0      3      4      0]\n",
      " [     1      0      0      1      0      2]]\n",
      "43321.0\n",
      "jumlah data test:  341099\n"
     ]
    }
   ],
   "source": [
    "rfr=RandomForestRegressor(n_jobs=-1, n_estimators=20)\n",
    "rfr.fit(X_train, y_train)\n",
    "y_pred=rfr.predict(X_test)\n",
    "y_pred=np.array([round(yp) for yp in y_pred], dtype=np.int8)\n",
    "y_pred[y_pred<0]=0\n",
    "print confusion_matrix(y_test,y_pred)\n",
    "print dmc_error(y_test,y_pred)\n",
    "print 'jumlah data test: ', len(y_test)"
   ]
  },
  {
   "cell_type": "code",
   "execution_count": 104,
   "metadata": {
    "collapsed": false
   },
   "outputs": [
    {
     "name": "stdout",
     "output_type": "stream",
     "text": [
      "[[142154  24756      9      0      0      0]\n",
      " [ 18362 155092     54      2      0      0]\n",
      " [    14    215    399      2      0      0]\n",
      " [     1      4      9     14      1      0]\n",
      " [     0      0      1      1      5      0]\n",
      " [     1      0      1      0      0      2]]\n",
      "43471.0\n",
      "jumlah data test:  341099\n"
     ]
    }
   ],
   "source": [
    "etr=ExtraTreesRegressor(n_jobs=-1, n_estimators=20)\n",
    "etr.fit(X_train, y_train)\n",
    "y_pred=etr.predict(X_test)\n",
    "y_pred=np.array([round(yp) for yp in y_pred], dtype=np.int8)\n",
    "y_pred[y_pred<0]=0\n",
    "print confusion_matrix(y_test,y_pred)\n",
    "print dmc_error(y_test,y_pred)\n",
    "print 'jumlah data test: ', len(y_test)"
   ]
  },
  {
   "cell_type": "code",
   "execution_count": 113,
   "metadata": {
    "collapsed": false
   },
   "outputs": [
    {
     "name": "stdout",
     "output_type": "stream",
     "text": [
      "[[142680  24230      9      0      0      0]\n",
      " [ 22354 151153      3      0      0      0]\n",
      " [    22    584     24      0      0      0]\n",
      " [     2     22      5      0      0      0]\n",
      " [     0      6      1      0      0      0]\n",
      " [     0      2      1      1      0      0]]\n",
      "47321.0\n",
      "jumlah data test:  341099\n"
     ]
    }
   ],
   "source": [
    "lasso=Lasso(0.01)\n",
    "lasso.fit(X_train, y_train)\n",
    "y_pred=lasso.predict(X_test)\n",
    "y_pred[y_pred>1.3]=y_pred[y_pred>1.3]+0.5\n",
    "#y_pred[y_pred>2.4]=y_pred[y_pred>2.4]+0.3\n",
    "#y_pred[y_pred>3.2]=y_pred[y_pred>3.2]+0.3\n",
    "y_pred=np.array([round(yp) for yp in y_pred], dtype=np.int8)\n",
    "y_pred[y_pred<0]=0\n",
    "print confusion_matrix(y_test,y_pred)\n",
    "print dmc_error(y_test,y_pred)\n",
    "print 'jumlah data test: ', len(y_test)"
   ]
  },
  {
   "cell_type": "code",
   "execution_count": 114,
   "metadata": {
    "collapsed": false
   },
   "outputs": [
    {
     "name": "stdout",
     "output_type": "stream",
     "text": [
      "[[142680  24225      5      9      0      0]\n",
      " [ 22354 151151      2      3      0      0]\n",
      " [    22    536     48     24      0      0]\n",
      " [     2     20      2      5      0      0]\n",
      " [     0      4      2      1      0      0]\n",
      " [     0      2      0      1      1      0]]\n",
      "47304.0\n",
      "jumlah data test:  341099\n"
     ]
    }
   ],
   "source": [
    "y_pred=lasso.predict(X_test)\n",
    "y_pred[y_pred>1.3]=y_pred[y_pred>1.3]+1\n",
    "#y_pred[y_pred>2.4]=y_pred[y_pred>2.4]+0.3\n",
    "#y_pred[y_pred>3.2]=y_pred[y_pred>3.2]+0.3\n",
    "y_pred=np.array([round(yp) for yp in y_pred], dtype=np.int8)\n",
    "y_pred[y_pred<0]=0\n",
    "print confusion_matrix(y_test,y_pred)\n",
    "print dmc_error(y_test,y_pred)\n",
    "print 'jumlah data test: ', len(y_test)"
   ]
  },
  {
   "cell_type": "code",
   "execution_count": null,
   "metadata": {
    "collapsed": true
   },
   "outputs": [],
   "source": [
    "# Berat banget\n",
    "\"\"\"from sklearn.linear_model import TheilSenRegressor\n",
    "tsr=TheilSenRegressor( n_jobs=3)\n",
    "tsr.fit(X_train, y_train)\n",
    "y_pred=tsr.predict(X_test)\n",
    "y_pred=np.array([round(yp) for yp in y_pred], dtype=np.int8)\n",
    "y_pred[y_pred<0]=0\n",
    "print confusion_matrix(y_test,y_pred)\n",
    "print dmc_error(y_test,y_pred)\n",
    "print 'jumlah data test: ', len(y_test)\"\"\""
   ]
  },
  {
   "cell_type": "markdown",
   "metadata": {},
   "source": [
    "```\n",
    "\n",
    "```"
   ]
  }
 ],
 "metadata": {
  "kernelspec": {
   "display_name": "Python 2",
   "language": "python",
   "name": "python2"
  },
  "language_info": {
   "codemirror_mode": {
    "name": "ipython",
    "version": 2
   },
   "file_extension": ".py",
   "mimetype": "text/x-python",
   "name": "python",
   "nbconvert_exporter": "python",
   "pygments_lexer": "ipython2",
   "version": "2.7.11"
  }
 },
 "nbformat": 4,
 "nbformat_minor": 0
}
