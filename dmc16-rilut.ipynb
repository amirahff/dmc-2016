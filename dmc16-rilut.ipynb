{
 "cells": [
  {
   "cell_type": "markdown",
   "metadata": {},
   "source": [
    "## Notebook rilut"
   ]
  },
  {
   "cell_type": "code",
   "execution_count": 2,
   "metadata": {
    "collapsed": false
   },
   "outputs": [],
   "source": [
    "from __future__ import division\n",
    "\n",
    "label='returnQuantity'\n",
    "\n",
    "import pandas as pd\n",
    "import numpy as np\n",
    "from sklearn.ensemble import RandomForestRegressor\n",
    "from sklearn.linear_model import LinearRegression, Lasso, Ridge\n",
    "from sklearn.cross_validation import train_test_split\n",
    "from sklearn.metrics import confusion_matrix\n",
    "%matplotlib inline\n",
    "from sklearn.preprocessing import LabelEncoder\n",
    "from operator import itemgetter\n",
    "#from sklearn.externals import joblib\n",
    "\n",
    "def dmc_error(returnQuantity, prediction):\n",
    "    #∑ |returnQuantity𝑖 − prediction𝑖 |\n",
    "    return np.sum(np.abs( np.subtract(returnQuantity, prediction) ))\n",
    "\n",
    "def feature_importances(Xdf, rf_model):\n",
    "    pair=zip(Xdf.columns, rf_model.feature_importances_)\n",
    "    t1=[i for i in pair]; t1\n",
    "    return sorted(t1, key=itemgetter(1))"
   ]
  },
  {
   "cell_type": "code",
   "execution_count": 3,
   "metadata": {
    "collapsed": false
   },
   "outputs": [
    {
     "data": {
      "text/html": [
       "<div>\n",
       "<table border=\"1\" class=\"dataframe\">\n",
       "  <thead>\n",
       "    <tr style=\"text-align: right;\">\n",
       "      <th></th>\n",
       "      <th>customerID</th>\n",
       "      <th>orderID</th>\n",
       "      <th>orderDate</th>\n",
       "      <th>articleID</th>\n",
       "      <th>colorCode</th>\n",
       "      <th>sizeCode</th>\n",
       "      <th>productGroup</th>\n",
       "      <th>quantity</th>\n",
       "      <th>price</th>\n",
       "      <th>rrp</th>\n",
       "      <th>...</th>\n",
       "      <th>budget</th>\n",
       "      <th>after_voucher</th>\n",
       "      <th>order_order</th>\n",
       "      <th>choice_order</th>\n",
       "      <th>articleID_prob</th>\n",
       "      <th>colorCode_prob</th>\n",
       "      <th>customerID_prob</th>\n",
       "      <th>sizeCode_prob</th>\n",
       "      <th>ac_prob</th>\n",
       "      <th>as_prob</th>\n",
       "    </tr>\n",
       "  </thead>\n",
       "  <tbody>\n",
       "    <tr>\n",
       "      <th>0</th>\n",
       "      <td>c1000001</td>\n",
       "      <td>a1001465</td>\n",
       "      <td>2014-01-03</td>\n",
       "      <td>i1003077</td>\n",
       "      <td>3999</td>\n",
       "      <td>I</td>\n",
       "      <td>17.0</td>\n",
       "      <td>1</td>\n",
       "      <td>27.984375</td>\n",
       "      <td>27.984375</td>\n",
       "      <td>...</td>\n",
       "      <td>69.625</td>\n",
       "      <td>27.984375</td>\n",
       "      <td>1</td>\n",
       "      <td>1</td>\n",
       "      <td>0.509766</td>\n",
       "      <td>0.510254</td>\n",
       "      <td>0.478516</td>\n",
       "      <td>0.374268</td>\n",
       "      <td>0.566265</td>\n",
       "      <td>0.566265</td>\n",
       "    </tr>\n",
       "    <tr>\n",
       "      <th>1</th>\n",
       "      <td>c1000001</td>\n",
       "      <td>a1004977</td>\n",
       "      <td>2014-01-07</td>\n",
       "      <td>i1003082</td>\n",
       "      <td>1999</td>\n",
       "      <td>I</td>\n",
       "      <td>17.0</td>\n",
       "      <td>1</td>\n",
       "      <td>25.984375</td>\n",
       "      <td>25.984375</td>\n",
       "      <td>...</td>\n",
       "      <td>69.625</td>\n",
       "      <td>25.984375</td>\n",
       "      <td>2</td>\n",
       "      <td>1</td>\n",
       "      <td>0.427734</td>\n",
       "      <td>0.522461</td>\n",
       "      <td>0.478516</td>\n",
       "      <td>0.374268</td>\n",
       "      <td>0.456790</td>\n",
       "      <td>0.456790</td>\n",
       "    </tr>\n",
       "    <tr>\n",
       "      <th>2</th>\n",
       "      <td>c1000001</td>\n",
       "      <td>a1012517</td>\n",
       "      <td>2014-01-15</td>\n",
       "      <td>i1001229</td>\n",
       "      <td>1993</td>\n",
       "      <td>38</td>\n",
       "      <td>4.0</td>\n",
       "      <td>1</td>\n",
       "      <td>40.000000</td>\n",
       "      <td>40.000000</td>\n",
       "      <td>...</td>\n",
       "      <td>69.625</td>\n",
       "      <td>40.000000</td>\n",
       "      <td>3</td>\n",
       "      <td>1</td>\n",
       "      <td>0.473145</td>\n",
       "      <td>0.471680</td>\n",
       "      <td>0.478516</td>\n",
       "      <td>0.535645</td>\n",
       "      <td>0.495726</td>\n",
       "      <td>0.495726</td>\n",
       "    </tr>\n",
       "    <tr>\n",
       "      <th>3</th>\n",
       "      <td>c1000001</td>\n",
       "      <td>a1013536</td>\n",
       "      <td>2014-01-16</td>\n",
       "      <td>i1002531</td>\n",
       "      <td>1995</td>\n",
       "      <td>38</td>\n",
       "      <td>15.0</td>\n",
       "      <td>1</td>\n",
       "      <td>60.000000</td>\n",
       "      <td>60.000000</td>\n",
       "      <td>...</td>\n",
       "      <td>69.625</td>\n",
       "      <td>120.000000</td>\n",
       "      <td>4</td>\n",
       "      <td>1</td>\n",
       "      <td>0.502930</td>\n",
       "      <td>0.541992</td>\n",
       "      <td>0.478516</td>\n",
       "      <td>0.535645</td>\n",
       "      <td>0.438257</td>\n",
       "      <td>0.438257</td>\n",
       "    </tr>\n",
       "    <tr>\n",
       "      <th>4</th>\n",
       "      <td>c1000001</td>\n",
       "      <td>a1013536</td>\n",
       "      <td>2014-01-16</td>\n",
       "      <td>i1002531</td>\n",
       "      <td>1999</td>\n",
       "      <td>40</td>\n",
       "      <td>15.0</td>\n",
       "      <td>1</td>\n",
       "      <td>60.000000</td>\n",
       "      <td>60.000000</td>\n",
       "      <td>...</td>\n",
       "      <td>69.625</td>\n",
       "      <td>120.000000</td>\n",
       "      <td>5</td>\n",
       "      <td>2</td>\n",
       "      <td>0.502930</td>\n",
       "      <td>0.522461</td>\n",
       "      <td>0.478516</td>\n",
       "      <td>0.529297</td>\n",
       "      <td>0.519280</td>\n",
       "      <td>0.519280</td>\n",
       "    </tr>\n",
       "  </tbody>\n",
       "</table>\n",
       "<p>5 rows × 26 columns</p>\n",
       "</div>"
      ],
      "text/plain": [
       "  customerID   orderID   orderDate articleID  colorCode sizeCode  \\\n",
       "0   c1000001  a1001465  2014-01-03  i1003077       3999        I   \n",
       "1   c1000001  a1004977  2014-01-07  i1003082       1999        I   \n",
       "2   c1000001  a1012517  2014-01-15  i1001229       1993       38   \n",
       "3   c1000001  a1013536  2014-01-16  i1002531       1995       38   \n",
       "4   c1000001  a1013536  2014-01-16  i1002531       1999       40   \n",
       "\n",
       "   productGroup  quantity      price        rrp    ...     budget  \\\n",
       "0          17.0         1  27.984375  27.984375    ...     69.625   \n",
       "1          17.0         1  25.984375  25.984375    ...     69.625   \n",
       "2           4.0         1  40.000000  40.000000    ...     69.625   \n",
       "3          15.0         1  60.000000  60.000000    ...     69.625   \n",
       "4          15.0         1  60.000000  60.000000    ...     69.625   \n",
       "\n",
       "  after_voucher  order_order choice_order  articleID_prob  colorCode_prob  \\\n",
       "0     27.984375            1            1        0.509766        0.510254   \n",
       "1     25.984375            2            1        0.427734        0.522461   \n",
       "2     40.000000            3            1        0.473145        0.471680   \n",
       "3    120.000000            4            1        0.502930        0.541992   \n",
       "4    120.000000            5            2        0.502930        0.522461   \n",
       "\n",
       "   customerID_prob  sizeCode_prob   ac_prob   as_prob  \n",
       "0         0.478516       0.374268  0.566265  0.566265  \n",
       "1         0.478516       0.374268  0.456790  0.456790  \n",
       "2         0.478516       0.535645  0.495726  0.495726  \n",
       "3         0.478516       0.535645  0.438257  0.438257  \n",
       "4         0.478516       0.529297  0.519280  0.519280  \n",
       "\n",
       "[5 rows x 26 columns]"
      ]
     },
     "execution_count": 3,
     "metadata": {},
     "output_type": "execute_result"
    }
   ],
   "source": [
    "# Pakai make_datasets_train_only. Buat sendiri juga boleh\n",
    "\n",
    "df=pd.read_csv('train_gue.csv')\n",
    "\n",
    "if 'deviceID' in df.columns:\n",
    "    del df['deviceID']\n",
    "\n",
    "df.head()"
   ]
  },
  {
   "cell_type": "code",
   "execution_count": 4,
   "metadata": {
    "collapsed": true
   },
   "outputs": [],
   "source": [
    "# Tambah metodemu di sini atau terserah di manapun!\n",
    "\n",
    "# metodemu"
   ]
  },
  {
   "cell_type": "code",
   "execution_count": 5,
   "metadata": {
    "collapsed": false,
    "scrolled": true
   },
   "outputs": [
    {
     "name": "stdout",
     "output_type": "stream",
     "text": [
      "Konversi kategori/object ke angka (ordinal):\n",
      "customerID\n",
      "orderID\n",
      "orderDate\n",
      "articleID\n",
      "sizeCode\n",
      "paymentMethod\n",
      "mmdd\n"
     ]
    }
   ],
   "source": [
    "#Konversi kategori/object ke angka (ordinal)\n",
    "print \"Konversi kategori/object ke angka (ordinal):\"\n",
    "\n",
    "#Cari kolom yang tipenya object, bukan integer maupun float\n",
    "object_columns=df.loc[:, df.dtypes == object].columns\n",
    "\n",
    "for col in object_columns:\n",
    "    print col\n",
    "    le=LabelEncoder()\n",
    "    # Konversi deh\n",
    "    df[col]=le.fit_transform(df[col])\n",
    "    \n",
    "if 'orderID' in df.columns:\n",
    "    del df['orderID']"
   ]
  },
  {
   "cell_type": "code",
   "execution_count": 6,
   "metadata": {
    "collapsed": false
   },
   "outputs": [],
   "source": [
    "# Turunin presisi, iseng-iseng aja\n",
    "float_64_columns = df.loc[:, df.dtypes == np.float64].columns\n",
    "for col in float_64_columns:\n",
    "    df[col] = df[col].astype(np.float16)\n",
    "\n",
    "int_64_columns = df.loc[:, df.dtypes == np.int64].columns\n",
    "for col in int_64_columns:\n",
    "    df[col] = df[col].astype(np.int32)\n",
    "    \n",
    "\n",
    "# Impute\n",
    "df.rrp.fillna(df.rrp.median(), inplace=True)\n",
    "df.productGroup.fillna(0, inplace=True)\n",
    "\n",
    "\n",
    "Xdf=df.drop([label, \"colorCode\",'customerID'], axis=1)\n",
    "\n",
    "X=Xdf.values\n",
    "y=df.returnQuantity.values\n",
    "\n",
    "X_train, X_test, y_train, y_test = train_test_split(X, y, test_size=0.15, random_state=42)"
   ]
  },
  {
   "cell_type": "code",
   "execution_count": 7,
   "metadata": {
    "collapsed": false
   },
   "outputs": [
    {
     "name": "stdout",
     "output_type": "stream",
     "text": [
      "[[117425  50321     28      0      0      0]\n",
      " [ 32142 148225     13      0      0      0]\n",
      " [     6    557     23      0      0      0]\n",
      " [     0     11     14      0      0      0]\n",
      " [     0      1      3      1      0      0]\n",
      " [     0      0      4      1      0      0]]\n",
      "83161\n"
     ]
    }
   ],
   "source": [
    "lr=LinearRegression(n_jobs=-1, normalize=True)\n",
    "lr.fit(X_train, y_train)\n",
    "y_pred=lr.predict(X_test)\n",
    "y_pred=np.array([round(yp) for yp in y_pred], dtype=np.int8)\n",
    "y_pred[y_pred<0]=0\n",
    "print confusion_matrix(y_test,y_pred)\n",
    "print dmc_error(y_test,y_pred)"
   ]
  },
  {
   "cell_type": "markdown",
   "metadata": {},
   "source": [
    "# 83213"
   ]
  },
  {
   "cell_type": "code",
   "execution_count": 8,
   "metadata": {
    "collapsed": false
   },
   "outputs": [],
   "source": [
    "# rfr=RandomForestRegressor(20, n_jobs=3)\n",
    "# rfr.fit(X_train, y_train)\n",
    "# y_pred_rfr=rfr.predict(X_test)\n",
    "# y_pred_rfr=np.array([round(yp) for yp in y_pred_rfr], dtype=np.int8)\n",
    "# y_pred_rfr[y_pred_rfr<0]=0\n",
    "# print confusion_matrix(y_test,y_pred_rfr)\n",
    "# print dmc_error(y_test,y_pred_rfr)"
   ]
  },
  {
   "cell_type": "code",
   "execution_count": 9,
   "metadata": {
    "collapsed": false
   },
   "outputs": [],
   "source": [
    "# feature_importances(Xdf, rfr)"
   ]
  },
  {
   "cell_type": "code",
   "execution_count": 10,
   "metadata": {
    "collapsed": false
   },
   "outputs": [],
   "source": [
    "# y_pred_ens=(1*rfr.predict(X_test) + 9*model.predict(X_test))/10\n",
    "# y_pred_ens=np.array([round(yp) for yp in y_pred_ens], dtype=np.int8)\n",
    "# y_pred_ens[y_pred_ens<0]=0\n",
    "# print confusion_matrix(y_test,y_pred_ens)\n",
    "# print dmc_error(y_test,y_pred_ens)"
   ]
  },
  {
   "cell_type": "markdown",
   "metadata": {},
   "source": [
    "```\n",
    "\n",
    "```"
   ]
  }
 ],
 "metadata": {
  "kernelspec": {
   "display_name": "Python 2",
   "language": "python",
   "name": "python2"
  }
 },
 "nbformat": 4,
 "nbformat_minor": 0
}
